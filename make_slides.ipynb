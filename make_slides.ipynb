{
 "cells": [
  {
   "cell_type": "code",
   "execution_count": 1,
   "metadata": {
    "slideshow": {
     "slide_type": "skip"
    }
   },
   "outputs": [
    {
     "data": {
      "text/html": [
       "        <script type=\"text/javascript\">\n",
       "        window.PlotlyConfig = {MathJaxConfig: 'local'};\n",
       "        if (window.MathJax) {MathJax.Hub.Config({SVG: {font: \"STIX-Web\"}});}\n",
       "        if (typeof require !== 'undefined') {\n",
       "        require.undef(\"plotly\");\n",
       "        requirejs.config({\n",
       "            paths: {\n",
       "                'plotly': ['https://cdn.plot.ly/plotly-latest.min']\n",
       "            }\n",
       "        });\n",
       "        require(['plotly'], function(Plotly) {\n",
       "            window._Plotly = Plotly;\n",
       "        });\n",
       "        }\n",
       "        </script>\n",
       "        "
      ]
     },
     "metadata": {},
     "output_type": "display_data"
    }
   ],
   "source": [
    "import numpy as np\n",
    "import pandas as pd\n",
    "import matplotlib.pyplot as plt\n",
    "from pandas import Series, DataFrame\n",
    "from pandas.plotting import parallel_coordinates\n",
    "import pytz, nltk\n",
    "from pytz import common_timezones, all_timezones\n",
    "\n",
    "import scipy as sp\n",
    "import scipy.stats as stats\n",
    "import pylab\n",
    "\n",
    "\n",
    "\n",
    "import matplotlib\n",
    "matplotlib.style.use('ggplot')\n",
    "%matplotlib inline\n",
    "from datetime import datetime\n",
    "import scipy as sp\n",
    "matplotlib.style.use('seaborn-talk')\n",
    "matplotlib.style.use('fivethirtyeight');\n",
    "\n",
    "\n",
    "import scipy\n",
    "import os\n",
    "import plotly\n",
    "plotly.offline.init_notebook_mode(connected=True)"
   ]
  },
  {
   "cell_type": "markdown",
   "metadata": {
    "slideshow": {
     "slide_type": "skip"
    }
   },
   "source": [
    "# Load Training Data"
   ]
  },
  {
   "cell_type": "code",
   "execution_count": 2,
   "metadata": {
    "slideshow": {
     "slide_type": "skip"
    }
   },
   "outputs": [],
   "source": [
    "import sqlite3\n",
    "\n",
    "with sqlite3.connect('turbofandata.db') as connection:\n",
    "    dftrain = pd.read_sql('SELECT * from dftrain', connection)"
   ]
  },
  {
   "cell_type": "markdown",
   "metadata": {
    "slideshow": {
     "slide_type": "slide"
    }
   },
   "source": [
    "# Survival Analysis for Predictive Analysis\n",
    "\n",
    "Use the turbofan dataset from the NASA Prognostics Center of Excellence.\n",
    "This data set consists of four types, each with their own set of failure modes.\n",
    "Each row is a snapshot of data taken during a single operational cycle, each column is a different variable. \n",
    "```\n",
    "1)  unit number\n",
    "2)  time, in cycles\n",
    "3)  operational setting 1\n",
    "4)  operational setting 2\n",
    "5)  operational setting 3\n",
    "6)  sensor measurement  1\n",
    "7)  sensor measurement  2\n",
    "...\n",
    "26) sensor measurement  26\n",
    "```"
   ]
  },
  {
   "cell_type": "markdown",
   "metadata": {
    "slideshow": {
     "slide_type": "slide"
    }
   },
   "source": [
    "Each row corresponds to a set of sensor values, a slice at a particular point in time. But what matters is not what time it is, based on some arbitrary origin.\n",
    "What matters is the \"Remaining Useful Life\" (RUL) for each row of sensor readings.\n"
   ]
  },
  {
   "cell_type": "code",
   "execution_count": 3,
   "metadata": {
    "slideshow": {
     "slide_type": "fragment"
    }
   },
   "outputs": [
    {
     "data": {
      "text/html": [
       "<div>\n",
       "<style scoped>\n",
       "    .dataframe tbody tr th:only-of-type {\n",
       "        vertical-align: middle;\n",
       "    }\n",
       "\n",
       "    .dataframe tbody tr th {\n",
       "        vertical-align: top;\n",
       "    }\n",
       "\n",
       "    .dataframe thead th {\n",
       "        text-align: right;\n",
       "    }\n",
       "</style>\n",
       "<table border=\"1\" class=\"dataframe\">\n",
       "  <thead>\n",
       "    <tr style=\"text-align: right;\">\n",
       "      <th></th>\n",
       "      <th>unit_nr</th>\n",
       "      <th>time_cycles</th>\n",
       "      <th>setting_1</th>\n",
       "      <th>setting_2</th>\n",
       "      <th>setting_3</th>\n",
       "      <th>s_1</th>\n",
       "      <th>s_2</th>\n",
       "      <th>s_3</th>\n",
       "      <th>s_4</th>\n",
       "      <th>s_5</th>\n",
       "      <th>...</th>\n",
       "      <th>s_15</th>\n",
       "      <th>s_16</th>\n",
       "      <th>s_17</th>\n",
       "      <th>s_18</th>\n",
       "      <th>s_19</th>\n",
       "      <th>s_20</th>\n",
       "      <th>s_21</th>\n",
       "      <th>RUL</th>\n",
       "      <th>breakdown</th>\n",
       "      <th>id</th>\n",
       "    </tr>\n",
       "  </thead>\n",
       "  <tbody>\n",
       "    <tr>\n",
       "      <th>0</th>\n",
       "      <td>1</td>\n",
       "      <td>1</td>\n",
       "      <td>-0.0007</td>\n",
       "      <td>-0.0004</td>\n",
       "      <td>100.0</td>\n",
       "      <td>518.67</td>\n",
       "      <td>641.82</td>\n",
       "      <td>1589.70</td>\n",
       "      <td>1400.60</td>\n",
       "      <td>14.62</td>\n",
       "      <td>...</td>\n",
       "      <td>8.4195</td>\n",
       "      <td>0.03</td>\n",
       "      <td>392</td>\n",
       "      <td>2388</td>\n",
       "      <td>100.0</td>\n",
       "      <td>39.06</td>\n",
       "      <td>23.4190</td>\n",
       "      <td>191</td>\n",
       "      <td>0</td>\n",
       "      <td>1fd_001</td>\n",
       "    </tr>\n",
       "    <tr>\n",
       "      <th>1</th>\n",
       "      <td>1</td>\n",
       "      <td>2</td>\n",
       "      <td>0.0019</td>\n",
       "      <td>-0.0003</td>\n",
       "      <td>100.0</td>\n",
       "      <td>518.67</td>\n",
       "      <td>642.15</td>\n",
       "      <td>1591.82</td>\n",
       "      <td>1403.14</td>\n",
       "      <td>14.62</td>\n",
       "      <td>...</td>\n",
       "      <td>8.4318</td>\n",
       "      <td>0.03</td>\n",
       "      <td>392</td>\n",
       "      <td>2388</td>\n",
       "      <td>100.0</td>\n",
       "      <td>39.00</td>\n",
       "      <td>23.4236</td>\n",
       "      <td>190</td>\n",
       "      <td>0</td>\n",
       "      <td>1fd_001</td>\n",
       "    </tr>\n",
       "    <tr>\n",
       "      <th>2</th>\n",
       "      <td>1</td>\n",
       "      <td>3</td>\n",
       "      <td>-0.0043</td>\n",
       "      <td>0.0003</td>\n",
       "      <td>100.0</td>\n",
       "      <td>518.67</td>\n",
       "      <td>642.35</td>\n",
       "      <td>1587.99</td>\n",
       "      <td>1404.20</td>\n",
       "      <td>14.62</td>\n",
       "      <td>...</td>\n",
       "      <td>8.4178</td>\n",
       "      <td>0.03</td>\n",
       "      <td>390</td>\n",
       "      <td>2388</td>\n",
       "      <td>100.0</td>\n",
       "      <td>38.95</td>\n",
       "      <td>23.3442</td>\n",
       "      <td>189</td>\n",
       "      <td>0</td>\n",
       "      <td>1fd_001</td>\n",
       "    </tr>\n",
       "    <tr>\n",
       "      <th>3</th>\n",
       "      <td>1</td>\n",
       "      <td>4</td>\n",
       "      <td>0.0007</td>\n",
       "      <td>0.0000</td>\n",
       "      <td>100.0</td>\n",
       "      <td>518.67</td>\n",
       "      <td>642.35</td>\n",
       "      <td>1582.79</td>\n",
       "      <td>1401.87</td>\n",
       "      <td>14.62</td>\n",
       "      <td>...</td>\n",
       "      <td>8.3682</td>\n",
       "      <td>0.03</td>\n",
       "      <td>392</td>\n",
       "      <td>2388</td>\n",
       "      <td>100.0</td>\n",
       "      <td>38.88</td>\n",
       "      <td>23.3739</td>\n",
       "      <td>188</td>\n",
       "      <td>0</td>\n",
       "      <td>1fd_001</td>\n",
       "    </tr>\n",
       "    <tr>\n",
       "      <th>4</th>\n",
       "      <td>1</td>\n",
       "      <td>5</td>\n",
       "      <td>-0.0019</td>\n",
       "      <td>-0.0002</td>\n",
       "      <td>100.0</td>\n",
       "      <td>518.67</td>\n",
       "      <td>642.37</td>\n",
       "      <td>1582.85</td>\n",
       "      <td>1406.22</td>\n",
       "      <td>14.62</td>\n",
       "      <td>...</td>\n",
       "      <td>8.4294</td>\n",
       "      <td>0.03</td>\n",
       "      <td>393</td>\n",
       "      <td>2388</td>\n",
       "      <td>100.0</td>\n",
       "      <td>38.90</td>\n",
       "      <td>23.4044</td>\n",
       "      <td>187</td>\n",
       "      <td>0</td>\n",
       "      <td>1fd_001</td>\n",
       "    </tr>\n",
       "  </tbody>\n",
       "</table>\n",
       "<p>5 rows × 29 columns</p>\n",
       "</div>"
      ],
      "text/plain": [
       "   unit_nr  time_cycles  setting_1  setting_2  setting_3     s_1     s_2  \\\n",
       "0        1            1    -0.0007    -0.0004      100.0  518.67  641.82   \n",
       "1        1            2     0.0019    -0.0003      100.0  518.67  642.15   \n",
       "2        1            3    -0.0043     0.0003      100.0  518.67  642.35   \n",
       "3        1            4     0.0007     0.0000      100.0  518.67  642.35   \n",
       "4        1            5    -0.0019    -0.0002      100.0  518.67  642.37   \n",
       "\n",
       "       s_3      s_4    s_5  ...    s_15  s_16  s_17  s_18   s_19   s_20  \\\n",
       "0  1589.70  1400.60  14.62  ...  8.4195  0.03   392  2388  100.0  39.06   \n",
       "1  1591.82  1403.14  14.62  ...  8.4318  0.03   392  2388  100.0  39.00   \n",
       "2  1587.99  1404.20  14.62  ...  8.4178  0.03   390  2388  100.0  38.95   \n",
       "3  1582.79  1401.87  14.62  ...  8.3682  0.03   392  2388  100.0  38.88   \n",
       "4  1582.85  1406.22  14.62  ...  8.4294  0.03   393  2388  100.0  38.90   \n",
       "\n",
       "      s_21  RUL  breakdown       id  \n",
       "0  23.4190  191          0  1fd_001  \n",
       "1  23.4236  190          0  1fd_001  \n",
       "2  23.3442  189          0  1fd_001  \n",
       "3  23.3739  188          0  1fd_001  \n",
       "4  23.4044  187          0  1fd_001  \n",
       "\n",
       "[5 rows x 29 columns]"
      ]
     },
     "execution_count": 3,
     "metadata": {},
     "output_type": "execute_result"
    }
   ],
   "source": [
    "dftrain.head()"
   ]
  },
  {
   "cell_type": "markdown",
   "metadata": {
    "slideshow": {
     "slide_type": "slide"
    }
   },
   "source": [
    "Each run has a unique **id** and the last row corresponds to failure/breakdown:"
   ]
  },
  {
   "cell_type": "code",
   "execution_count": 4,
   "metadata": {
    "slideshow": {
     "slide_type": "fragment"
    }
   },
   "outputs": [
    {
     "data": {
      "text/html": [
       "<div>\n",
       "<style scoped>\n",
       "    .dataframe tbody tr th:only-of-type {\n",
       "        vertical-align: middle;\n",
       "    }\n",
       "\n",
       "    .dataframe tbody tr th {\n",
       "        vertical-align: top;\n",
       "    }\n",
       "\n",
       "    .dataframe thead th {\n",
       "        text-align: right;\n",
       "    }\n",
       "</style>\n",
       "<table border=\"1\" class=\"dataframe\">\n",
       "  <thead>\n",
       "    <tr style=\"text-align: right;\">\n",
       "      <th></th>\n",
       "      <th>unit_nr</th>\n",
       "      <th>time_cycles</th>\n",
       "      <th>setting_1</th>\n",
       "      <th>setting_2</th>\n",
       "      <th>setting_3</th>\n",
       "      <th>s_1</th>\n",
       "      <th>s_2</th>\n",
       "      <th>s_3</th>\n",
       "      <th>s_4</th>\n",
       "      <th>s_5</th>\n",
       "      <th>...</th>\n",
       "      <th>s_15</th>\n",
       "      <th>s_16</th>\n",
       "      <th>s_17</th>\n",
       "      <th>s_18</th>\n",
       "      <th>s_19</th>\n",
       "      <th>s_20</th>\n",
       "      <th>s_21</th>\n",
       "      <th>RUL</th>\n",
       "      <th>breakdown</th>\n",
       "      <th>id</th>\n",
       "    </tr>\n",
       "  </thead>\n",
       "  <tbody>\n",
       "    <tr>\n",
       "      <th>160354</th>\n",
       "      <td>249</td>\n",
       "      <td>251</td>\n",
       "      <td>9.9998</td>\n",
       "      <td>0.2500</td>\n",
       "      <td>100.0</td>\n",
       "      <td>489.05</td>\n",
       "      <td>605.33</td>\n",
       "      <td>1516.36</td>\n",
       "      <td>1315.28</td>\n",
       "      <td>10.52</td>\n",
       "      <td>...</td>\n",
       "      <td>8.4541</td>\n",
       "      <td>0.03</td>\n",
       "      <td>372</td>\n",
       "      <td>2319</td>\n",
       "      <td>100.0</td>\n",
       "      <td>29.11</td>\n",
       "      <td>17.5234</td>\n",
       "      <td>4</td>\n",
       "      <td>0</td>\n",
       "      <td>249fd_004</td>\n",
       "    </tr>\n",
       "    <tr>\n",
       "      <th>160355</th>\n",
       "      <td>249</td>\n",
       "      <td>252</td>\n",
       "      <td>0.0028</td>\n",
       "      <td>0.0015</td>\n",
       "      <td>100.0</td>\n",
       "      <td>518.67</td>\n",
       "      <td>643.42</td>\n",
       "      <td>1598.92</td>\n",
       "      <td>1426.77</td>\n",
       "      <td>14.62</td>\n",
       "      <td>...</td>\n",
       "      <td>8.2221</td>\n",
       "      <td>0.03</td>\n",
       "      <td>396</td>\n",
       "      <td>2388</td>\n",
       "      <td>100.0</td>\n",
       "      <td>39.38</td>\n",
       "      <td>23.7151</td>\n",
       "      <td>3</td>\n",
       "      <td>0</td>\n",
       "      <td>249fd_004</td>\n",
       "    </tr>\n",
       "    <tr>\n",
       "      <th>160356</th>\n",
       "      <td>249</td>\n",
       "      <td>253</td>\n",
       "      <td>0.0029</td>\n",
       "      <td>0.0000</td>\n",
       "      <td>100.0</td>\n",
       "      <td>518.67</td>\n",
       "      <td>643.68</td>\n",
       "      <td>1607.72</td>\n",
       "      <td>1430.56</td>\n",
       "      <td>14.62</td>\n",
       "      <td>...</td>\n",
       "      <td>8.2525</td>\n",
       "      <td>0.03</td>\n",
       "      <td>395</td>\n",
       "      <td>2388</td>\n",
       "      <td>100.0</td>\n",
       "      <td>39.78</td>\n",
       "      <td>23.8270</td>\n",
       "      <td>2</td>\n",
       "      <td>0</td>\n",
       "      <td>249fd_004</td>\n",
       "    </tr>\n",
       "    <tr>\n",
       "      <th>160357</th>\n",
       "      <td>249</td>\n",
       "      <td>254</td>\n",
       "      <td>35.0046</td>\n",
       "      <td>0.8400</td>\n",
       "      <td>100.0</td>\n",
       "      <td>449.44</td>\n",
       "      <td>555.77</td>\n",
       "      <td>1381.29</td>\n",
       "      <td>1148.18</td>\n",
       "      <td>5.48</td>\n",
       "      <td>...</td>\n",
       "      <td>9.0515</td>\n",
       "      <td>0.02</td>\n",
       "      <td>337</td>\n",
       "      <td>2223</td>\n",
       "      <td>100.0</td>\n",
       "      <td>15.26</td>\n",
       "      <td>9.0774</td>\n",
       "      <td>1</td>\n",
       "      <td>0</td>\n",
       "      <td>249fd_004</td>\n",
       "    </tr>\n",
       "    <tr>\n",
       "      <th>160358</th>\n",
       "      <td>249</td>\n",
       "      <td>255</td>\n",
       "      <td>42.0030</td>\n",
       "      <td>0.8400</td>\n",
       "      <td>100.0</td>\n",
       "      <td>445.00</td>\n",
       "      <td>549.85</td>\n",
       "      <td>1369.75</td>\n",
       "      <td>1147.45</td>\n",
       "      <td>3.91</td>\n",
       "      <td>...</td>\n",
       "      <td>9.1207</td>\n",
       "      <td>0.02</td>\n",
       "      <td>333</td>\n",
       "      <td>2212</td>\n",
       "      <td>100.0</td>\n",
       "      <td>10.66</td>\n",
       "      <td>6.4341</td>\n",
       "      <td>0</td>\n",
       "      <td>1</td>\n",
       "      <td>249fd_004</td>\n",
       "    </tr>\n",
       "  </tbody>\n",
       "</table>\n",
       "<p>5 rows × 29 columns</p>\n",
       "</div>"
      ],
      "text/plain": [
       "        unit_nr  time_cycles  setting_1  setting_2  setting_3     s_1     s_2  \\\n",
       "160354      249          251     9.9998     0.2500      100.0  489.05  605.33   \n",
       "160355      249          252     0.0028     0.0015      100.0  518.67  643.42   \n",
       "160356      249          253     0.0029     0.0000      100.0  518.67  643.68   \n",
       "160357      249          254    35.0046     0.8400      100.0  449.44  555.77   \n",
       "160358      249          255    42.0030     0.8400      100.0  445.00  549.85   \n",
       "\n",
       "            s_3      s_4    s_5  ...    s_15  s_16  s_17  s_18   s_19   s_20  \\\n",
       "160354  1516.36  1315.28  10.52  ...  8.4541  0.03   372  2319  100.0  29.11   \n",
       "160355  1598.92  1426.77  14.62  ...  8.2221  0.03   396  2388  100.0  39.38   \n",
       "160356  1607.72  1430.56  14.62  ...  8.2525  0.03   395  2388  100.0  39.78   \n",
       "160357  1381.29  1148.18   5.48  ...  9.0515  0.02   337  2223  100.0  15.26   \n",
       "160358  1369.75  1147.45   3.91  ...  9.1207  0.02   333  2212  100.0  10.66   \n",
       "\n",
       "           s_21  RUL  breakdown         id  \n",
       "160354  17.5234    4          0  249fd_004  \n",
       "160355  23.7151    3          0  249fd_004  \n",
       "160356  23.8270    2          0  249fd_004  \n",
       "160357   9.0774    1          0  249fd_004  \n",
       "160358   6.4341    0          1  249fd_004  \n",
       "\n",
       "[5 rows x 29 columns]"
      ]
     },
     "execution_count": 4,
     "metadata": {},
     "output_type": "execute_result"
    }
   ],
   "source": [
    "dftrain.tail()"
   ]
  },
  {
   "cell_type": "markdown",
   "metadata": {
    "slideshow": {
     "slide_type": "slide"
    }
   },
   "source": [
    "# Neural Network\n",
    "\n",
    "Use a NN to train a classfier with a new type of target. Instead of **breakdown**, make a new binary target capturing whether it will fail within the next TTF **time_cycles** (Time to Failure)"
   ]
  },
  {
   "cell_type": "code",
   "execution_count": 5,
   "metadata": {
    "slideshow": {
     "slide_type": "skip"
    }
   },
   "outputs": [
    {
     "data": {
      "text/html": [
       "<div>\n",
       "<style scoped>\n",
       "    .dataframe tbody tr th:only-of-type {\n",
       "        vertical-align: middle;\n",
       "    }\n",
       "\n",
       "    .dataframe tbody tr th {\n",
       "        vertical-align: top;\n",
       "    }\n",
       "\n",
       "    .dataframe thead th {\n",
       "        text-align: right;\n",
       "    }\n",
       "</style>\n",
       "<table border=\"1\" class=\"dataframe\">\n",
       "  <thead>\n",
       "    <tr style=\"text-align: right;\">\n",
       "      <th></th>\n",
       "      <th>unit_nr</th>\n",
       "      <th>time_cycles</th>\n",
       "      <th>setting_1</th>\n",
       "      <th>setting_2</th>\n",
       "      <th>setting_3</th>\n",
       "      <th>s_1</th>\n",
       "      <th>s_2</th>\n",
       "      <th>s_3</th>\n",
       "      <th>s_4</th>\n",
       "      <th>s_5</th>\n",
       "      <th>...</th>\n",
       "      <th>s_15</th>\n",
       "      <th>s_16</th>\n",
       "      <th>s_17</th>\n",
       "      <th>s_18</th>\n",
       "      <th>s_19</th>\n",
       "      <th>s_20</th>\n",
       "      <th>s_21</th>\n",
       "      <th>RUL</th>\n",
       "      <th>breakdown</th>\n",
       "      <th>id</th>\n",
       "    </tr>\n",
       "  </thead>\n",
       "  <tbody>\n",
       "    <tr>\n",
       "      <th>0</th>\n",
       "      <td>1</td>\n",
       "      <td>1</td>\n",
       "      <td>-0.0007</td>\n",
       "      <td>-0.0004</td>\n",
       "      <td>100.0</td>\n",
       "      <td>518.67</td>\n",
       "      <td>641.82</td>\n",
       "      <td>1589.70</td>\n",
       "      <td>1400.60</td>\n",
       "      <td>14.62</td>\n",
       "      <td>...</td>\n",
       "      <td>8.4195</td>\n",
       "      <td>0.03</td>\n",
       "      <td>392</td>\n",
       "      <td>2388</td>\n",
       "      <td>100.0</td>\n",
       "      <td>39.06</td>\n",
       "      <td>23.4190</td>\n",
       "      <td>191</td>\n",
       "      <td>0</td>\n",
       "      <td>1fd_001</td>\n",
       "    </tr>\n",
       "    <tr>\n",
       "      <th>1</th>\n",
       "      <td>1</td>\n",
       "      <td>2</td>\n",
       "      <td>0.0019</td>\n",
       "      <td>-0.0003</td>\n",
       "      <td>100.0</td>\n",
       "      <td>518.67</td>\n",
       "      <td>642.15</td>\n",
       "      <td>1591.82</td>\n",
       "      <td>1403.14</td>\n",
       "      <td>14.62</td>\n",
       "      <td>...</td>\n",
       "      <td>8.4318</td>\n",
       "      <td>0.03</td>\n",
       "      <td>392</td>\n",
       "      <td>2388</td>\n",
       "      <td>100.0</td>\n",
       "      <td>39.00</td>\n",
       "      <td>23.4236</td>\n",
       "      <td>190</td>\n",
       "      <td>0</td>\n",
       "      <td>1fd_001</td>\n",
       "    </tr>\n",
       "    <tr>\n",
       "      <th>2</th>\n",
       "      <td>1</td>\n",
       "      <td>3</td>\n",
       "      <td>-0.0043</td>\n",
       "      <td>0.0003</td>\n",
       "      <td>100.0</td>\n",
       "      <td>518.67</td>\n",
       "      <td>642.35</td>\n",
       "      <td>1587.99</td>\n",
       "      <td>1404.20</td>\n",
       "      <td>14.62</td>\n",
       "      <td>...</td>\n",
       "      <td>8.4178</td>\n",
       "      <td>0.03</td>\n",
       "      <td>390</td>\n",
       "      <td>2388</td>\n",
       "      <td>100.0</td>\n",
       "      <td>38.95</td>\n",
       "      <td>23.3442</td>\n",
       "      <td>189</td>\n",
       "      <td>0</td>\n",
       "      <td>1fd_001</td>\n",
       "    </tr>\n",
       "    <tr>\n",
       "      <th>3</th>\n",
       "      <td>1</td>\n",
       "      <td>4</td>\n",
       "      <td>0.0007</td>\n",
       "      <td>0.0000</td>\n",
       "      <td>100.0</td>\n",
       "      <td>518.67</td>\n",
       "      <td>642.35</td>\n",
       "      <td>1582.79</td>\n",
       "      <td>1401.87</td>\n",
       "      <td>14.62</td>\n",
       "      <td>...</td>\n",
       "      <td>8.3682</td>\n",
       "      <td>0.03</td>\n",
       "      <td>392</td>\n",
       "      <td>2388</td>\n",
       "      <td>100.0</td>\n",
       "      <td>38.88</td>\n",
       "      <td>23.3739</td>\n",
       "      <td>188</td>\n",
       "      <td>0</td>\n",
       "      <td>1fd_001</td>\n",
       "    </tr>\n",
       "    <tr>\n",
       "      <th>4</th>\n",
       "      <td>1</td>\n",
       "      <td>5</td>\n",
       "      <td>-0.0019</td>\n",
       "      <td>-0.0002</td>\n",
       "      <td>100.0</td>\n",
       "      <td>518.67</td>\n",
       "      <td>642.37</td>\n",
       "      <td>1582.85</td>\n",
       "      <td>1406.22</td>\n",
       "      <td>14.62</td>\n",
       "      <td>...</td>\n",
       "      <td>8.4294</td>\n",
       "      <td>0.03</td>\n",
       "      <td>393</td>\n",
       "      <td>2388</td>\n",
       "      <td>100.0</td>\n",
       "      <td>38.90</td>\n",
       "      <td>23.4044</td>\n",
       "      <td>187</td>\n",
       "      <td>0</td>\n",
       "      <td>1fd_001</td>\n",
       "    </tr>\n",
       "  </tbody>\n",
       "</table>\n",
       "<p>5 rows × 29 columns</p>\n",
       "</div>"
      ],
      "text/plain": [
       "   unit_nr  time_cycles  setting_1  setting_2  setting_3     s_1     s_2  \\\n",
       "0        1            1    -0.0007    -0.0004      100.0  518.67  641.82   \n",
       "1        1            2     0.0019    -0.0003      100.0  518.67  642.15   \n",
       "2        1            3    -0.0043     0.0003      100.0  518.67  642.35   \n",
       "3        1            4     0.0007     0.0000      100.0  518.67  642.35   \n",
       "4        1            5    -0.0019    -0.0002      100.0  518.67  642.37   \n",
       "\n",
       "       s_3      s_4    s_5  ...    s_15  s_16  s_17  s_18   s_19   s_20  \\\n",
       "0  1589.70  1400.60  14.62  ...  8.4195  0.03   392  2388  100.0  39.06   \n",
       "1  1591.82  1403.14  14.62  ...  8.4318  0.03   392  2388  100.0  39.00   \n",
       "2  1587.99  1404.20  14.62  ...  8.4178  0.03   390  2388  100.0  38.95   \n",
       "3  1582.79  1401.87  14.62  ...  8.3682  0.03   392  2388  100.0  38.88   \n",
       "4  1582.85  1406.22  14.62  ...  8.4294  0.03   393  2388  100.0  38.90   \n",
       "\n",
       "      s_21  RUL  breakdown       id  \n",
       "0  23.4190  191          0  1fd_001  \n",
       "1  23.4236  190          0  1fd_001  \n",
       "2  23.3442  189          0  1fd_001  \n",
       "3  23.3739  188          0  1fd_001  \n",
       "4  23.4044  187          0  1fd_001  \n",
       "\n",
       "[5 rows x 29 columns]"
      ]
     },
     "execution_count": 5,
     "metadata": {},
     "output_type": "execute_result"
    }
   ],
   "source": [
    "dftrain.head()"
   ]
  },
  {
   "cell_type": "code",
   "execution_count": 6,
   "metadata": {
    "slideshow": {
     "slide_type": "skip"
    }
   },
   "outputs": [
    {
     "data": {
      "text/plain": [
       "Index(['unit_nr', 'time_cycles', 'setting_1', 'setting_2', 'setting_3', 's_1',\n",
       "       's_2', 's_3', 's_4', 's_5', 's_6', 's_7', 's_8', 's_9', 's_10', 's_11',\n",
       "       's_12', 's_13', 's_14', 's_15', 's_16', 's_17', 's_18', 's_19', 's_20',\n",
       "       's_21', 'RUL', 'breakdown', 'id'],\n",
       "      dtype='object')"
      ]
     },
     "execution_count": 6,
     "metadata": {},
     "output_type": "execute_result"
    }
   ],
   "source": [
    "dftrain.columns"
   ]
  },
  {
   "cell_type": "code",
   "execution_count": 7,
   "metadata": {
    "slideshow": {
     "slide_type": "skip"
    }
   },
   "outputs": [],
   "source": [
    "TTF = 10 # Can change this to get more or less \"lead time\"; ideally want it to be as large as possible\n",
    "# as large as the data supports ; as long as there are patterns in the data that the NN can leverge to\n",
    "# produce a highly/eerily accurate model."
   ]
  },
  {
   "cell_type": "markdown",
   "metadata": {
    "slideshow": {
     "slide_type": "fragment"
    }
   },
   "source": [
    "**RUL** = Remaining Useful Life\n",
    "\n",
    "The new **label** target is 1 whenever the Remaining Useful Life is less than TTF, and 0 otherwise."
   ]
  },
  {
   "cell_type": "code",
   "execution_count": 8,
   "metadata": {
    "slideshow": {
     "slide_type": "fragment"
    }
   },
   "outputs": [],
   "source": [
    "TTF = 10 # Can change this parameter to get more or less \"lead time\"\n",
    "# if the data has a enough pre-cursor signal, you can increase TTF\n",
    "# whether there is enough signal is determined by the evalation\n",
    "# metrics of the predictive model\n",
    "dftrain['label'] = np.where(dftrain['RUL'] <= TTF, 1, 0 )\n",
    "#dftrain.tail(15)"
   ]
  },
  {
   "cell_type": "code",
   "execution_count": 9,
   "metadata": {
    "slideshow": {
     "slide_type": "slide"
    }
   },
   "outputs": [
    {
     "data": {
      "text/html": [
       "<div>\n",
       "<style scoped>\n",
       "    .dataframe tbody tr th:only-of-type {\n",
       "        vertical-align: middle;\n",
       "    }\n",
       "\n",
       "    .dataframe tbody tr th {\n",
       "        vertical-align: top;\n",
       "    }\n",
       "\n",
       "    .dataframe thead th {\n",
       "        text-align: right;\n",
       "    }\n",
       "</style>\n",
       "<table border=\"1\" class=\"dataframe\">\n",
       "  <thead>\n",
       "    <tr style=\"text-align: right;\">\n",
       "      <th></th>\n",
       "      <th>unit_nr</th>\n",
       "      <th>time_cycles</th>\n",
       "      <th>setting_1</th>\n",
       "      <th>setting_2</th>\n",
       "      <th>setting_3</th>\n",
       "      <th>s_1</th>\n",
       "      <th>s_2</th>\n",
       "      <th>s_3</th>\n",
       "      <th>s_4</th>\n",
       "      <th>s_5</th>\n",
       "      <th>...</th>\n",
       "      <th>s_16</th>\n",
       "      <th>s_17</th>\n",
       "      <th>s_18</th>\n",
       "      <th>s_19</th>\n",
       "      <th>s_20</th>\n",
       "      <th>s_21</th>\n",
       "      <th>RUL</th>\n",
       "      <th>breakdown</th>\n",
       "      <th>id</th>\n",
       "      <th>label</th>\n",
       "    </tr>\n",
       "  </thead>\n",
       "  <tbody>\n",
       "    <tr>\n",
       "      <th>160344</th>\n",
       "      <td>249</td>\n",
       "      <td>241</td>\n",
       "      <td>20.0022</td>\n",
       "      <td>0.7003</td>\n",
       "      <td>100.0</td>\n",
       "      <td>491.19</td>\n",
       "      <td>607.48</td>\n",
       "      <td>1491.67</td>\n",
       "      <td>1258.61</td>\n",
       "      <td>9.35</td>\n",
       "      <td>...</td>\n",
       "      <td>0.03</td>\n",
       "      <td>367</td>\n",
       "      <td>2324</td>\n",
       "      <td>100.00</td>\n",
       "      <td>24.75</td>\n",
       "      <td>14.9042</td>\n",
       "      <td>14</td>\n",
       "      <td>0</td>\n",
       "      <td>249fd_004</td>\n",
       "      <td>0</td>\n",
       "    </tr>\n",
       "    <tr>\n",
       "      <th>160345</th>\n",
       "      <td>249</td>\n",
       "      <td>242</td>\n",
       "      <td>9.9980</td>\n",
       "      <td>0.2500</td>\n",
       "      <td>100.0</td>\n",
       "      <td>489.05</td>\n",
       "      <td>605.18</td>\n",
       "      <td>1504.41</td>\n",
       "      <td>1319.18</td>\n",
       "      <td>10.52</td>\n",
       "      <td>...</td>\n",
       "      <td>0.03</td>\n",
       "      <td>371</td>\n",
       "      <td>2319</td>\n",
       "      <td>100.00</td>\n",
       "      <td>28.97</td>\n",
       "      <td>17.3846</td>\n",
       "      <td>13</td>\n",
       "      <td>0</td>\n",
       "      <td>249fd_004</td>\n",
       "      <td>0</td>\n",
       "    </tr>\n",
       "    <tr>\n",
       "      <th>160346</th>\n",
       "      <td>249</td>\n",
       "      <td>243</td>\n",
       "      <td>35.0048</td>\n",
       "      <td>0.8400</td>\n",
       "      <td>100.0</td>\n",
       "      <td>449.44</td>\n",
       "      <td>555.96</td>\n",
       "      <td>1371.87</td>\n",
       "      <td>1146.58</td>\n",
       "      <td>5.48</td>\n",
       "      <td>...</td>\n",
       "      <td>0.02</td>\n",
       "      <td>336</td>\n",
       "      <td>2223</td>\n",
       "      <td>100.00</td>\n",
       "      <td>14.88</td>\n",
       "      <td>9.0603</td>\n",
       "      <td>12</td>\n",
       "      <td>0</td>\n",
       "      <td>249fd_004</td>\n",
       "      <td>0</td>\n",
       "    </tr>\n",
       "    <tr>\n",
       "      <th>160347</th>\n",
       "      <td>249</td>\n",
       "      <td>244</td>\n",
       "      <td>41.9990</td>\n",
       "      <td>0.8406</td>\n",
       "      <td>100.0</td>\n",
       "      <td>445.00</td>\n",
       "      <td>549.17</td>\n",
       "      <td>1366.56</td>\n",
       "      <td>1140.47</td>\n",
       "      <td>3.91</td>\n",
       "      <td>...</td>\n",
       "      <td>0.02</td>\n",
       "      <td>334</td>\n",
       "      <td>2212</td>\n",
       "      <td>100.00</td>\n",
       "      <td>10.64</td>\n",
       "      <td>6.4689</td>\n",
       "      <td>11</td>\n",
       "      <td>0</td>\n",
       "      <td>249fd_004</td>\n",
       "      <td>0</td>\n",
       "    </tr>\n",
       "    <tr>\n",
       "      <th>160348</th>\n",
       "      <td>249</td>\n",
       "      <td>245</td>\n",
       "      <td>42.0009</td>\n",
       "      <td>0.8400</td>\n",
       "      <td>100.0</td>\n",
       "      <td>445.00</td>\n",
       "      <td>549.68</td>\n",
       "      <td>1364.54</td>\n",
       "      <td>1140.37</td>\n",
       "      <td>3.91</td>\n",
       "      <td>...</td>\n",
       "      <td>0.02</td>\n",
       "      <td>334</td>\n",
       "      <td>2212</td>\n",
       "      <td>100.00</td>\n",
       "      <td>10.65</td>\n",
       "      <td>6.4700</td>\n",
       "      <td>10</td>\n",
       "      <td>0</td>\n",
       "      <td>249fd_004</td>\n",
       "      <td>1</td>\n",
       "    </tr>\n",
       "    <tr>\n",
       "      <th>160349</th>\n",
       "      <td>249</td>\n",
       "      <td>246</td>\n",
       "      <td>42.0049</td>\n",
       "      <td>0.8400</td>\n",
       "      <td>100.0</td>\n",
       "      <td>445.00</td>\n",
       "      <td>549.66</td>\n",
       "      <td>1360.69</td>\n",
       "      <td>1143.75</td>\n",
       "      <td>3.91</td>\n",
       "      <td>...</td>\n",
       "      <td>0.02</td>\n",
       "      <td>335</td>\n",
       "      <td>2212</td>\n",
       "      <td>100.00</td>\n",
       "      <td>10.74</td>\n",
       "      <td>6.4258</td>\n",
       "      <td>9</td>\n",
       "      <td>0</td>\n",
       "      <td>249fd_004</td>\n",
       "      <td>1</td>\n",
       "    </tr>\n",
       "    <tr>\n",
       "      <th>160350</th>\n",
       "      <td>249</td>\n",
       "      <td>247</td>\n",
       "      <td>41.9997</td>\n",
       "      <td>0.8409</td>\n",
       "      <td>100.0</td>\n",
       "      <td>445.00</td>\n",
       "      <td>549.79</td>\n",
       "      <td>1359.28</td>\n",
       "      <td>1139.92</td>\n",
       "      <td>3.91</td>\n",
       "      <td>...</td>\n",
       "      <td>0.02</td>\n",
       "      <td>334</td>\n",
       "      <td>2212</td>\n",
       "      <td>100.00</td>\n",
       "      <td>10.71</td>\n",
       "      <td>6.4422</td>\n",
       "      <td>8</td>\n",
       "      <td>0</td>\n",
       "      <td>249fd_004</td>\n",
       "      <td>1</td>\n",
       "    </tr>\n",
       "    <tr>\n",
       "      <th>160351</th>\n",
       "      <td>249</td>\n",
       "      <td>248</td>\n",
       "      <td>20.0016</td>\n",
       "      <td>0.7011</td>\n",
       "      <td>100.0</td>\n",
       "      <td>491.19</td>\n",
       "      <td>607.49</td>\n",
       "      <td>1494.10</td>\n",
       "      <td>1265.20</td>\n",
       "      <td>9.35</td>\n",
       "      <td>...</td>\n",
       "      <td>0.03</td>\n",
       "      <td>368</td>\n",
       "      <td>2324</td>\n",
       "      <td>100.00</td>\n",
       "      <td>24.89</td>\n",
       "      <td>14.9015</td>\n",
       "      <td>7</td>\n",
       "      <td>0</td>\n",
       "      <td>249fd_004</td>\n",
       "      <td>1</td>\n",
       "    </tr>\n",
       "    <tr>\n",
       "      <th>160352</th>\n",
       "      <td>249</td>\n",
       "      <td>249</td>\n",
       "      <td>42.0046</td>\n",
       "      <td>0.8405</td>\n",
       "      <td>100.0</td>\n",
       "      <td>445.00</td>\n",
       "      <td>549.34</td>\n",
       "      <td>1365.59</td>\n",
       "      <td>1138.33</td>\n",
       "      <td>3.91</td>\n",
       "      <td>...</td>\n",
       "      <td>0.02</td>\n",
       "      <td>333</td>\n",
       "      <td>2212</td>\n",
       "      <td>100.00</td>\n",
       "      <td>10.88</td>\n",
       "      <td>6.4530</td>\n",
       "      <td>6</td>\n",
       "      <td>0</td>\n",
       "      <td>249fd_004</td>\n",
       "      <td>1</td>\n",
       "    </tr>\n",
       "    <tr>\n",
       "      <th>160353</th>\n",
       "      <td>249</td>\n",
       "      <td>250</td>\n",
       "      <td>25.0000</td>\n",
       "      <td>0.6200</td>\n",
       "      <td>60.0</td>\n",
       "      <td>462.54</td>\n",
       "      <td>537.34</td>\n",
       "      <td>1269.56</td>\n",
       "      <td>1057.40</td>\n",
       "      <td>7.05</td>\n",
       "      <td>...</td>\n",
       "      <td>0.02</td>\n",
       "      <td>307</td>\n",
       "      <td>1915</td>\n",
       "      <td>84.93</td>\n",
       "      <td>14.55</td>\n",
       "      <td>8.6805</td>\n",
       "      <td>5</td>\n",
       "      <td>0</td>\n",
       "      <td>249fd_004</td>\n",
       "      <td>1</td>\n",
       "    </tr>\n",
       "    <tr>\n",
       "      <th>160354</th>\n",
       "      <td>249</td>\n",
       "      <td>251</td>\n",
       "      <td>9.9998</td>\n",
       "      <td>0.2500</td>\n",
       "      <td>100.0</td>\n",
       "      <td>489.05</td>\n",
       "      <td>605.33</td>\n",
       "      <td>1516.36</td>\n",
       "      <td>1315.28</td>\n",
       "      <td>10.52</td>\n",
       "      <td>...</td>\n",
       "      <td>0.03</td>\n",
       "      <td>372</td>\n",
       "      <td>2319</td>\n",
       "      <td>100.00</td>\n",
       "      <td>29.11</td>\n",
       "      <td>17.5234</td>\n",
       "      <td>4</td>\n",
       "      <td>0</td>\n",
       "      <td>249fd_004</td>\n",
       "      <td>1</td>\n",
       "    </tr>\n",
       "    <tr>\n",
       "      <th>160355</th>\n",
       "      <td>249</td>\n",
       "      <td>252</td>\n",
       "      <td>0.0028</td>\n",
       "      <td>0.0015</td>\n",
       "      <td>100.0</td>\n",
       "      <td>518.67</td>\n",
       "      <td>643.42</td>\n",
       "      <td>1598.92</td>\n",
       "      <td>1426.77</td>\n",
       "      <td>14.62</td>\n",
       "      <td>...</td>\n",
       "      <td>0.03</td>\n",
       "      <td>396</td>\n",
       "      <td>2388</td>\n",
       "      <td>100.00</td>\n",
       "      <td>39.38</td>\n",
       "      <td>23.7151</td>\n",
       "      <td>3</td>\n",
       "      <td>0</td>\n",
       "      <td>249fd_004</td>\n",
       "      <td>1</td>\n",
       "    </tr>\n",
       "    <tr>\n",
       "      <th>160356</th>\n",
       "      <td>249</td>\n",
       "      <td>253</td>\n",
       "      <td>0.0029</td>\n",
       "      <td>0.0000</td>\n",
       "      <td>100.0</td>\n",
       "      <td>518.67</td>\n",
       "      <td>643.68</td>\n",
       "      <td>1607.72</td>\n",
       "      <td>1430.56</td>\n",
       "      <td>14.62</td>\n",
       "      <td>...</td>\n",
       "      <td>0.03</td>\n",
       "      <td>395</td>\n",
       "      <td>2388</td>\n",
       "      <td>100.00</td>\n",
       "      <td>39.78</td>\n",
       "      <td>23.8270</td>\n",
       "      <td>2</td>\n",
       "      <td>0</td>\n",
       "      <td>249fd_004</td>\n",
       "      <td>1</td>\n",
       "    </tr>\n",
       "    <tr>\n",
       "      <th>160357</th>\n",
       "      <td>249</td>\n",
       "      <td>254</td>\n",
       "      <td>35.0046</td>\n",
       "      <td>0.8400</td>\n",
       "      <td>100.0</td>\n",
       "      <td>449.44</td>\n",
       "      <td>555.77</td>\n",
       "      <td>1381.29</td>\n",
       "      <td>1148.18</td>\n",
       "      <td>5.48</td>\n",
       "      <td>...</td>\n",
       "      <td>0.02</td>\n",
       "      <td>337</td>\n",
       "      <td>2223</td>\n",
       "      <td>100.00</td>\n",
       "      <td>15.26</td>\n",
       "      <td>9.0774</td>\n",
       "      <td>1</td>\n",
       "      <td>0</td>\n",
       "      <td>249fd_004</td>\n",
       "      <td>1</td>\n",
       "    </tr>\n",
       "    <tr>\n",
       "      <th>160358</th>\n",
       "      <td>249</td>\n",
       "      <td>255</td>\n",
       "      <td>42.0030</td>\n",
       "      <td>0.8400</td>\n",
       "      <td>100.0</td>\n",
       "      <td>445.00</td>\n",
       "      <td>549.85</td>\n",
       "      <td>1369.75</td>\n",
       "      <td>1147.45</td>\n",
       "      <td>3.91</td>\n",
       "      <td>...</td>\n",
       "      <td>0.02</td>\n",
       "      <td>333</td>\n",
       "      <td>2212</td>\n",
       "      <td>100.00</td>\n",
       "      <td>10.66</td>\n",
       "      <td>6.4341</td>\n",
       "      <td>0</td>\n",
       "      <td>1</td>\n",
       "      <td>249fd_004</td>\n",
       "      <td>1</td>\n",
       "    </tr>\n",
       "  </tbody>\n",
       "</table>\n",
       "<p>15 rows × 30 columns</p>\n",
       "</div>"
      ],
      "text/plain": [
       "        unit_nr  time_cycles  setting_1  setting_2  setting_3     s_1     s_2  \\\n",
       "160344      249          241    20.0022     0.7003      100.0  491.19  607.48   \n",
       "160345      249          242     9.9980     0.2500      100.0  489.05  605.18   \n",
       "160346      249          243    35.0048     0.8400      100.0  449.44  555.96   \n",
       "160347      249          244    41.9990     0.8406      100.0  445.00  549.17   \n",
       "160348      249          245    42.0009     0.8400      100.0  445.00  549.68   \n",
       "160349      249          246    42.0049     0.8400      100.0  445.00  549.66   \n",
       "160350      249          247    41.9997     0.8409      100.0  445.00  549.79   \n",
       "160351      249          248    20.0016     0.7011      100.0  491.19  607.49   \n",
       "160352      249          249    42.0046     0.8405      100.0  445.00  549.34   \n",
       "160353      249          250    25.0000     0.6200       60.0  462.54  537.34   \n",
       "160354      249          251     9.9998     0.2500      100.0  489.05  605.33   \n",
       "160355      249          252     0.0028     0.0015      100.0  518.67  643.42   \n",
       "160356      249          253     0.0029     0.0000      100.0  518.67  643.68   \n",
       "160357      249          254    35.0046     0.8400      100.0  449.44  555.77   \n",
       "160358      249          255    42.0030     0.8400      100.0  445.00  549.85   \n",
       "\n",
       "            s_3      s_4    s_5  ...  s_16  s_17  s_18    s_19   s_20  \\\n",
       "160344  1491.67  1258.61   9.35  ...  0.03   367  2324  100.00  24.75   \n",
       "160345  1504.41  1319.18  10.52  ...  0.03   371  2319  100.00  28.97   \n",
       "160346  1371.87  1146.58   5.48  ...  0.02   336  2223  100.00  14.88   \n",
       "160347  1366.56  1140.47   3.91  ...  0.02   334  2212  100.00  10.64   \n",
       "160348  1364.54  1140.37   3.91  ...  0.02   334  2212  100.00  10.65   \n",
       "160349  1360.69  1143.75   3.91  ...  0.02   335  2212  100.00  10.74   \n",
       "160350  1359.28  1139.92   3.91  ...  0.02   334  2212  100.00  10.71   \n",
       "160351  1494.10  1265.20   9.35  ...  0.03   368  2324  100.00  24.89   \n",
       "160352  1365.59  1138.33   3.91  ...  0.02   333  2212  100.00  10.88   \n",
       "160353  1269.56  1057.40   7.05  ...  0.02   307  1915   84.93  14.55   \n",
       "160354  1516.36  1315.28  10.52  ...  0.03   372  2319  100.00  29.11   \n",
       "160355  1598.92  1426.77  14.62  ...  0.03   396  2388  100.00  39.38   \n",
       "160356  1607.72  1430.56  14.62  ...  0.03   395  2388  100.00  39.78   \n",
       "160357  1381.29  1148.18   5.48  ...  0.02   337  2223  100.00  15.26   \n",
       "160358  1369.75  1147.45   3.91  ...  0.02   333  2212  100.00  10.66   \n",
       "\n",
       "           s_21  RUL  breakdown         id  label  \n",
       "160344  14.9042   14          0  249fd_004      0  \n",
       "160345  17.3846   13          0  249fd_004      0  \n",
       "160346   9.0603   12          0  249fd_004      0  \n",
       "160347   6.4689   11          0  249fd_004      0  \n",
       "160348   6.4700   10          0  249fd_004      1  \n",
       "160349   6.4258    9          0  249fd_004      1  \n",
       "160350   6.4422    8          0  249fd_004      1  \n",
       "160351  14.9015    7          0  249fd_004      1  \n",
       "160352   6.4530    6          0  249fd_004      1  \n",
       "160353   8.6805    5          0  249fd_004      1  \n",
       "160354  17.5234    4          0  249fd_004      1  \n",
       "160355  23.7151    3          0  249fd_004      1  \n",
       "160356  23.8270    2          0  249fd_004      1  \n",
       "160357   9.0774    1          0  249fd_004      1  \n",
       "160358   6.4341    0          1  249fd_004      1  \n",
       "\n",
       "[15 rows x 30 columns]"
      ]
     },
     "execution_count": 9,
     "metadata": {},
     "output_type": "execute_result"
    }
   ],
   "source": [
    "dftrain.tail(15)"
   ]
  },
  {
   "cell_type": "markdown",
   "metadata": {
    "slideshow": {
     "slide_type": "slide"
    }
   },
   "source": [
    "Train a model that for each row, consisting of the meaningful set of input columns and their values, predicts where the label is **0** (more than TTF RULs left) or **1** (less than or equal to TTF RULs left)."
   ]
  },
  {
   "cell_type": "code",
   "execution_count": 10,
   "metadata": {
    "slideshow": {
     "slide_type": "fragment"
    }
   },
   "outputs": [],
   "source": [
    "#input_cols = ['time_cycles', 'setting_1', 'setting_2', 'setting_3', 's_1',\n",
    "#       's_2', 's_3', 's_4', 's_5', 's_6', 's_7', 's_8', 's_9', 's_10', 's_11',\n",
    "#       's_12', 's_13', 's_14', 's_15', 's_16', 's_17', 's_18', 's_19', 's_20',\n",
    "#       's_21']\n",
    "input_cols = ['setting_1', 'setting_2', 'setting_3', 's_1',\n",
    "       's_2', 's_3', 's_4', 's_5', 's_6', 's_7', 's_8', 's_9', 's_10', 's_11',\n",
    "       's_12', 's_13', 's_14', 's_15', 's_16', 's_17', 's_18', 's_19', 's_20',\n",
    "       's_21']\n",
    "#output_cols = ['breakdown']\n",
    "output_cols = ['label']\n"
   ]
  },
  {
   "cell_type": "markdown",
   "metadata": {
    "slideshow": {
     "slide_type": "skip"
    }
   },
   "source": [
    "The **breakdown** column is an indicator variable where 0 indicates the engine is operational, and 1 indicates that it has failed."
   ]
  },
  {
   "cell_type": "code",
   "execution_count": 11,
   "metadata": {
    "slideshow": {
     "slide_type": "skip"
    }
   },
   "outputs": [
    {
     "data": {
      "text/plain": [
       "0    159650\n",
       "1       709\n",
       "Name: breakdown, dtype: int64"
      ]
     },
     "execution_count": 11,
     "metadata": {},
     "output_type": "execute_result"
    }
   ],
   "source": [
    "dftrain['breakdown'].value_counts()\n"
   ]
  },
  {
   "cell_type": "code",
   "execution_count": 12,
   "metadata": {
    "slideshow": {
     "slide_type": "skip"
    }
   },
   "outputs": [
    {
     "data": {
      "text/plain": [
       "0    152560\n",
       "1      7799\n",
       "Name: label, dtype: int64"
      ]
     },
     "execution_count": 12,
     "metadata": {},
     "output_type": "execute_result"
    }
   ],
   "source": [
    "dftrain['label'].value_counts()\n"
   ]
  },
  {
   "cell_type": "markdown",
   "metadata": {
    "slideshow": {
     "slide_type": "slide"
    }
   },
   "source": [
    "Create an explicit **validation** set of some subset of ids in dftrain:\n",
    "\n",
    "set the random seed to ensure reproducibility."
   ]
  },
  {
   "cell_type": "code",
   "execution_count": 13,
   "metadata": {
    "slideshow": {
     "slide_type": "fragment"
    }
   },
   "outputs": [
    {
     "data": {
      "text/plain": [
       "array(['26fd_004', '127fd_002', '39fd_004', '164fd_004', '10fd_002',\n",
       "       '55fd_001', '77fd_001', '193fd_002', '95fd_002', '227fd_004'],\n",
       "      dtype=object)"
      ]
     },
     "execution_count": 13,
     "metadata": {},
     "output_type": "execute_result"
    }
   ],
   "source": [
    "np.random.seed(2020)\n",
    "ids = dftrain['id'].unique()\n",
    "np.random.shuffle(ids)\n",
    "len(ids)\n",
    "ids[:10]"
   ]
  },
  {
   "cell_type": "code",
   "execution_count": 14,
   "metadata": {
    "slideshow": {
     "slide_type": "fragment"
    }
   },
   "outputs": [
    {
     "data": {
      "text/plain": [
       "177"
      ]
     },
     "execution_count": 14,
     "metadata": {},
     "output_type": "execute_result"
    }
   ],
   "source": [
    "VAL_SIZE = 0.25\n",
    "val_index = int(len(ids)*VAL_SIZE)\n",
    "val_ids = ids[:val_index]\n",
    "dfval = dftrain[dftrain.id.isin(val_ids)].copy()\n",
    "dfval.id.nunique()"
   ]
  },
  {
   "cell_type": "code",
   "execution_count": 15,
   "metadata": {
    "slideshow": {
     "slide_type": "fragment"
    }
   },
   "outputs": [
    {
     "data": {
      "text/plain": [
       "709"
      ]
     },
     "execution_count": 15,
     "metadata": {},
     "output_type": "execute_result"
    }
   ],
   "source": [
    "dftrain.id.nunique()"
   ]
  },
  {
   "cell_type": "code",
   "execution_count": 16,
   "metadata": {
    "slideshow": {
     "slide_type": "fragment"
    }
   },
   "outputs": [
    {
     "data": {
      "text/plain": [
       "532"
      ]
     },
     "execution_count": 16,
     "metadata": {},
     "output_type": "execute_result"
    }
   ],
   "source": [
    "dftrain = dftrain[~dftrain.id.isin(val_ids)].copy()\n",
    "dftrain.id.nunique()"
   ]
  },
  {
   "cell_type": "code",
   "execution_count": 19,
   "metadata": {
    "slideshow": {
     "slide_type": "skip"
    }
   },
   "outputs": [],
   "source": [
    "from sklearn.preprocessing import StandardScaler\n",
    "from sklearn.preprocessing import MinMaxScaler\n",
    "from sklearn.preprocessing import StandardScaler\n",
    "from sklearn.preprocessing import MinMaxScaler\n",
    "from sklearn.preprocessing import StandardScaler\n",
    "from sklearn.preprocessing import MinMaxScaler\n",
    "from sklearn.preprocessing import MinMaxScaler\n",
    "from sklearn.preprocessing import minmax_scale\n",
    "from sklearn.preprocessing import MaxAbsScaler\n",
    "from sklearn.preprocessing import StandardScaler\n",
    "from sklearn.preprocessing import RobustScaler\n",
    "from sklearn.preprocessing import Normalizer\n",
    "from sklearn.preprocessing import QuantileTransformer\n",
    "from sklearn.preprocessing import PowerTransformer\n",
    "\n",
    "\n",
    "\n",
    "y = dftrain[output_cols].to_numpy()\n",
    "y = np.ravel(y)\n",
    "X = dftrain[input_cols].to_numpy()\n"
   ]
  },
  {
   "cell_type": "code",
   "execution_count": 20,
   "metadata": {
    "slideshow": {
     "slide_type": "skip"
    }
   },
   "outputs": [],
   "source": [
    "# Install a pip package in the current Jupyter kernel\n",
    "import sys\n",
    "#!{sys.executable} -m pip install keras\n",
    "#!{sys.executable} -m pip install tensorflow"
   ]
  },
  {
   "cell_type": "code",
   "execution_count": 21,
   "metadata": {
    "slideshow": {
     "slide_type": "skip"
    }
   },
   "outputs": [],
   "source": [
    "# import required libraries\n",
    "import pandas as pd\n",
    "import numpy as np\n",
    "import sklearn\n",
    "from sklearn import metrics\n",
    "from sklearn.ensemble import RandomForestRegressor\n",
    "from sklearn.metrics import mean_absolute_error\n",
    "from sklearn.metrics import r2_score\n",
    "from sklearn.metrics import mean_squared_error\n",
    "from sklearn.linear_model import LinearRegression\n",
    "from sklearn.preprocessing import MinMaxScaler\n",
    "from sklearn.model_selection import train_test_split, cross_val_score\n",
    "import keras\n",
    "import keras.backend as K\n",
    "from keras.layers.core import Activation\n",
    "from keras.layers import Dense , LSTM, Dropout\n",
    "from keras.models import Sequential, load_model\n",
    "import seaborn as sns\n",
    "import matplotlib.pyplot as plt\n",
    "from pylab import rcParams\n",
    "import math\n",
    "from keras.utils.vis_utils import plot_model\n",
    "\n",
    "#import xgboost\n",
    "import time\n",
    "from tqdm import tqdm\n"
   ]
  },
  {
   "cell_type": "markdown",
   "metadata": {
    "slideshow": {
     "slide_type": "slide"
    }
   },
   "source": [
    "First break up into a training and test set, then address the class imbalance problem\n",
    "on just the training set."
   ]
  },
  {
   "cell_type": "code",
   "execution_count": 22,
   "metadata": {
    "slideshow": {
     "slide_type": "fragment"
    }
   },
   "outputs": [],
   "source": [
    "\n",
    "\n",
    "X_train, X_test, y_train, y_test = train_test_split(X, y,stratify=y,\n",
    "                        random_state=17,test_size=0.25)\n"
   ]
  },
  {
   "cell_type": "code",
   "execution_count": 23,
   "metadata": {
    "slideshow": {
     "slide_type": "fragment"
    }
   },
   "outputs": [
    {
     "data": {
      "text/plain": [
       "0    0.951323\n",
       "1    0.048677\n",
       "dtype: float64"
      ]
     },
     "execution_count": 23,
     "metadata": {},
     "output_type": "execute_result"
    }
   ],
   "source": [
    "# just under 5% of the data corresponds to the low RUL cases\n",
    "# class imbalance problem, difficult for a model\n",
    "# to learn the precursor signals in this case\n",
    "# -> Oversample that class\n",
    "\n",
    "pd.Series(y_train).value_counts(normalize=True)\n"
   ]
  },
  {
   "cell_type": "code",
   "execution_count": 24,
   "metadata": {
    "slideshow": {
     "slide_type": "fragment"
    }
   },
   "outputs": [
    {
     "data": {
      "text/plain": [
       "0    0.951324\n",
       "1    0.048676\n",
       "dtype: float64"
      ]
     },
     "execution_count": 24,
     "metadata": {},
     "output_type": "execute_result"
    }
   ],
   "source": [
    "pd.Series(y_test).value_counts(normalize=True)"
   ]
  },
  {
   "cell_type": "code",
   "execution_count": 25,
   "metadata": {
    "slideshow": {
     "slide_type": "skip"
    }
   },
   "outputs": [],
   "source": [
    "#!{sys.executable} -m pip install imblearn"
   ]
  },
  {
   "cell_type": "markdown",
   "metadata": {
    "slideshow": {
     "slide_type": "skip"
    }
   },
   "source": [
    "Apply the StandardScaler normalization **BEFORE** oversampling or SMOTE."
   ]
  },
  {
   "cell_type": "code",
   "execution_count": 26,
   "metadata": {
    "slideshow": {
     "slide_type": "skip"
    }
   },
   "outputs": [],
   "source": [
    "scaler_xtrain = StandardScaler()\n",
    "scaler_xtrain.fit(X_train)\n",
    "X_train_norm = scaler_xtrain.transform(X_train) \n",
    "X_test_norm = scaler_xtrain.transform(X_test)\n",
    "\n",
    "\n",
    "from imblearn.over_sampling import SMOTE\n",
    "\n",
    "USE_SMOTE = False\n",
    "USE_ROS = True\n",
    "\n",
    "if USE_SMOTE:\n",
    "\n",
    "    from imblearn.over_sampling import SMOTE\n",
    "    smote = SMOTE(sampling_strategy='minority')\n",
    "    #smote = SMOTE(sampling_strategy=0.5)\n",
    "    X_train_sm, y_train_sm = smote.fit_sample(X_train_norm, y_train)\n",
    "\n",
    "\n",
    "\n",
    "if USE_ROS:\n",
    "    from imblearn.over_sampling import RandomOverSampler\n",
    "    ros = RandomOverSampler(random_state=0)\n",
    "    X_train_sm, y_train_sm = ros.fit_sample(X_train_norm, y_train)\n"
   ]
  },
  {
   "cell_type": "code",
   "execution_count": 27,
   "metadata": {
    "slideshow": {
     "slide_type": "skip"
    }
   },
   "outputs": [
    {
     "data": {
      "text/plain": [
       "1    85777\n",
       "0    85777\n",
       "dtype: int64"
      ]
     },
     "execution_count": 27,
     "metadata": {},
     "output_type": "execute_result"
    }
   ],
   "source": [
    "pd.Series(y_train_sm).value_counts()"
   ]
  },
  {
   "cell_type": "code",
   "execution_count": 28,
   "metadata": {
    "slideshow": {
     "slide_type": "skip"
    }
   },
   "outputs": [
    {
     "data": {
      "text/plain": [
       "((171554, 24), (171554,))"
      ]
     },
     "execution_count": 28,
     "metadata": {},
     "output_type": "execute_result"
    }
   ],
   "source": [
    "X_train_sm.shape, y_train_sm.shape"
   ]
  },
  {
   "cell_type": "markdown",
   "metadata": {
    "slideshow": {
     "slide_type": "skip"
    }
   },
   "source": [
    "* X_train_sm, y_train_sm\n",
    "* X_test_norm, y_test\n",
    "* scaler_xtrain"
   ]
  },
  {
   "cell_type": "code",
   "execution_count": 29,
   "metadata": {
    "slideshow": {
     "slide_type": "skip"
    }
   },
   "outputs": [],
   "source": [
    "import pandas\n",
    "from keras.models import Sequential\n",
    "from keras.layers import Dense\n",
    "from keras.wrappers.scikit_learn import KerasClassifier\n",
    "from sklearn.model_selection import cross_val_score\n",
    "from sklearn.preprocessing import LabelEncoder\n",
    "from sklearn.model_selection import StratifiedKFold\n",
    "from sklearn.preprocessing import StandardScaler\n",
    "from sklearn.pipeline import Pipeline\n",
    "\n",
    "import keras\n",
    "from keras import layers\n",
    "from keras.layers import Dense, Dropout\n",
    "from keras.models import Sequential\n",
    "import keras.regularizers as regularizers\n",
    "from keras import optimizers"
   ]
  },
  {
   "cell_type": "code",
   "execution_count": 30,
   "metadata": {
    "slideshow": {
     "slide_type": "skip"
    }
   },
   "outputs": [
    {
     "data": {
      "text/plain": [
       "((24,), 24, (171554, 24))"
      ]
     },
     "execution_count": 30,
     "metadata": {},
     "output_type": "execute_result"
    }
   ],
   "source": [
    "X_train_sm.shape[1:], X_train_norm.shape[1], X_train_sm.shape\n"
   ]
  },
  {
   "cell_type": "markdown",
   "metadata": {
    "slideshow": {
     "slide_type": "skip"
    }
   },
   "source": [
    "Design a deep neural network, a binary classifier. Lots of choices on which architecture to use. Here is one with 6,791 trainable parameters:"
   ]
  },
  {
   "cell_type": "code",
   "execution_count": 31,
   "metadata": {
    "slideshow": {
     "slide_type": "skip"
    }
   },
   "outputs": [
    {
     "name": "stdout",
     "output_type": "stream",
     "text": [
      "Model: \"sequential\"\n",
      "_________________________________________________________________\n",
      "Layer (type)                 Output Shape              Param #   \n",
      "=================================================================\n",
      "dense (Dense)                (None, 50)                1250      \n",
      "_________________________________________________________________\n",
      "dropout (Dropout)            (None, 50)                0         \n",
      "_________________________________________________________________\n",
      "dense_1 (Dense)              (None, 45)                2295      \n",
      "_________________________________________________________________\n",
      "dense_2 (Dense)              (None, 45)                2070      \n",
      "_________________________________________________________________\n",
      "dropout_1 (Dropout)          (None, 45)                0         \n",
      "_________________________________________________________________\n",
      "dense_3 (Dense)              (None, 25)                1150      \n",
      "_________________________________________________________________\n",
      "dense_4 (Dense)              (None, 1)                 26        \n",
      "=================================================================\n",
      "Total params: 6,791\n",
      "Trainable params: 6,791\n",
      "Non-trainable params: 0\n",
      "_________________________________________________________________\n"
     ]
    }
   ],
   "source": [
    "import keras\n",
    "from keras.layers import Dense, Dropout\n",
    "from keras.models import Sequential\n",
    "import keras.regularizers as regularizers\n",
    "from keras import optimizers\n",
    "\n",
    "early_stopping = keras.callbacks.EarlyStopping(monitor='val_accuracy')\n",
    "\n",
    "model = Sequential()\n",
    "model.add(Dense(50, input_dim=X_train_sm.shape[1], activation='relu',\n",
    "            kernel_initializer=keras.initializers.GlorotNormal()))\n",
    "model.add(Dropout(0.1))\n",
    "model.add(Dense(45,activation='relu',\n",
    "            kernel_initializer=keras.initializers.GlorotNormal()))\n",
    "model.add(Dense(45, activation='relu',\n",
    "            kernel_initializer=keras.initializers.GlorotNormal()))\n",
    "model.add(Dropout(0.1))\n",
    "model.add(Dense(25,  activation='relu',\n",
    "            kernel_initializer=keras.initializers.GlorotNormal()))\n",
    "model.add(Dense(1, activation='sigmoid'))\n",
    "\n",
    "\n",
    "\n",
    "\n",
    "opt_defaultparams = keras.optimizers.Adamax(learning_rate=0.001,\n",
    "                             beta_1=0.9, beta_2=0.999,\n",
    "                    epsilon=1e-07, name=\"Adamax\")\n",
    "\n",
    "opt = keras.optimizers.Adamax(learning_rate=0.0005,\n",
    "                             beta_1=0.9, beta_2=0.999,\n",
    "                    epsilon=1e-07, name=\"Adamax\")\n",
    "\n",
    "\n",
    "\n",
    "model.compile(optimizer=opt_defaultparams,\n",
    "                 loss='binary_crossentropy',metrics=['accuracy'])\n",
    "model.summary()\n"
   ]
  },
  {
   "cell_type": "markdown",
   "metadata": {
    "slideshow": {
     "slide_type": "skip"
    }
   },
   "source": [
    "evaluate the cell below multiple times; increasing the batch size\n",
    "with each iteration."
   ]
  },
  {
   "cell_type": "markdown",
   "metadata": {
    "slideshow": {
     "slide_type": "slide"
    }
   },
   "source": [
    "Design a deep neural network, a binary classifier. Lots of choices on which architecture to use. Here is one with 6,791 trainable parameters:"
   ]
  },
  {
   "cell_type": "code",
   "execution_count": 32,
   "metadata": {
    "slideshow": {
     "slide_type": "slide"
    }
   },
   "outputs": [
    {
     "data": {
      "image/png": "[encoded data removed]",
      "text/plain": [
       "<IPython.core.display.Image object>"
      ]
     },
     "execution_count": 32,
     "metadata": {},
     "output_type": "execute_result"
    }
   ],
   "source": [
    "plot_model(model,\n",
    "          to_file='model_plot.png',\n",
    "          show_shapes=True,\n",
    "        rankdir='LR',\n",
    "          show_layer_names=True)"
   ]
  },
  {
   "cell_type": "code",
   "execution_count": 33,
   "metadata": {
    "slideshow": {
     "slide_type": "skip"
    }
   },
   "outputs": [],
   "source": [
    "from IPython.display import Image"
   ]
  },
  {
   "cell_type": "code",
   "execution_count": 34,
   "metadata": {
    "slideshow": {
     "slide_type": "skip"
    }
   },
   "outputs": [
    {
     "data": {
      "image/png": "[encoded data removed]",
      "text/plain": [
       "<IPython.core.display.Image object>"
      ]
     },
     "execution_count": 34,
     "metadata": {},
     "output_type": "execute_result"
    }
   ],
   "source": [
    "Image('model_plot.png')"
   ]
  },
  {
   "cell_type": "code",
   "execution_count": 35,
   "metadata": {
    "slideshow": {
     "slide_type": "skip"
    }
   },
   "outputs": [
    {
     "name": "stdout",
     "output_type": "stream",
     "text": [
      "Epoch 1/5000\n",
      "21445/21445 [==============================] - 27s 1ms/step - loss: 0.3026 - accuracy: 0.8604 - val_loss: 0.1468 - val_accuracy: 0.9349\n",
      "Epoch 2/5000\n",
      "21445/21445 [==============================] - 24s 1ms/step - loss: 0.1277 - accuracy: 0.9537 - val_loss: 0.1720 - val_accuracy: 0.9306\n",
      "Epoch 1/5000\n",
      "21445/21445 [==============================] - 24s 1ms/step - loss: 0.1132 - accuracy: 0.9595 - val_loss: 0.1236 - val_accuracy: 0.9467\n",
      "Epoch 2/5000\n",
      "21445/21445 [==============================] - 25s 1ms/step - loss: 0.1099 - accuracy: 0.9610 - val_loss: 0.1185 - val_accuracy: 0.9486\n",
      "Epoch 3/5000\n",
      "21445/21445 [==============================] - 24s 1ms/step - loss: 0.1071 - accuracy: 0.9624 - val_loss: 0.1267 - val_accuracy: 0.9458\n",
      "Epoch 1/5000\n",
      "10723/10723 [==============================] - 13s 1ms/step - loss: 0.1036 - accuracy: 0.9641 - val_loss: 0.1241 - val_accuracy: 0.9476\n",
      "Epoch 2/5000\n",
      "10723/10723 [==============================] - 14s 1ms/step - loss: 0.1017 - accuracy: 0.9646 - val_loss: 0.1152 - val_accuracy: 0.9499\n",
      "Epoch 3/5000\n",
      "10723/10723 [==============================] - 13s 1ms/step - loss: 0.1007 - accuracy: 0.9646 - val_loss: 0.1151 - val_accuracy: 0.9515\n",
      "Epoch 4/5000\n",
      "10723/10723 [==============================] - 13s 1ms/step - loss: 0.0996 - accuracy: 0.9653 - val_loss: 0.1091 - val_accuracy: 0.9530\n",
      "Epoch 5/5000\n",
      "10723/10723 [==============================] - 13s 1ms/step - loss: 0.0990 - accuracy: 0.9655 - val_loss: 0.1271 - val_accuracy: 0.9461\n",
      "Epoch 1/5000\n",
      "10723/10723 [==============================] - 13s 1ms/step - loss: 0.0981 - accuracy: 0.9660 - val_loss: 0.1311 - val_accuracy: 0.9444\n",
      "Epoch 2/5000\n",
      "10723/10723 [==============================] - 14s 1ms/step - loss: 0.0973 - accuracy: 0.9659 - val_loss: 0.1171 - val_accuracy: 0.9514\n",
      "Epoch 3/5000\n",
      "10723/10723 [==============================] - 13s 1ms/step - loss: 0.0976 - accuracy: 0.9661 - val_loss: 0.1124 - val_accuracy: 0.9530\n",
      "Epoch 4/5000\n",
      "10723/10723 [==============================] - 13s 1ms/step - loss: 0.0962 - accuracy: 0.9667 - val_loss: 0.1036 - val_accuracy: 0.9558\n",
      "Epoch 5/5000\n",
      "10723/10723 [==============================] - 13s 1ms/step - loss: 0.0958 - accuracy: 0.9666 - val_loss: 0.1267 - val_accuracy: 0.9479\n",
      "Epoch 1/5000\n",
      "5362/5362 [==============================] - 7s 1ms/step - loss: 0.0941 - accuracy: 0.9671 - val_loss: 0.1272 - val_accuracy: 0.9451\n",
      "Epoch 2/5000\n",
      "5362/5362 [==============================] - 7s 1ms/step - loss: 0.0941 - accuracy: 0.9681 - val_loss: 0.1385 - val_accuracy: 0.9419\n",
      "Epoch 1/5000\n",
      "5362/5362 [==============================] - 7s 1ms/step - loss: 0.0931 - accuracy: 0.9675 - val_loss: 0.1156 - val_accuracy: 0.9532\n",
      "Epoch 2/5000\n",
      "5362/5362 [==============================] - 7s 1ms/step - loss: 0.0926 - accuracy: 0.9679 - val_loss: 0.1088 - val_accuracy: 0.9551\n",
      "Epoch 3/5000\n",
      "5362/5362 [==============================] - 7s 1ms/step - loss: 0.0926 - accuracy: 0.9679 - val_loss: 0.1151 - val_accuracy: 0.9531\n",
      "Epoch 1/5000\n",
      "2681/2681 [==============================] - 4s 1ms/step - loss: 0.0906 - accuracy: 0.9691 - val_loss: 0.1177 - val_accuracy: 0.9503\n",
      "Epoch 2/5000\n",
      "2681/2681 [==============================] - 4s 1ms/step - loss: 0.0908 - accuracy: 0.9686 - val_loss: 0.1125 - val_accuracy: 0.9518\n",
      "Epoch 3/5000\n",
      "2681/2681 [==============================] - 4s 1ms/step - loss: 0.0905 - accuracy: 0.9687 - val_loss: 0.1180 - val_accuracy: 0.9499\n",
      "Epoch 1/5000\n",
      "2681/2681 [==============================] - 4s 1ms/step - loss: 0.0907 - accuracy: 0.9688 - val_loss: 0.1165 - val_accuracy: 0.9511\n",
      "Epoch 2/5000\n",
      "2681/2681 [==============================] - 4s 1ms/step - loss: 0.0901 - accuracy: 0.9691 - val_loss: 0.1341 - val_accuracy: 0.9448\n",
      "Epoch 1/5000\n",
      "1341/1341 [==============================] - 2s 2ms/step - loss: 0.0884 - accuracy: 0.9696 - val_loss: 0.1101 - val_accuracy: 0.9555\n",
      "Epoch 2/5000\n",
      "1341/1341 [==============================] - 2s 2ms/step - loss: 0.0885 - accuracy: 0.9698 - val_loss: 0.1061 - val_accuracy: 0.9555\n",
      "Epoch 1/5000\n",
      "1341/1341 [==============================] - 2s 1ms/step - loss: 0.0883 - accuracy: 0.9696 - val_loss: 0.1064 - val_accuracy: 0.9554\n",
      "Epoch 2/5000\n",
      "1341/1341 [==============================] - 2s 2ms/step - loss: 0.0885 - accuracy: 0.9697 - val_loss: 0.1096 - val_accuracy: 0.9543\n",
      "Epoch 1/5000\n",
      "671/671 [==============================] - 1s 2ms/step - loss: 0.0862 - accuracy: 0.9706 - val_loss: 0.1107 - val_accuracy: 0.9539\n",
      "Epoch 2/5000\n",
      "671/671 [==============================] - 1s 2ms/step - loss: 0.0862 - accuracy: 0.9706 - val_loss: 0.1207 - val_accuracy: 0.9512\n",
      "Epoch 1/5000\n",
      "671/671 [==============================] - 1s 2ms/step - loss: 0.0863 - accuracy: 0.9707 - val_loss: 0.1183 - val_accuracy: 0.9512\n",
      "Epoch 2/5000\n",
      "671/671 [==============================] - 1s 2ms/step - loss: 0.0873 - accuracy: 0.9701 - val_loss: 0.1224 - val_accuracy: 0.9519\n",
      "Epoch 3/5000\n",
      "671/671 [==============================] - 1s 2ms/step - loss: 0.0867 - accuracy: 0.9701 - val_loss: 0.1137 - val_accuracy: 0.9533\n",
      "Epoch 4/5000\n",
      "671/671 [==============================] - 1s 2ms/step - loss: 0.0861 - accuracy: 0.9704 - val_loss: 0.1044 - val_accuracy: 0.9564\n",
      "Epoch 5/5000\n",
      "671/671 [==============================] - 1s 2ms/step - loss: 0.0856 - accuracy: 0.9707 - val_loss: 0.1035 - val_accuracy: 0.9568\n",
      "Epoch 6/5000\n",
      "671/671 [==============================] - 1s 2ms/step - loss: 0.0863 - accuracy: 0.9703 - val_loss: 0.1167 - val_accuracy: 0.9511\n",
      "Epoch 1/5000\n",
      "336/336 [==============================] - 1s 2ms/step - loss: 0.0842 - accuracy: 0.9714 - val_loss: 0.1123 - val_accuracy: 0.9531\n",
      "Epoch 2/5000\n",
      "336/336 [==============================] - 1s 2ms/step - loss: 0.0845 - accuracy: 0.9711 - val_loss: 0.1153 - val_accuracy: 0.9519\n",
      "Epoch 1/5000\n",
      "336/336 [==============================] - 1s 3ms/step - loss: 0.0843 - accuracy: 0.9714 - val_loss: 0.1177 - val_accuracy: 0.9511\n",
      "Epoch 2/5000\n",
      "336/336 [==============================] - 1s 3ms/step - loss: 0.0846 - accuracy: 0.9712 - val_loss: 0.1117 - val_accuracy: 0.9550\n",
      "Epoch 3/5000\n",
      "336/336 [==============================] - 1s 3ms/step - loss: 0.0847 - accuracy: 0.9709 - val_loss: 0.1054 - val_accuracy: 0.9541\n",
      "Epoch 1/5000\n",
      "168/168 [==============================] - 1s 4ms/step - loss: 0.0833 - accuracy: 0.9715 - val_loss: 0.1059 - val_accuracy: 0.9553\n",
      "Epoch 2/5000\n",
      "168/168 [==============================] - 1s 3ms/step - loss: 0.0831 - accuracy: 0.9716 - val_loss: 0.1098 - val_accuracy: 0.9530\n",
      "Epoch 1/5000\n",
      "168/168 [==============================] - 1s 4ms/step - loss: 0.0832 - accuracy: 0.9718 - val_loss: 0.1013 - val_accuracy: 0.9571\n",
      "Epoch 2/5000\n",
      "168/168 [==============================] - 1s 4ms/step - loss: 0.0831 - accuracy: 0.9717 - val_loss: 0.1086 - val_accuracy: 0.9546\n",
      "Epoch 1/5000\n",
      "168/168 [==============================] - 1s 4ms/step - loss: 0.0833 - accuracy: 0.9715 - val_loss: 0.1105 - val_accuracy: 0.9527\n",
      "Epoch 2/5000\n",
      "168/168 [==============================] - 1s 4ms/step - loss: 0.0830 - accuracy: 0.9718 - val_loss: 0.1073 - val_accuracy: 0.9546\n",
      "Epoch 3/5000\n",
      "168/168 [==============================] - 1s 4ms/step - loss: 0.0831 - accuracy: 0.9716 - val_loss: 0.1036 - val_accuracy: 0.9559\n",
      "Epoch 4/5000\n",
      "168/168 [==============================] - 1s 4ms/step - loss: 0.0837 - accuracy: 0.9716 - val_loss: 0.0998 - val_accuracy: 0.9564\n",
      "Epoch 5/5000\n",
      "168/168 [==============================] - 1s 4ms/step - loss: 0.0832 - accuracy: 0.9713 - val_loss: 0.1094 - val_accuracy: 0.9545\n"
     ]
    }
   ],
   "source": [
    "batch_sizes = [8,8,16,16,32,32,64,64,128,128,256,256,512,512,1024,1024,1024]\n",
    "\n",
    "for b in batch_sizes:\n",
    "    history = model.fit(X_train_sm,\n",
    "                y_train_sm, \n",
    "        validation_data = (X_test_norm, y_test),\n",
    "    epochs = 5000,\n",
    "                shuffle=True,\n",
    "                    callbacks=[early_stopping],\n",
    "    batch_size=b)"
   ]
  },
  {
   "cell_type": "code",
   "execution_count": 36,
   "metadata": {
    "slideshow": {
     "slide_type": "skip"
    }
   },
   "outputs": [
    {
     "name": "stdout",
     "output_type": "stream",
     "text": [
      "Epoch 1/5000\n",
      "85/85 [==============================] - 1s 6ms/step - loss: 0.0822 - accuracy: 0.9722 - val_loss: 0.1070 - val_accuracy: 0.9558\n",
      "Epoch 2/5000\n",
      "85/85 [==============================] - 0s 5ms/step - loss: 0.0818 - accuracy: 0.9724 - val_loss: 0.1095 - val_accuracy: 0.9541\n"
     ]
    }
   ],
   "source": [
    "history = model.fit(X_train_sm,\n",
    "                y_train_sm, \n",
    "        validation_data = (X_test_norm, y_test),\n",
    "    epochs = 5000,\n",
    "                shuffle=True,\n",
    "                    callbacks=[early_stopping],\n",
    "    batch_size=2028)"
   ]
  },
  {
   "cell_type": "code",
   "execution_count": 37,
   "metadata": {
    "slideshow": {
     "slide_type": "skip"
    }
   },
   "outputs": [
    {
     "name": "stdout",
     "output_type": "stream",
     "text": [
      "Epoch 1/5000\n",
      "35/35 [==============================] - 0s 12ms/step - loss: 0.0819 - accuracy: 0.9719 - val_loss: 0.1026 - val_accuracy: 0.9576\n",
      "Epoch 2/5000\n",
      "35/35 [==============================] - 0s 9ms/step - loss: 0.0808 - accuracy: 0.9726 - val_loss: 0.1028 - val_accuracy: 0.9567\n"
     ]
    }
   ],
   "source": [
    "history = model.fit(X_train_sm,\n",
    "                y_train_sm, \n",
    "        validation_data = (X_test_norm, y_test),\n",
    "    epochs = 5000,\n",
    "                shuffle=True,\n",
    "                    callbacks=[early_stopping],\n",
    "    batch_size=5000)"
   ]
  },
  {
   "cell_type": "code",
   "execution_count": 38,
   "metadata": {
    "slideshow": {
     "slide_type": "skip"
    }
   },
   "outputs": [],
   "source": [
    "import plotly.express as px"
   ]
  },
  {
   "cell_type": "code",
   "execution_count": 39,
   "metadata": {
    "slideshow": {
     "slide_type": "skip"
    }
   },
   "outputs": [
    {
     "name": "stdout",
     "output_type": "stream",
     "text": [
      "5362/5362 [==============================] - 5s 985us/step - loss: 0.0775 - accuracy: 0.9739\n",
      "[0.07746164500713348, 0.9739382266998291]\n"
     ]
    }
   ],
   "source": [
    "scoretrain = model.evaluate(X_train_sm, y_train_sm)\n",
    "print(scoretrain)\n"
   ]
  },
  {
   "cell_type": "code",
   "execution_count": 40,
   "metadata": {
    "slideshow": {
     "slide_type": "skip"
    }
   },
   "outputs": [
    {
     "name": "stdout",
     "output_type": "stream",
     "text": [
      "940/940 [==============================] - 1s 1ms/step - loss: 0.1028 - accuracy: 0.9567\n",
      "[0.1028098613023758, 0.9566808342933655]\n"
     ]
    }
   ],
   "source": [
    "scoretest = model.evaluate(X_test_norm, y_test)\n",
    "print(scoretest)\n",
    "\n"
   ]
  },
  {
   "cell_type": "code",
   "execution_count": 41,
   "metadata": {
    "slideshow": {
     "slide_type": "skip"
    }
   },
   "outputs": [],
   "source": [
    "_, train_acc = model.evaluate(X_train_sm, y_train_sm, verbose=0)\n",
    "_, test_acc = model.evaluate(X_test_norm, y_test, verbose=0)\n"
   ]
  },
  {
   "cell_type": "code",
   "execution_count": 42,
   "metadata": {
    "slideshow": {
     "slide_type": "skip"
    }
   },
   "outputs": [
    {
     "name": "stdout",
     "output_type": "stream",
     "text": [
      " Train: 0.9739382266998291 , Test: 0.9566808342933655\n"
     ]
    }
   ],
   "source": [
    "print(f\" Train: {train_acc} , Test: {test_acc}\")"
   ]
  },
  {
   "cell_type": "code",
   "execution_count": 43,
   "metadata": {
    "slideshow": {
     "slide_type": "skip"
    }
   },
   "outputs": [],
   "source": [
    "# predict probabilities for test set\n",
    "yhat_probs = model.predict(X_test_norm, verbose=0)\n",
    "# predict crips classes for test set\n",
    "#yhat_classes = model.predict_classes(X_test, verbose=0)\n",
    "yhat_classes = (model.predict(X_test_norm, verbose=0) > 0.5).astype(\"int32\") "
   ]
  },
  {
   "cell_type": "code",
   "execution_count": 44,
   "metadata": {
    "slideshow": {
     "slide_type": "skip"
    }
   },
   "outputs": [
    {
     "name": "stdout",
     "output_type": "stream",
     "text": [
      "accuracy: 0.956680862390205\n",
      "precision: 0.5296500920810313\n",
      "Recall: 0.9829118250170882\n",
      "F1 score : 0.6883676400191479\n"
     ]
    }
   ],
   "source": [
    "# reduce to 1d array\n",
    "yhat_probs = yhat_probs[:, 0]\n",
    "yhat_classes = yhat_classes[:, 0]\n",
    "\n",
    "from sklearn.metrics import accuracy_score, precision_score, f1_score\n",
    "from sklearn.metrics import recall_score, classification_report\n",
    "from sklearn.metrics import confusion_matrix, roc_curve, roc_auc_score\n",
    "\n",
    "# accuracy: (tp + tn ) / ( p + n)\n",
    "accuracy = accuracy_score(y_test, yhat_classes)\n",
    "print(f\"accuracy: {accuracy}\")\n",
    "# precision: tp / (tp + fp)\n",
    "precision = precision_score(y_test, yhat_classes)\n",
    "print(f\"precision: {precision}\")\n",
    "# recall: tp / (tp + fn)\n",
    "recall = recall_score(y_test, yhat_classes)\n",
    "print(f\"Recall: {recall}\")\n",
    "# f1 = 2 tp / (2 tp + tp + fn)\n",
    "f1 = f1_score(y_test, yhat_classes)\n",
    "print(f\"F1 score : {f1}\")"
   ]
  },
  {
   "cell_type": "code",
   "execution_count": 45,
   "metadata": {
    "slideshow": {
     "slide_type": "skip"
    }
   },
   "outputs": [],
   "source": [
    "from sklearn.metrics import cohen_kappa_score\n",
    "from sklearn.metrics import roc_auc_score\n",
    "from sklearn.metrics import confusion_matrix"
   ]
  },
  {
   "cell_type": "code",
   "execution_count": 46,
   "metadata": {
    "slideshow": {
     "slide_type": "skip"
    }
   },
   "outputs": [],
   "source": [
    "def confusion_matrix(actual, predicted):\n",
    "    plt.figure(figsize=(5,5))\n",
    "    sns.heatmap(sklearn.metrics.confusion_matrix(actual,predicted),annot=True,fmt='.5g')\n",
    "    plt.ylabel('actual class')\n",
    "    plt.xlabel('predicted class')\n",
    "    plt.show()\n"
   ]
  },
  {
   "cell_type": "code",
   "execution_count": 47,
   "metadata": {
    "slideshow": {
     "slide_type": "skip"
    }
   },
   "outputs": [
    {
     "data": {
      "image/png": "[encoded data removed]",
      "text/plain": [
       "<Figure size 360x360 with 2 Axes>"
      ]
     },
     "metadata": {},
     "output_type": "display_data"
    }
   ],
   "source": [
    "confusion_matrix(y_test, yhat_classes)"
   ]
  },
  {
   "cell_type": "code",
   "execution_count": 48,
   "metadata": {
    "slideshow": {
     "slide_type": "skip"
    }
   },
   "outputs": [],
   "source": [
    "def expected_profit(y_true,y_pred):\n",
    "    TP=0\n",
    "    FP=0\n",
    "    TN=0\n",
    "    FN=0\n",
    "    for i in range(len(y_true)):\n",
    "        if (y_true[i] != y_pred[i]) & (y_pred[i] == 1):\n",
    "            FP += 1\n",
    "        elif (y_true[i] != y_pred[i]) & (y_pred[i] == 0):\n",
    "            FN += 1\n",
    "        elif (y_true[i] == y_pred[i]) & (y_pred[i] == 0):\n",
    "            TN += 1\n",
    "        else:\n",
    "            TP += 1\n",
    "    print(f'TP ={TP}, TN = {TN}, FP = {FP}, FN = {FN}')\n",
    "    print (f'expected profit {(300 * TP - 200 * FN - 100 * FP) * 1000}')\n",
    "    return "
   ]
  },
  {
   "cell_type": "code",
   "execution_count": 49,
   "metadata": {
    "slideshow": {
     "slide_type": "skip"
    }
   },
   "outputs": [
    {
     "name": "stdout",
     "output_type": "stream",
     "text": [
      "TP =1438, TN = 27316, FP = 1277, FN = 25\n",
      "expected profit 298700000\n"
     ]
    }
   ],
   "source": [
    "expected_profit(y_test, yhat_classes)"
   ]
  },
  {
   "cell_type": "code",
   "execution_count": 50,
   "metadata": {
    "slideshow": {
     "slide_type": "skip"
    }
   },
   "outputs": [
    {
     "data": {
      "image/png": "[encoded data removed]",
      "text/plain": [
       "<Figure size 720x432 with 1 Axes>"
      ]
     },
     "metadata": {},
     "output_type": "display_data"
    }
   ],
   "source": [
    "fpr_xgb, tpr_xgb, _ = metrics.roc_curve(y_test,  yhat_probs)\n",
    "auc_xgb = metrics.auc(fpr_xgb,  tpr_xgb)\n",
    "\n",
    "plt.figure(figsize=(10, 6))\n",
    "plt.plot(fpr_xgb,tpr_xgb, label='ROC curve of NN(area = %0.2f)' % auc_xgb)\n",
    "plt.plot([0, 1], [0, 1], color='navy', lw=2, linestyle='--')\n",
    "plt.xlim([0.0, 1.0])\n",
    "plt.ylim([0.0, 1.05])\n",
    "plt.xlabel('False Positive Rate')\n",
    "plt.ylabel('True Positive Rate')\n",
    "plt.title('Receiver operating characteristic (ROC)')\n",
    "plt.legend(loc=\"lower right\")\n",
    "plt.show()"
   ]
  },
  {
   "cell_type": "code",
   "execution_count": 51,
   "metadata": {
    "slideshow": {
     "slide_type": "skip"
    }
   },
   "outputs": [
    {
     "name": "stdout",
     "output_type": "stream",
     "text": [
      "              precision    recall  f1-score   support\n",
      "\n",
      "           0       1.00      0.96      0.98     28593\n",
      "           1       0.53      0.98      0.69      1463\n",
      "\n",
      "    accuracy                           0.96     30056\n",
      "   macro avg       0.76      0.97      0.83     30056\n",
      "weighted avg       0.98      0.96      0.96     30056\n",
      "\n"
     ]
    }
   ],
   "source": [
    "from sklearn.metrics import classification_report\n",
    "print(classification_report(y_test,  yhat_classes))"
   ]
  },
  {
   "cell_type": "markdown",
   "metadata": {
    "slideshow": {
     "slide_type": "skip"
    }
   },
   "source": [
    "# Evaluation metrics on the dfval dataset:"
   ]
  },
  {
   "cell_type": "code",
   "execution_count": 52,
   "metadata": {
    "slideshow": {
     "slide_type": "skip"
    }
   },
   "outputs": [
    {
     "name": "stdout",
     "output_type": "stream",
     "text": [
      "accuracy: 0.9600617883748163\n",
      "precision: 0.5497685185185185\n",
      "Recall: 0.9758602978941961\n",
      "F1 score : 0.7033129742735518\n"
     ]
    }
   ],
   "source": [
    "real_x_test = dfval[input_cols].to_numpy()\n",
    "real_x_test_norm = scaler_xtrain.transform(real_x_test)\n",
    "\n",
    "real_y_test = dfval[output_cols].to_numpy()\n",
    "real_y_test = np.ravel(real_y_test)\n",
    "\n",
    "\n",
    "# predict probabilities for test set\n",
    "yhat_probs = model.predict(real_x_test_norm, verbose=0)\n",
    "# predict crips classes for test set\n",
    "#yhat_classes = model.predict_classes(X_test, verbose=0)\n",
    "yhat_classes = (model.predict(real_x_test_norm, verbose=0) > 0.5).astype(\"int32\") \n",
    "\n",
    "\n",
    "# reduce to 1d array\n",
    "yhat_probs = yhat_probs[:, 0]\n",
    "yhat_classes = yhat_classes[:, 0]\n",
    "\n",
    "# accuracy: (tp + tn ) / ( p + n)\n",
    "accuracy = accuracy_score(real_y_test, yhat_classes)\n",
    "print(f\"accuracy: {accuracy}\")\n",
    "# precision: tp / (tp + fp)\n",
    "precision = precision_score(real_y_test, yhat_classes)\n",
    "print(f\"precision: {precision}\")\n",
    "# recall: tp / (tp + fn)\n",
    "recall = recall_score(real_y_test, yhat_classes)\n",
    "print(f\"Recall: {recall}\")\n",
    "# f1 = 2 tp / (2 tp + tp + fn)\n",
    "f1 = f1_score(real_y_test, yhat_classes)\n",
    "print(f\"F1 score : {f1}\")"
   ]
  },
  {
   "cell_type": "markdown",
   "metadata": {
    "slideshow": {
     "slide_type": "slide"
    }
   },
   "source": [
    "Evaluation metrics of the trained model for the held-out validation set"
   ]
  },
  {
   "cell_type": "code",
   "execution_count": 53,
   "metadata": {
    "slideshow": {
     "slide_type": "slide"
    }
   },
   "outputs": [
    {
     "name": "stdout",
     "output_type": "stream",
     "text": [
      "Cohen's kappa: 0.6836833562364388\n",
      "ROC AUC: 0.9931611708709716\n"
     ]
    },
    {
     "data": {
      "image/png": "[encoded data removed]",
      "text/plain": [
       "<Figure size 360x360 with 2 Axes>"
      ]
     },
     "metadata": {},
     "output_type": "display_data"
    },
    {
     "name": "stdout",
     "output_type": "stream",
     "text": [
      "None\n"
     ]
    }
   ],
   "source": [
    "# kappa\n",
    "kappa = cohen_kappa_score(real_y_test, yhat_classes)\n",
    "print(f\"Cohen's kappa: {kappa}\")\n",
    "# ROC AUC\n",
    "auc = roc_auc_score(real_y_test, yhat_probs)\n",
    "print(f\"ROC AUC: {auc}\")\n",
    "# confusion matrix\n",
    "conf_mat = confusion_matrix(real_y_test, yhat_classes)\n",
    "print(conf_mat)"
   ]
  },
  {
   "cell_type": "code",
   "execution_count": 54,
   "metadata": {
    "slideshow": {
     "slide_type": "slide"
    }
   },
   "outputs": [
    {
     "name": "stdout",
     "output_type": "stream",
     "text": [
      "TP =1900, TN = 36634, FP = 1556, FN = 47\n",
      "expected profit 405000000\n"
     ]
    }
   ],
   "source": [
    "expected_profit(real_y_test, yhat_classes)"
   ]
  },
  {
   "cell_type": "code",
   "execution_count": 55,
   "metadata": {
    "slideshow": {
     "slide_type": "slide"
    }
   },
   "outputs": [
    {
     "data": {
      "image/png": "[encoded data removed]",
      "text/plain": [
       "<Figure size 720x432 with 1 Axes>"
      ]
     },
     "metadata": {},
     "output_type": "display_data"
    }
   ],
   "source": [
    "fpr_xgb, tpr_xgb, _ = metrics.roc_curve(real_y_test,  yhat_probs)\n",
    "auc_xgb = metrics.auc(fpr_xgb,  tpr_xgb)\n",
    "\n",
    "plt.figure(figsize=(10, 6))\n",
    "plt.plot(fpr_xgb,tpr_xgb, label='ROC curve of NN(area = %0.2f)' % auc_xgb)\n",
    "plt.plot([0, 1], [0, 1], color='navy', lw=2, linestyle='--')\n",
    "plt.xlim([0.0, 1.0])\n",
    "plt.ylim([0.0, 1.05])\n",
    "plt.xlabel('False Positive Rate')\n",
    "plt.ylabel('True Positive Rate')\n",
    "plt.title('Receiver operating characteristic (ROC)')\n",
    "plt.legend(loc=\"lower right\")\n",
    "plt.show()\n"
   ]
  },
  {
   "cell_type": "code",
   "execution_count": 56,
   "metadata": {
    "slideshow": {
     "slide_type": "slide"
    }
   },
   "outputs": [
    {
     "name": "stdout",
     "output_type": "stream",
     "text": [
      "              precision    recall  f1-score   support\n",
      "\n",
      "           0       1.00      0.96      0.98     38190\n",
      "           1       0.55      0.98      0.70      1947\n",
      "\n",
      "    accuracy                           0.96     40137\n",
      "   macro avg       0.77      0.97      0.84     40137\n",
      "weighted avg       0.98      0.96      0.97     40137\n",
      "\n"
     ]
    }
   ],
   "source": [
    "from sklearn.metrics import classification_report\n",
    "print(classification_report(real_y_test,  yhat_classes))"
   ]
  },
  {
   "cell_type": "code",
   "execution_count": 57,
   "metadata": {
    "slideshow": {
     "slide_type": "skip"
    }
   },
   "outputs": [
    {
     "name": "stdout",
     "output_type": "stream",
     "text": [
      "0.9568471789737548\n"
     ]
    }
   ],
   "source": [
    "from sklearn.metrics import fowlkes_mallows_score\n",
    "\n",
    "fmi_score = fowlkes_mallows_score(real_y_test,  yhat_classes)\n",
    "print(fmi_score)\n"
   ]
  },
  {
   "cell_type": "code",
   "execution_count": 58,
   "metadata": {
    "slideshow": {
     "slide_type": "skip"
    }
   },
   "outputs": [
    {
     "name": "stdout",
     "output_type": "stream",
     "text": [
      "0.9931611708709716\n"
     ]
    }
   ],
   "source": [
    "from sklearn.metrics import roc_auc_score\n",
    "roc_auc = roc_auc_score(real_y_test, yhat_probs)\n",
    "print(roc_auc)\n"
   ]
  },
  {
   "cell_type": "code",
   "execution_count": 59,
   "metadata": {
    "slideshow": {
     "slide_type": "skip"
    }
   },
   "outputs": [
    {
     "data": {
      "image/png": "[encoded data removed]",
      "text/plain": [
       "<Figure size 720x432 with 1 Axes>"
      ]
     },
     "metadata": {},
     "output_type": "display_data"
    }
   ],
   "source": [
    "fpr_xgb, tpr_xgb, _ = metrics.roc_curve(real_y_test,  yhat_probs)\n",
    "auc_xgb = metrics.auc(fpr_xgb,  tpr_xgb)\n",
    "\n",
    "plt.figure(figsize=(10, 6))\n",
    "plt.plot(fpr_xgb,tpr_xgb, label='ROC curve of XGB(area = %0.2f)' % auc_xgb)\n",
    "plt.plot([0, 1], [0, 1], color='navy', lw=2, linestyle='--')\n",
    "plt.xlim([0.0, 1.0])\n",
    "plt.ylim([0.0, 1.05])\n",
    "plt.xlabel('False Positive Rate')\n",
    "plt.ylabel('True Positive Rate')\n",
    "plt.title('Receiver operating characteristic (ROC)')\n",
    "plt.legend(loc=\"lower right\")\n",
    "plt.show()"
   ]
  },
  {
   "cell_type": "code",
   "execution_count": 60,
   "metadata": {
    "slideshow": {
     "slide_type": "skip"
    }
   },
   "outputs": [],
   "source": [
    "yhat = model.predict(real_x_test_norm, verbose=0)"
   ]
  },
  {
   "cell_type": "code",
   "execution_count": 61,
   "metadata": {
    "slideshow": {
     "slide_type": "skip"
    }
   },
   "outputs": [
    {
     "data": {
      "image/png": "[encoded data removed]",
      "text/plain": [
       "<Figure size 748.8x514.8 with 1 Axes>"
      ]
     },
     "metadata": {},
     "output_type": "display_data"
    },
    {
     "name": "stdout",
     "output_type": "stream",
     "text": [
      "PR AUC 0.879557513746015\n"
     ]
    }
   ],
   "source": [
    "from matplotlib import pyplot\n",
    "from sklearn.metrics import auc\n",
    "#yhat = clf.predict_proba(real_x_test_norm)\n",
    "yhat = model.predict(real_x_test_norm, verbose=0)\n",
    "\n",
    "pos_probs = yhat\n",
    "no_skill = len(real_y_test[real_y_test==1]) / len(real_y_test)\n",
    "pyplot.plot([0, 1], [no_skill, no_skill], linestyle='--', label='No Skill')\n",
    "precision, recall, _ = metrics.precision_recall_curve(real_y_test, pos_probs)\n",
    "# plot the model precision-recall curve\n",
    "auc_score = auc(recall, precision)\n",
    "pyplot.plot(recall, precision, marker='.', label='NN')\n",
    "# axis labels\n",
    "pyplot.xlabel('Recall')\n",
    "pyplot.ylabel('Precision')\n",
    "# show the legend\n",
    "pyplot.legend()\n",
    "# show the plot\n",
    "pyplot.show()\n",
    "print(f\"PR AUC {auc_score}\")"
   ]
  },
  {
   "cell_type": "markdown",
   "metadata": {
    "slideshow": {
     "slide_type": "skip"
    }
   },
   "source": [
    "# Save the model, the scaler object, and the dfval dataset"
   ]
  },
  {
   "cell_type": "code",
   "execution_count": 62,
   "metadata": {
    "slideshow": {
     "slide_type": "skip"
    }
   },
   "outputs": [],
   "source": [
    "from keras.models import model_from_json\n",
    "from keras.models import model_from_yaml\n",
    "from pickle import load\n",
    "from pickle import dump\n",
    "import sqlite3"
   ]
  },
  {
   "cell_type": "code",
   "execution_count": 63,
   "metadata": {
    "slideshow": {
     "slide_type": "skip"
    }
   },
   "outputs": [],
   "source": [
    "dump(scaler_xtrain, open('scaler_xtrain_notime.pkl', 'wb'))\n",
    "model.save('model_notime.h5')\n",
    "\n"
   ]
  },
  {
   "cell_type": "code",
   "execution_count": 64,
   "metadata": {
    "slideshow": {
     "slide_type": "skip"
    }
   },
   "outputs": [],
   "source": [
    "with sqlite3.connect('turbofandata.db') as connection:\n",
    "    dfval.to_sql(\n",
    "    'dfval_notime',connection,index=False,\n",
    "    if_exists='replace')"
   ]
  },
  {
   "cell_type": "code",
   "execution_count": 65,
   "metadata": {
    "slideshow": {
     "slide_type": "skip"
    }
   },
   "outputs": [],
   "source": [
    "from keras.models import load_model\n"
   ]
  },
  {
   "cell_type": "code",
   "execution_count": 66,
   "metadata": {
    "slideshow": {
     "slide_type": "skip"
    }
   },
   "outputs": [],
   "source": [
    "model_new = load_model('model_notime.h5')\n",
    "scaler_xtrain_new = load(open('scaler_xtrain_notime.pkl','rb'))\n",
    "\n",
    "with sqlite3.connect('turbofandata.db') as connection:\n",
    "    dfval_new = pd.read_sql('SELECT * from dfval_notime', connection)"
   ]
  },
  {
   "cell_type": "code",
   "execution_count": 67,
   "metadata": {
    "slideshow": {
     "slide_type": "skip"
    }
   },
   "outputs": [],
   "source": [
    "try:\n",
    "    os.mkdir('SURVIVALCURVES')\n",
    "except:\n",
    "    pass\n"
   ]
  },
  {
   "cell_type": "code",
   "execution_count": 68,
   "metadata": {
    "slideshow": {
     "slide_type": "skip"
    }
   },
   "outputs": [],
   "source": [
    "def get_survival_function(identifier,dfval,input_cols,\n",
    "                          scaler_xtrain, clf, make_plot = True, SHOW=True,\n",
    "                         AUTO_OPEN=False):\n",
    "    \"\"\"Takes the input array X and the trained model.\n",
    "    returns the predicted survival function.\"\"\"\n",
    "    X_0 = scaler_xtrain.transform(dfval[dfval.id == identifier][input_cols].to_numpy())\n",
    "    #real_rul = dfval[dfval.id == identifier]['REAL_RUL']\n",
    "    #print(X_0)\n",
    "    hazards = clf.predict(X_0)\n",
    "    A = []\n",
    "    p_so_far = 1\n",
    "    for i in range(len(hazards)):\n",
    "        p_cur = hazards[i][0]\n",
    "        A.append(p_so_far*(1 - p_cur))\n",
    "        p_so_far = p_so_far*(1 - p_cur)\n",
    "    As = pd.Series(A)\n",
    "    As.name = identifier\n",
    "    \n",
    "    try:\n",
    "        dq = dfval[dfval.id == identifier].copy()\n",
    "        red = dq.groupby('label')['time_cycles'].min()\n",
    "        t_red = red.loc[1] # the time_cycles value at which to add a red vertical line\n",
    "    except:\n",
    "        pass\n",
    "    if make_plot:\n",
    "        fig = px.line(As, title=f\"survival curve for {identifier}\")\n",
    "        try:\n",
    "            fig.update_layout(shapes=[\n",
    "                   dict(\n",
    "                   type='line',name='actual TTF start',\n",
    "                   yref='paper', y0=0, y1=1,\n",
    "                   xref='x', x0=t_red, x1=t_red)\n",
    "               ])\n",
    "            plotly.offline.plot(fig,auto_open=AUTO_OPEN,\n",
    "                filename=f\"SURVIVALCURVES/survival{identifier}.html\")\n",
    "        except:\n",
    "            pass\n",
    "        if SHOW:\n",
    "            fig.show()\n",
    "    df = pd.DataFrame(scaler_xtrain.inverse_transform(X_0), columns=input_cols)\n",
    "    df['As'] = As\n",
    "    df['hazard'] = [h[0] for h in hazards]\n",
    "    # capture the information of when it really started to fail\n",
    "    df['TRUE_START_OF_BREAKDOWN'] = t_red\n",
    "    df.name = f\"{identifier}\"\n",
    "    filename=f\"SURVIVALCURVES/survival{identifier}.csv\"\n",
    "    df.to_csv(filename,index=False)\n",
    "    \n",
    "    dg = pd.DataFrame(X_0, columns=input_cols)\n",
    "    dg['As'] = As\n",
    "    dg['hazard'] = [h[0] for h in hazards]\n",
    "    dg.name = f\"{identifier}\"\n",
    "    return df, dg"
   ]
  },
  {
   "cell_type": "markdown",
   "metadata": {
    "slideshow": {
     "slide_type": "slide"
    }
   },
   "source": [
    "Survival Curves:\n",
    "\n",
    "For each combination of sensor readings, the model predicts the probablity of being in class **0** (where RUL > TTF) or class **1** (where RUL <= TTF).\n",
    "\n",
    "This prediction is precisely the **hazard function** of classical survival analysis.\n"
   ]
  },
  {
   "cell_type": "markdown",
   "metadata": {
    "slideshow": {
     "slide_type": "slide"
    }
   },
   "source": [
    "The hazard function can be written as\n",
    "\n",
    "\n",
    "\n",
    "$\\lambda( \\mathbf{X}_{i}, t_{j} ) = P( Y = t_{j} | Y \\geq t_{j}, \\mathbf{X}_{i})$, \n",
    "\n",
    "\n",
    "the probablity that, if a satellite has not entered safe mode up until time $t_{j}$, they will in during that time. $Y$ represents the true surival time of the satellite.\n",
    "\n",
    "It follows that \n",
    "\n",
    "$P(Y = t_{j} | \\mathbf{X}_{i}) = \\lambda(\\mathbf{X}_{i}, t_{j}) \\Pi_{k=1}^{j-1} (1 - \\lambda(\\mathbf{X}_{i}, t_{k}))$"
   ]
  },
  {
   "cell_type": "markdown",
   "metadata": {
    "slideshow": {
     "slide_type": "slide"
    }
   },
   "source": [
    "Knowing \n",
    "$P(Y = t_{j} | \\mathbf{X}_{i})$ for all $t_{j}$ gives the full probability distrubution of transitioning to safe mode at time Y. The survival function is then derived from this distribution as\n",
    "\n",
    "$S(\\mathbf{X}_{i}, t_{k}) = 1 - CDF(\\mathbf{X}_{i}, t_{k})$\n",
    "\n",
    "where\n",
    "$CDF(\\mathbf{X}_{i}, t_{k}) = \\sum_{j=1}^{k} P(Y = t_{j} | \\mathbf{X}_{i})$ is the cumulative density function.\n",
    "\n",
    "This methodogy has been developed fully and applied to predicting cancer patients individual survival curves here: Personalized Prognostic Models for Oncology: A Machine Learning Approach (https://arxiv.org/abs/1606.07369 accessed 5 Sep 2020)."
   ]
  },
  {
   "cell_type": "code",
   "execution_count": 69,
   "metadata": {
    "slideshow": {
     "slide_type": "slide"
    }
   },
   "outputs": [
    {
     "data": {
      "text/html": [
       "        <script type=\"text/javascript\">\n",
       "        window.PlotlyConfig = {MathJaxConfig: 'local'};\n",
       "        if (window.MathJax) {MathJax.Hub.Config({SVG: {font: \"STIX-Web\"}});}\n",
       "        if (typeof require !== 'undefined') {\n",
       "        require.undef(\"plotly\");\n",
       "        requirejs.config({\n",
       "            paths: {\n",
       "                'plotly': ['https://cdn.plot.ly/plotly-latest.min']\n",
       "            }\n",
       "        });\n",
       "        require(['plotly'], function(Plotly) {\n",
       "            window._Plotly = Plotly;\n",
       "        });\n",
       "        }\n",
       "        </script>\n",
       "        "
      ]
     },
     "metadata": {},
     "output_type": "display_data"
    },
    {
     "data": {
      "application/vnd.plotly.v1+json": {
       "config": {
        "plotlyServerURL": "https://plot.ly"
       },
       "data": [
        {
         "hovertemplate": "variable=164fd_004<br>index=%{x}<br>value=%{y}<extra></extra>",
         "legendgroup": "164fd_004",
         "line": {
          "color": "#636efa",
          "dash": "solid"
         },
         "mode": "lines",
         "name": "164fd_004",
         "orientation": "v",
         "showlegend": true,
         "type": "scatter",
         "x": [
          0,
          1,
          2,
          3,
          4,
          5,
          6,
          7,
          8,
          9,
          10,
          11,
          12,
          13,
          14,
          15,
          16,
          17,
          18,
          19,
          20,
          21,
          22,
          23,
          24,
          25,
          26,
          27,
          28,
          29,
          30,
          31,
          32,
          33,
          34,
          35,
          36,
          37,
          38,
          39,
          40,
          41,
          42,
          43,
          44,
          45,
          46,
          47,
          48,
          49,
          50,
          51,
          52,
          53,
          54,
          55,
          56,
          57,
          58,
          59,
          60,
          61,
          62,
          63,
          64,
          65,
          66,
          67,
          68,
          69,
          70,
          71,
          72,
          73,
          74,
          75,
          76,
          77,
          78,
          79,
          80,
          81,
          82,
          83,
          84,
          85,
          86,
          87,
          88,
          89,
          90,
          91,
          92,
          93,
          94,
          95,
          96,
          97,
          98,
          99,
          100,
          101,
          102,
          103,
          104,
          105,
          106,
          107,
          108,
          109,
          110,
          111,
          112,
          113,
          114,
          115,
          116,
          117,
          118,
          119,
          120,
          121,
          122,
          123,
          124,
          125,
          126,
          127,
          128,
          129,
          130,
          131,
          132,
          133,
          134,
          135,
          136,
          137,
          138,
          139,
          140,
          141,
          142,
          143,
          144,
          145,
          146,
          147,
          148,
          149,
          150,
          151,
          152,
          153,
          154,
          155,
          156,
          157,
          158,
          159,
          160,
          161,
          162,
          163,
          164,
          165,
          166,
          167,
          168,
          169,
          170,
          171,
          172,
          173,
          174,
          175,
          176,
          177,
          178,
          179,
          180,
          181,
          182,
          183,
          184,
          185,
          186,
          187,
          188,
          189,
          190,
          191,
          192,
          193,
          194,
          195,
          196,
          197,
          198,
          199,
          200,
          201,
          202,
          203,
          204,
          205,
          206,
          207,
          208,
          209,
          210,
          211,
          212,
          213,
          214,
          215,
          216,
          217,
          218,
          219,
          220,
          221,
          222,
          223,
          224,
          225,
          226,
          227,
          228,
          229,
          230,
          231,
          232,
          233,
          234,
          235,
          236,
          237,
          238,
          239,
          240,
          241,
          242,
          243,
          244,
          245,
          246,
          247,
          248,
          249,
          250,
          251,
          252,
          253,
          254,
          255,
          256,
          257,
          258,
          259,
          260,
          261,
          262,
          263,
          264,
          265,
          266,
          267,
          268,
          269,
          270,
          271,
          272,
          273,
          274,
          275,
          276,
          277,
          278,
          279,
          280,
          281,
          282,
          283,
          284,
          285,
          286,
          287,
          288,
          289,
          290,
          291,
          292,
          293,
          294,
          295,
          296,
          297,
          298,
          299,
          300,
          301,
          302,
          303,
          304,
          305,
          306,
          307,
          308,
          309,
          310,
          311,
          312,
          313,
          314,
          315,
          316,
          317,
          318,
          319,
          320,
          321,
          322,
          323,
          324,
          325,
          326,
          327,
          328,
          329,
          330,
          331,
          332,
          333,
          334,
          335,
          336,
          337,
          338,
          339,
          340,
          341,
          342,
          343,
          344,
          345,
          346,
          347,
          348,
          349,
          350,
          351,
          352,
          353,
          354,
          355,
          356,
          357,
          358,
          359,
          360,
          361,
          362,
          363,
          364,
          365,
          366,
          367,
          368,
          369,
          370,
          371,
          372,
          373,
          374,
          375,
          376,
          377,
          378,
          379
         ],
         "xaxis": "x",
         "y": [
          0.9999999998342357,
          0.9999999997835458,
          0.9999999997833362,
          0.9999999997827046,
          0.9999999997826918,
          0.9999999997826918,
          0.9999999997826918,
          0.9999999997566964,
          0.9999999997566665,
          0.9999999997475614,
          0.9999999997475107,
          0.9999999996729457,
          0.9999999994616816,
          0.9999999994286393,
          0.9999999994286378,
          0.9999999994169658,
          0.9999999994149621,
          0.9999999994148964,
          0.9999999992634322,
          0.9999999992632275,
          0.9999999992556715,
          0.9999999992556715,
          0.9999999992062502,
          0.9999999991937957,
          0.9999999991612692,
          0.9999999991560852,
          0.9999999991527471,
          0.9999999991527471,
          0.9999999991283154,
          0.999999999127702,
          0.9999999991276824,
          0.9999999991276824,
          0.9999999991236794,
          0.9999999991236794,
          0.9999999991235213,
          0.9999999987475325,
          0.9999999987031811,
          0.999999998702881,
          0.9999999986900729,
          0.9999999986887786,
          0.9999999985543667,
          0.9999999985541418,
          0.9999999902577471,
          0.9999999902521318,
          0.9999999902414449,
          0.9999999902413108,
          0.9999999902339212,
          0.9999999901952897,
          0.9999999901950791,
          0.9999999901950043,
          0.9999999900905675,
          0.9999999900905671,
          0.9999999900875639,
          0.999999989948777,
          0.999999989948777,
          0.9999999899484582,
          0.9999999897959301,
          0.9999999897958165,
          0.9999999897955777,
          0.9999999897955771,
          0.9999999897955664,
          0.9999999897955572,
          0.9999999897823081,
          0.9999999897758048,
          0.9999999897376524,
          0.9999999897376449,
          0.9999999897376449,
          0.9999999897042523,
          0.9999999896928792,
          0.9999999896918621,
          0.9999999896918621,
          0.9999999896221389,
          0.9999999891126453,
          0.9999999891126453,
          0.9999999889428316,
          0.999999988942811,
          0.9999999889428107,
          0.9999999876493818,
          0.9999999876426865,
          0.9999999876426865,
          0.9999999876423455,
          0.9999999876422939,
          0.9999999876251258,
          0.9999999876251258,
          0.9999999876247762,
          0.9999999876235866,
          0.9999999876235856,
          0.9999999876174487,
          0.9999999876174309,
          0.999999987408499,
          0.9999999874084569,
          0.9999999869096947,
          0.9999999868502081,
          0.9999999868461575,
          0.9999999868074798,
          0.9999999783202201,
          0.9999999783199748,
          0.9999999783093828,
          0.9999999783092596,
          0.9999999783092596,
          0.9999999782708903,
          0.9999999780318453,
          0.9999999779799414,
          0.9999999779799277,
          0.9999999779790631,
          0.999999977966555,
          0.9999999772698517,
          0.9999999772560583,
          0.9999999772559508,
          0.9999999772559508,
          0.9999999772557767,
          0.999999977205077,
          0.999999977205077,
          0.9999999759165384,
          0.9999999759146762,
          0.9999999759114208,
          0.9999999759083837,
          0.999999975895985,
          0.9999999758954983,
          0.9999999758724756,
          0.9999999758489768,
          0.9999999758469611,
          0.9999999757012683,
          0.9999999756753524,
          0.999999975675145,
          0.9999999756438585,
          0.999999975345909,
          0.999999975345909,
          0.9999999753456739,
          0.9999999753456739,
          0.999999975333049,
          0.999999975333049,
          0.9999999753155323,
          0.9999999749612211,
          0.9999999749168921,
          0.9999999749052468,
          0.9999999748819847,
          0.9999999748439948,
          0.999999974843468,
          0.9999999748434275,
          0.9999999747826367,
          0.9999999747826367,
          0.9999999747760054,
          0.9999999747757261,
          0.999999974766091,
          0.9999999746387547,
          0.9999999746387547,
          0.9999999746373285,
          0.9999999746370734,
          0.9999999746367058,
          0.9999999746367058,
          0.9999999742287186,
          0.9999999742276391,
          0.9999999742151701,
          0.9999999738212259,
          0.9999999738212259,
          0.9999999706507545,
          0.999999970393857,
          0.999999970393857,
          0.9999999703927207,
          0.9999999703927194,
          0.9999999703926991,
          0.9999999702590926,
          0.9999999702590743,
          0.9999999702588531,
          0.9999999700014809,
          0.999999970001433,
          0.999999970001433,
          0.9999999699994714,
          0.9999999699974449,
          0.9999999699974449,
          0.9999999694726018,
          0.9999999694721566,
          0.9999999694600789,
          0.9999999693928514,
          0.9999999693282043,
          0.9999999688863155,
          0.9999999680971619,
          0.999999968070988,
          0.9999999680365309,
          0.9999999680365309,
          0.9999999680293056,
          0.9999999680292748,
          0.9999999663836776,
          0.9999999663825113,
          0.9999999663824835,
          0.9999999663817438,
          0.9999999663817438,
          0.9999999662942691,
          0.999999965858374,
          0.9999999650137696,
          0.9999999649205956,
          0.9999999647907344,
          0.9999999647898532,
          0.9999999647350696,
          0.9999999647176241,
          0.9999999647174058,
          0.9999999620041612,
          0.9999999619895306,
          0.9999999602711915,
          0.9999999602711915,
          0.9999999602550611,
          0.9999999602511834,
          0.9999999586042362,
          0.9999999585758903,
          0.9999999546310477,
          0.9999999542135001,
          0.9999999542135001,
          0.9999999542135001,
          0.9999999538627665,
          0.9999999538478749,
          0.9999999250307817,
          0.9999999250271955,
          0.9999999231286145,
          0.9999999229999059,
          0.9999999227445887,
          0.9999999223119579,
          0.9999999223115216,
          0.9999999222868055,
          0.9999999221637256,
          0.9999999221637256,
          0.999999921974828,
          0.9999999218612571,
          0.9999999212338302,
          0.9999999212338302,
          0.9999999212319578,
          0.9999999207399618,
          0.9999999200589899,
          0.9999999200574887,
          0.9999999189496422,
          0.9999999167458506,
          0.9999999167342716,
          0.9999999148495347,
          0.9999999138265864,
          0.999999913823,
          0.999999913604929,
          0.9999999136048583,
          0.9999999135414016,
          0.9999999135414016,
          0.9999999135336756,
          0.9999999134165456,
          0.9999999134129886,
          0.9999999134129886,
          0.9999999134129886,
          0.9999999133681697,
          0.9999999133681697,
          0.9999999113874519,
          0.9999999098448731,
          0.9999999097937257,
          0.9999999097814243,
          0.9999999096834167,
          0.9999999091092979,
          0.9999999091092979,
          0.9999999079774119,
          0.9999999068787988,
          0.9999998962273592,
          0.9999998907104795,
          0.9999998907104795,
          0.999999885025322,
          0.9999998843372543,
          0.9999998843372543,
          0.9999998839883176,
          0.9999998836332263,
          0.9999998836332263,
          0.9999998533121403,
          0.9999998533121403,
          0.9999998530147653,
          0.99999985271152,
          0.9999998526281707,
          0.9999998497563233,
          0.9999998479855068,
          0.9999998457733347,
          0.9999998425968714,
          0.9999998420199503,
          0.9999998420163075,
          0.9999998420138075,
          0.9999998418680391,
          0.999999841842513,
          0.9999998418245851,
          0.9999998416237442,
          0.9999998413368514,
          0.9999998413368514,
          0.9999998359259867,
          0.9999998359259867,
          0.9999998354295718,
          0.9999998354242218,
          0.9999998354242213,
          0.9999998354242213,
          0.9999998351569327,
          0.9999998351569327,
          0.9999998330850584,
          0.9999998330021663,
          0.999999832701539,
          0.999999832701539,
          0.9999998318441037,
          0.9999998315898178,
          0.9999998315898178,
          0.9999998306077809,
          0.9999998225442013,
          0.9999998212628194,
          0.9999998199823854,
          0.9999998199525271,
          0.999999598224381,
          0.9999995980927772,
          0.9999995754581952,
          0.9999995737469739,
          0.9999995737469738,
          0.9999995688655984,
          0.9999995535201859,
          0.9999994950597328,
          0.9999994254877647,
          0.999999413741896,
          0.9999994137418959,
          0.9999994113122456,
          0.9999994113122427,
          0.9999993158890598,
          0.999995344892844,
          0.999989534549325,
          0.999989534549325,
          0.9999894176647619,
          0.9999889880736352,
          0.9999888827253381,
          0.9999771165358348,
          0.9999769919393898,
          0.9999769794676747,
          0.9999765854447883,
          0.999976357119017,
          0.999976275709307,
          0.9999736477905786,
          0.9999639007908137,
          0.9999629458031016,
          0.9999629458031,
          0.9999626224928403,
          0.9999621688061497,
          0.9999621688055902,
          0.9999615723760155,
          0.9999602911022877,
          0.9997425937821095,
          0.9997393371625521,
          0.9997393370680918,
          0.9997264547068961,
          0.9977264912445835,
          0.9970747690150104,
          0.9970741432698133,
          0.9915063608566658,
          0.9912969752806253,
          0.8180845203818946,
          0.8159124332513236,
          0.558048663941263,
          0.5345645375445203,
          0.4568238849731692,
          0.45668593012933717,
          0.45665211765836494,
          0.45664064578304514,
          0.44155791261330707,
          0.3438278265764674,
          0.3435911341786914,
          0.34352420675601913,
          0.2737203703268192,
          0.2258390107831976,
          0.014588901885788357,
          0.006710455423429916,
          0.0014745760958841045,
          0.0005316374730643347,
          4.056281170818631e-05,
          2.89795605314462e-05,
          1.1211337171853187e-06,
          2.109324084696447e-08,
          1.3158319015065068e-09,
          1.0849414731925703e-11,
          5.87904347315957e-13,
          4.147130471238427e-15,
          1.536126589802747e-17,
          2.951720297459421e-20,
          7.455755596018812e-22,
          5.225005532514523e-24,
          1.4039471710071249e-27,
          1.74716662164369e-29,
          2.6128536782884706e-32,
          9.873802852838578e-35
         ],
         "yaxis": "y"
        }
       ],
       "layout": {
        "autosize": true,
        "legend": {
         "title": {
          "text": "variable"
         },
         "tracegroupgap": 0
        },
        "shapes": [
         {
          "name": "actual TTF start",
          "type": "line",
          "x0": 370,
          "x1": 370,
          "xref": "x",
          "y0": 0,
          "y1": 1,
          "yref": "paper"
         }
        ],
        "template": {
         "data": {
          "bar": [
           {
            "error_x": {
             "color": "#2a3f5f"
            },
            "error_y": {
             "color": "#2a3f5f"
            },
            "marker": {
             "line": {
              "color": "#E5ECF6",
              "width": 0.5
             }
            },
            "type": "bar"
           }
          ],
          "barpolar": [
           {
            "marker": {
             "line": {
              "color": "#E5ECF6",
              "width": 0.5
             }
            },
            "type": "barpolar"
           }
          ],
          "carpet": [
           {
            "aaxis": {
             "endlinecolor": "#2a3f5f",
             "gridcolor": "white",
             "linecolor": "white",
             "minorgridcolor": "white",
             "startlinecolor": "#2a3f5f"
            },
            "baxis": {
             "endlinecolor": "#2a3f5f",
             "gridcolor": "white",
             "linecolor": "white",
             "minorgridcolor": "white",
             "startlinecolor": "#2a3f5f"
            },
            "type": "carpet"
           }
          ],
          "choropleth": [
           {
            "colorbar": {
             "outlinewidth": 0,
             "ticks": ""
            },
            "type": "choropleth"
           }
          ],
          "contour": [
           {
            "colorbar": {
             "outlinewidth": 0,
             "ticks": ""
            },
            "colorscale": [
             [
              0,
              "#0d0887"
             ],
             [
              0.1111111111111111,
              "#46039f"
             ],
             [
              0.2222222222222222,
              "#7201a8"
             ],
             [
              0.3333333333333333,
              "#9c179e"
             ],
             [
              0.4444444444444444,
              "#bd3786"
             ],
             [
              0.5555555555555556,
              "#d8576b"
             ],
             [
              0.6666666666666666,
              "#ed7953"
             ],
             [
              0.7777777777777778,
              "#fb9f3a"
             ],
             [
              0.8888888888888888,
              "#fdca26"
             ],
             [
              1,
              "#f0f921"
             ]
            ],
            "type": "contour"
           }
          ],
          "contourcarpet": [
           {
            "colorbar": {
             "outlinewidth": 0,
             "ticks": ""
            },
            "type": "contourcarpet"
           }
          ],
          "heatmap": [
           {
            "colorbar": {
             "outlinewidth": 0,
             "ticks": ""
            },
            "colorscale": [
             [
              0,
              "#0d0887"
             ],
             [
              0.1111111111111111,
              "#46039f"
             ],
             [
              0.2222222222222222,
              "#7201a8"
             ],
             [
              0.3333333333333333,
              "#9c179e"
             ],
             [
              0.4444444444444444,
              "#bd3786"
             ],
             [
              0.5555555555555556,
              "#d8576b"
             ],
             [
              0.6666666666666666,
              "#ed7953"
             ],
             [
              0.7777777777777778,
              "#fb9f3a"
             ],
             [
              0.8888888888888888,
              "#fdca26"
             ],
             [
              1,
              "#f0f921"
             ]
            ],
            "type": "heatmap"
           }
          ],
          "heatmapgl": [
           {
            "colorbar": {
             "outlinewidth": 0,
             "ticks": ""
            },
            "colorscale": [
             [
              0,
              "#0d0887"
             ],
             [
              0.1111111111111111,
              "#46039f"
             ],
             [
              0.2222222222222222,
              "#7201a8"
             ],
             [
              0.3333333333333333,
              "#9c179e"
             ],
             [
              0.4444444444444444,
              "#bd3786"
             ],
             [
              0.5555555555555556,
              "#d8576b"
             ],
             [
              0.6666666666666666,
              "#ed7953"
             ],
             [
              0.7777777777777778,
              "#fb9f3a"
             ],
             [
              0.8888888888888888,
              "#fdca26"
             ],
             [
              1,
              "#f0f921"
             ]
            ],
            "type": "heatmapgl"
           }
          ],
          "histogram": [
           {
            "marker": {
             "colorbar": {
              "outlinewidth": 0,
              "ticks": ""
             }
            },
            "type": "histogram"
           }
          ],
          "histogram2d": [
           {
            "colorbar": {
             "outlinewidth": 0,
             "ticks": ""
            },
            "colorscale": [
             [
              0,
              "#0d0887"
             ],
             [
              0.1111111111111111,
              "#46039f"
             ],
             [
              0.2222222222222222,
              "#7201a8"
             ],
             [
              0.3333333333333333,
              "#9c179e"
             ],
             [
              0.4444444444444444,
              "#bd3786"
             ],
             [
              0.5555555555555556,
              "#d8576b"
             ],
             [
              0.6666666666666666,
              "#ed7953"
             ],
             [
              0.7777777777777778,
              "#fb9f3a"
             ],
             [
              0.8888888888888888,
              "#fdca26"
             ],
             [
              1,
              "#f0f921"
             ]
            ],
            "type": "histogram2d"
           }
          ],
          "histogram2dcontour": [
           {
            "colorbar": {
             "outlinewidth": 0,
             "ticks": ""
            },
            "colorscale": [
             [
              0,
              "#0d0887"
             ],
             [
              0.1111111111111111,
              "#46039f"
             ],
             [
              0.2222222222222222,
              "#7201a8"
             ],
             [
              0.3333333333333333,
              "#9c179e"
             ],
             [
              0.4444444444444444,
              "#bd3786"
             ],
             [
              0.5555555555555556,
              "#d8576b"
             ],
             [
              0.6666666666666666,
              "#ed7953"
             ],
             [
              0.7777777777777778,
              "#fb9f3a"
             ],
             [
              0.8888888888888888,
              "#fdca26"
             ],
             [
              1,
              "#f0f921"
             ]
            ],
            "type": "histogram2dcontour"
           }
          ],
          "mesh3d": [
           {
            "colorbar": {
             "outlinewidth": 0,
             "ticks": ""
            },
            "type": "mesh3d"
           }
          ],
          "parcoords": [
           {
            "line": {
             "colorbar": {
              "outlinewidth": 0,
              "ticks": ""
             }
            },
            "type": "parcoords"
           }
          ],
          "pie": [
           {
            "automargin": true,
            "type": "pie"
           }
          ],
          "scatter": [
           {
            "marker": {
             "colorbar": {
              "outlinewidth": 0,
              "ticks": ""
             }
            },
            "type": "scatter"
           }
          ],
          "scatter3d": [
           {
            "line": {
             "colorbar": {
              "outlinewidth": 0,
              "ticks": ""
             }
            },
            "marker": {
             "colorbar": {
              "outlinewidth": 0,
              "ticks": ""
             }
            },
            "type": "scatter3d"
           }
          ],
          "scattercarpet": [
           {
            "marker": {
             "colorbar": {
              "outlinewidth": 0,
              "ticks": ""
             }
            },
            "type": "scattercarpet"
           }
          ],
          "scattergeo": [
           {
            "marker": {
             "colorbar": {
              "outlinewidth": 0,
              "ticks": ""
             }
            },
            "type": "scattergeo"
           }
          ],
          "scattergl": [
           {
            "marker": {
             "colorbar": {
              "outlinewidth": 0,
              "ticks": ""
             }
            },
            "type": "scattergl"
           }
          ],
          "scattermapbox": [
           {
            "marker": {
             "colorbar": {
              "outlinewidth": 0,
              "ticks": ""
             }
            },
            "type": "scattermapbox"
           }
          ],
          "scatterpolar": [
           {
            "marker": {
             "colorbar": {
              "outlinewidth": 0,
              "ticks": ""
             }
            },
            "type": "scatterpolar"
           }
          ],
          "scatterpolargl": [
           {
            "marker": {
             "colorbar": {
              "outlinewidth": 0,
              "ticks": ""
             }
            },
            "type": "scatterpolargl"
           }
          ],
          "scatterternary": [
           {
            "marker": {
             "colorbar": {
              "outlinewidth": 0,
              "ticks": ""
             }
            },
            "type": "scatterternary"
           }
          ],
          "surface": [
           {
            "colorbar": {
             "outlinewidth": 0,
             "ticks": ""
            },
            "colorscale": [
             [
              0,
              "#0d0887"
             ],
             [
              0.1111111111111111,
              "#46039f"
             ],
             [
              0.2222222222222222,
              "#7201a8"
             ],
             [
              0.3333333333333333,
              "#9c179e"
             ],
             [
              0.4444444444444444,
              "#bd3786"
             ],
             [
              0.5555555555555556,
              "#d8576b"
             ],
             [
              0.6666666666666666,
              "#ed7953"
             ],
             [
              0.7777777777777778,
              "#fb9f3a"
             ],
             [
              0.8888888888888888,
              "#fdca26"
             ],
             [
              1,
              "#f0f921"
             ]
            ],
            "type": "surface"
           }
          ],
          "table": [
           {
            "cells": {
             "fill": {
              "color": "#EBF0F8"
             },
             "line": {
              "color": "white"
             }
            },
            "header": {
             "fill": {
              "color": "#C8D4E3"
             },
             "line": {
              "color": "white"
             }
            },
            "type": "table"
           }
          ]
         },
         "layout": {
          "annotationdefaults": {
           "arrowcolor": "#2a3f5f",
           "arrowhead": 0,
           "arrowwidth": 1
          },
          "autotypenumbers": "strict",
          "coloraxis": {
           "colorbar": {
            "outlinewidth": 0,
            "ticks": ""
           }
          },
          "colorscale": {
           "diverging": [
            [
             0,
             "#8e0152"
            ],
            [
             0.1,
             "#c51b7d"
            ],
            [
             0.2,
             "#de77ae"
            ],
            [
             0.3,
             "#f1b6da"
            ],
            [
             0.4,
             "#fde0ef"
            ],
            [
             0.5,
             "#f7f7f7"
            ],
            [
             0.6,
             "#e6f5d0"
            ],
            [
             0.7,
             "#b8e186"
            ],
            [
             0.8,
             "#7fbc41"
            ],
            [
             0.9,
             "#4d9221"
            ],
            [
             1,
             "#276419"
            ]
           ],
           "sequential": [
            [
             0,
             "#0d0887"
            ],
            [
             0.1111111111111111,
             "#46039f"
            ],
            [
             0.2222222222222222,
             "#7201a8"
            ],
            [
             0.3333333333333333,
             "#9c179e"
            ],
            [
             0.4444444444444444,
             "#bd3786"
            ],
            [
             0.5555555555555556,
             "#d8576b"
            ],
            [
             0.6666666666666666,
             "#ed7953"
            ],
            [
             0.7777777777777778,
             "#fb9f3a"
            ],
            [
             0.8888888888888888,
             "#fdca26"
            ],
            [
             1,
             "#f0f921"
            ]
           ],
           "sequentialminus": [
            [
             0,
             "#0d0887"
            ],
            [
             0.1111111111111111,
             "#46039f"
            ],
            [
             0.2222222222222222,
             "#7201a8"
            ],
            [
             0.3333333333333333,
             "#9c179e"
            ],
            [
             0.4444444444444444,
             "#bd3786"
            ],
            [
             0.5555555555555556,
             "#d8576b"
            ],
            [
             0.6666666666666666,
             "#ed7953"
            ],
            [
             0.7777777777777778,
             "#fb9f3a"
            ],
            [
             0.8888888888888888,
             "#fdca26"
            ],
            [
             1,
             "#f0f921"
            ]
           ]
          },
          "colorway": [
           "#636efa",
           "#EF553B",
           "#00cc96",
           "#ab63fa",
           "#FFA15A",
           "#19d3f3",
           "#FF6692",
           "#B6E880",
           "#FF97FF",
           "#FECB52"
          ],
          "font": {
           "color": "#2a3f5f"
          },
          "geo": {
           "bgcolor": "white",
           "lakecolor": "white",
           "landcolor": "#E5ECF6",
           "showlakes": true,
           "showland": true,
           "subunitcolor": "white"
          },
          "hoverlabel": {
           "align": "left"
          },
          "hovermode": "closest",
          "mapbox": {
           "style": "light"
          },
          "paper_bgcolor": "white",
          "plot_bgcolor": "#E5ECF6",
          "polar": {
           "angularaxis": {
            "gridcolor": "white",
            "linecolor": "white",
            "ticks": ""
           },
           "bgcolor": "#E5ECF6",
           "radialaxis": {
            "gridcolor": "white",
            "linecolor": "white",
            "ticks": ""
           }
          },
          "scene": {
           "xaxis": {
            "backgroundcolor": "#E5ECF6",
            "gridcolor": "white",
            "gridwidth": 2,
            "linecolor": "white",
            "showbackground": true,
            "ticks": "",
            "zerolinecolor": "white"
           },
           "yaxis": {
            "backgroundcolor": "#E5ECF6",
            "gridcolor": "white",
            "gridwidth": 2,
            "linecolor": "white",
            "showbackground": true,
            "ticks": "",
            "zerolinecolor": "white"
           },
           "zaxis": {
            "backgroundcolor": "#E5ECF6",
            "gridcolor": "white",
            "gridwidth": 2,
            "linecolor": "white",
            "showbackground": true,
            "ticks": "",
            "zerolinecolor": "white"
           }
          },
          "shapedefaults": {
           "line": {
            "color": "#2a3f5f"
           }
          },
          "ternary": {
           "aaxis": {
            "gridcolor": "white",
            "linecolor": "white",
            "ticks": ""
           },
           "baxis": {
            "gridcolor": "white",
            "linecolor": "white",
            "ticks": ""
           },
           "bgcolor": "#E5ECF6",
           "caxis": {
            "gridcolor": "white",
            "linecolor": "white",
            "ticks": ""
           }
          },
          "title": {
           "x": 0.05
          },
          "xaxis": {
           "automargin": true,
           "gridcolor": "white",
           "linecolor": "white",
           "ticks": "",
           "title": {
            "standoff": 15
           },
           "zerolinecolor": "white",
           "zerolinewidth": 2
          },
          "yaxis": {
           "automargin": true,
           "gridcolor": "white",
           "linecolor": "white",
           "ticks": "",
           "title": {
            "standoff": 15
           },
           "zerolinecolor": "white",
           "zerolinewidth": 2
          }
         }
        },
        "title": {
         "text": "survival curve for 164fd_004"
        },
        "xaxis": {
         "anchor": "y",
         "autorange": true,
         "domain": [
          0,
          1
         ],
         "range": [
          0,
          379
         ],
         "title": {
          "text": "index"
         },
         "type": "linear"
        },
        "yaxis": {
         "anchor": "x",
         "autorange": true,
         "domain": [
          0,
          1
         ],
         "range": [
          -0.055555555546346426,
          1.0555555553805822
         ],
         "title": {
          "text": "value"
         },
         "type": "linear"
        }
       }
      },
      "image/png": "[encoded data removed]",
      "text/html": [
       "<div>                            <div id=\"81f3ea37-4900-43df-8abc-209fb75d8697\" class=\"plotly-graph-div\" style=\"height:525px; width:100%;\"></div>            <script type=\"text/javascript\">                require([\"plotly\"], function(Plotly) {                    window.PLOTLYENV=window.PLOTLYENV || {};                                    if (document.getElementById(\"81f3ea37-4900-43df-8abc-209fb75d8697\")) {                    Plotly.newPlot(                        \"81f3ea37-4900-43df-8abc-209fb75d8697\",                        [{\"hovertemplate\": \"variable=164fd_004<br>index=%{x}<br>value=%{y}<extra></extra>\", \"legendgroup\": \"164fd_004\", \"line\": {\"color\": \"#636efa\", \"dash\": \"solid\"}, \"mode\": \"lines\", \"name\": \"164fd_004\", \"orientation\": \"v\", \"showlegend\": true, \"type\": \"scatter\", \"x\": [0, 1, 2, 3, 4, 5, 6, 7, 8, 9, 10, 11, 12, 13, 14, 15, 16, 17, 18, 19, 20, 21, 22, 23, 24, 25, 26, 27, 28, 29, 30, 31, 32, 33, 34, 35, 36, 37, 38, 39, 40, 41, 42, 43, 44, 45, 46, 47, 48, 49, 50, 51, 52, 53, 54, 55, 56, 57, 58, 59, 60, 61, 62, 63, 64, 65, 66, 67, 68, 69, 70, 71, 72, 73, 74, 75, 76, 77, 78, 79, 80, 81, 82, 83, 84, 85, 86, 87, 88, 89, 90, 91, 92, 93, 94, 95, 96, 97, 98, 99, 100, 101, 102, 103, 104, 105, 106, 107, 108, 109, 110, 111, 112, 113, 114, 115, 116, 117, 118, 119, 120, 121, 122, 123, 124, 125, 126, 127, 128, 129, 130, 131, 132, 133, 134, 135, 136, 137, 138, 139, 140, 141, 142, 143, 144, 145, 146, 147, 148, 149, 150, 151, 152, 153, 154, 155, 156, 157, 158, 159, 160, 161, 162, 163, 164, 165, 166, 167, 168, 169, 170, 171, 172, 173, 174, 175, 176, 177, 178, 179, 180, 181, 182, 183, 184, 185, 186, 187, 188, 189, 190, 191, 192, 193, 194, 195, 196, 197, 198, 199, 200, 201, 202, 203, 204, 205, 206, 207, 208, 209, 210, 211, 212, 213, 214, 215, 216, 217, 218, 219, 220, 221, 222, 223, 224, 225, 226, 227, 228, 229, 230, 231, 232, 233, 234, 235, 236, 237, 238, 239, 240, 241, 242, 243, 244, 245, 246, 247, 248, 249, 250, 251, 252, 253, 254, 255, 256, 257, 258, 259, 260, 261, 262, 263, 264, 265, 266, 267, 268, 269, 270, 271, 272, 273, 274, 275, 276, 277, 278, 279, 280, 281, 282, 283, 284, 285, 286, 287, 288, 289, 290, 291, 292, 293, 294, 295, 296, 297, 298, 299, 300, 301, 302, 303, 304, 305, 306, 307, 308, 309, 310, 311, 312, 313, 314, 315, 316, 317, 318, 319, 320, 321, 322, 323, 324, 325, 326, 327, 328, 329, 330, 331, 332, 333, 334, 335, 336, 337, 338, 339, 340, 341, 342, 343, 344, 345, 346, 347, 348, 349, 350, 351, 352, 353, 354, 355, 356, 357, 358, 359, 360, 361, 362, 363, 364, 365, 366, 367, 368, 369, 370, 371, 372, 373, 374, 375, 376, 377, 378, 379], \"xaxis\": \"x\", \"y\": [0.9999999998342357, 0.9999999997835458, 0.9999999997833362, 0.9999999997827046, 0.9999999997826918, 0.9999999997826918, 0.9999999997826918, 0.9999999997566964, 0.9999999997566665, 0.9999999997475614, 0.9999999997475107, 0.9999999996729457, 0.9999999994616816, 0.9999999994286393, 0.9999999994286378, 0.9999999994169658, 0.9999999994149621, 0.9999999994148964, 0.9999999992634322, 0.9999999992632275, 0.9999999992556715, 0.9999999992556715, 0.9999999992062502, 0.9999999991937957, 0.9999999991612692, 0.9999999991560852, 0.9999999991527471, 0.9999999991527471, 0.9999999991283154, 0.999999999127702, 0.9999999991276824, 0.9999999991276824, 0.9999999991236794, 0.9999999991236794, 0.9999999991235213, 0.9999999987475325, 0.9999999987031811, 0.999999998702881, 0.9999999986900729, 0.9999999986887786, 0.9999999985543667, 0.9999999985541418, 0.9999999902577471, 0.9999999902521318, 0.9999999902414449, 0.9999999902413108, 0.9999999902339212, 0.9999999901952897, 0.9999999901950791, 0.9999999901950043, 0.9999999900905675, 0.9999999900905671, 0.9999999900875639, 0.999999989948777, 0.999999989948777, 0.9999999899484582, 0.9999999897959301, 0.9999999897958165, 0.9999999897955777, 0.9999999897955771, 0.9999999897955664, 0.9999999897955572, 0.9999999897823081, 0.9999999897758048, 0.9999999897376524, 0.9999999897376449, 0.9999999897376449, 0.9999999897042523, 0.9999999896928792, 0.9999999896918621, 0.9999999896918621, 0.9999999896221389, 0.9999999891126453, 0.9999999891126453, 0.9999999889428316, 0.999999988942811, 0.9999999889428107, 0.9999999876493818, 0.9999999876426865, 0.9999999876426865, 0.9999999876423455, 0.9999999876422939, 0.9999999876251258, 0.9999999876251258, 0.9999999876247762, 0.9999999876235866, 0.9999999876235856, 0.9999999876174487, 0.9999999876174309, 0.999999987408499, 0.9999999874084569, 0.9999999869096947, 0.9999999868502081, 0.9999999868461575, 0.9999999868074798, 0.9999999783202201, 0.9999999783199748, 0.9999999783093828, 0.9999999783092596, 0.9999999783092596, 0.9999999782708903, 0.9999999780318453, 0.9999999779799414, 0.9999999779799277, 0.9999999779790631, 0.999999977966555, 0.9999999772698517, 0.9999999772560583, 0.9999999772559508, 0.9999999772559508, 0.9999999772557767, 0.999999977205077, 0.999999977205077, 0.9999999759165384, 0.9999999759146762, 0.9999999759114208, 0.9999999759083837, 0.999999975895985, 0.9999999758954983, 0.9999999758724756, 0.9999999758489768, 0.9999999758469611, 0.9999999757012683, 0.9999999756753524, 0.999999975675145, 0.9999999756438585, 0.999999975345909, 0.999999975345909, 0.9999999753456739, 0.9999999753456739, 0.999999975333049, 0.999999975333049, 0.9999999753155323, 0.9999999749612211, 0.9999999749168921, 0.9999999749052468, 0.9999999748819847, 0.9999999748439948, 0.999999974843468, 0.9999999748434275, 0.9999999747826367, 0.9999999747826367, 0.9999999747760054, 0.9999999747757261, 0.999999974766091, 0.9999999746387547, 0.9999999746387547, 0.9999999746373285, 0.9999999746370734, 0.9999999746367058, 0.9999999746367058, 0.9999999742287186, 0.9999999742276391, 0.9999999742151701, 0.9999999738212259, 0.9999999738212259, 0.9999999706507545, 0.999999970393857, 0.999999970393857, 0.9999999703927207, 0.9999999703927194, 0.9999999703926991, 0.9999999702590926, 0.9999999702590743, 0.9999999702588531, 0.9999999700014809, 0.999999970001433, 0.999999970001433, 0.9999999699994714, 0.9999999699974449, 0.9999999699974449, 0.9999999694726018, 0.9999999694721566, 0.9999999694600789, 0.9999999693928514, 0.9999999693282043, 0.9999999688863155, 0.9999999680971619, 0.999999968070988, 0.9999999680365309, 0.9999999680365309, 0.9999999680293056, 0.9999999680292748, 0.9999999663836776, 0.9999999663825113, 0.9999999663824835, 0.9999999663817438, 0.9999999663817438, 0.9999999662942691, 0.999999965858374, 0.9999999650137696, 0.9999999649205956, 0.9999999647907344, 0.9999999647898532, 0.9999999647350696, 0.9999999647176241, 0.9999999647174058, 0.9999999620041612, 0.9999999619895306, 0.9999999602711915, 0.9999999602711915, 0.9999999602550611, 0.9999999602511834, 0.9999999586042362, 0.9999999585758903, 0.9999999546310477, 0.9999999542135001, 0.9999999542135001, 0.9999999542135001, 0.9999999538627665, 0.9999999538478749, 0.9999999250307817, 0.9999999250271955, 0.9999999231286145, 0.9999999229999059, 0.9999999227445887, 0.9999999223119579, 0.9999999223115216, 0.9999999222868055, 0.9999999221637256, 0.9999999221637256, 0.999999921974828, 0.9999999218612571, 0.9999999212338302, 0.9999999212338302, 0.9999999212319578, 0.9999999207399618, 0.9999999200589899, 0.9999999200574887, 0.9999999189496422, 0.9999999167458506, 0.9999999167342716, 0.9999999148495347, 0.9999999138265864, 0.999999913823, 0.999999913604929, 0.9999999136048583, 0.9999999135414016, 0.9999999135414016, 0.9999999135336756, 0.9999999134165456, 0.9999999134129886, 0.9999999134129886, 0.9999999134129886, 0.9999999133681697, 0.9999999133681697, 0.9999999113874519, 0.9999999098448731, 0.9999999097937257, 0.9999999097814243, 0.9999999096834167, 0.9999999091092979, 0.9999999091092979, 0.9999999079774119, 0.9999999068787988, 0.9999998962273592, 0.9999998907104795, 0.9999998907104795, 0.999999885025322, 0.9999998843372543, 0.9999998843372543, 0.9999998839883176, 0.9999998836332263, 0.9999998836332263, 0.9999998533121403, 0.9999998533121403, 0.9999998530147653, 0.99999985271152, 0.9999998526281707, 0.9999998497563233, 0.9999998479855068, 0.9999998457733347, 0.9999998425968714, 0.9999998420199503, 0.9999998420163075, 0.9999998420138075, 0.9999998418680391, 0.999999841842513, 0.9999998418245851, 0.9999998416237442, 0.9999998413368514, 0.9999998413368514, 0.9999998359259867, 0.9999998359259867, 0.9999998354295718, 0.9999998354242218, 0.9999998354242213, 0.9999998354242213, 0.9999998351569327, 0.9999998351569327, 0.9999998330850584, 0.9999998330021663, 0.999999832701539, 0.999999832701539, 0.9999998318441037, 0.9999998315898178, 0.9999998315898178, 0.9999998306077809, 0.9999998225442013, 0.9999998212628194, 0.9999998199823854, 0.9999998199525271, 0.999999598224381, 0.9999995980927772, 0.9999995754581952, 0.9999995737469739, 0.9999995737469738, 0.9999995688655984, 0.9999995535201859, 0.9999994950597328, 0.9999994254877647, 0.999999413741896, 0.9999994137418959, 0.9999994113122456, 0.9999994113122427, 0.9999993158890598, 0.999995344892844, 0.999989534549325, 0.999989534549325, 0.9999894176647619, 0.9999889880736352, 0.9999888827253381, 0.9999771165358348, 0.9999769919393898, 0.9999769794676747, 0.9999765854447883, 0.999976357119017, 0.999976275709307, 0.9999736477905786, 0.9999639007908137, 0.9999629458031016, 0.9999629458031, 0.9999626224928403, 0.9999621688061497, 0.9999621688055902, 0.9999615723760155, 0.9999602911022877, 0.9997425937821095, 0.9997393371625521, 0.9997393370680918, 0.9997264547068961, 0.9977264912445835, 0.9970747690150104, 0.9970741432698133, 0.9915063608566658, 0.9912969752806253, 0.8180845203818946, 0.8159124332513236, 0.558048663941263, 0.5345645375445203, 0.4568238849731692, 0.45668593012933717, 0.45665211765836494, 0.45664064578304514, 0.44155791261330707, 0.3438278265764674, 0.3435911341786914, 0.34352420675601913, 0.2737203703268192, 0.2258390107831976, 0.014588901885788357, 0.006710455423429916, 0.0014745760958841045, 0.0005316374730643347, 4.056281170818631e-05, 2.89795605314462e-05, 1.1211337171853187e-06, 2.109324084696447e-08, 1.3158319015065068e-09, 1.0849414731925703e-11, 5.87904347315957e-13, 4.147130471238427e-15, 1.536126589802747e-17, 2.951720297459421e-20, 7.455755596018812e-22, 5.225005532514523e-24, 1.4039471710071249e-27, 1.74716662164369e-29, 2.6128536782884706e-32, 9.873802852838578e-35], \"yaxis\": \"y\"}],                        {\"legend\": {\"title\": {\"text\": \"variable\"}, \"tracegroupgap\": 0}, \"shapes\": [{\"name\": \"actual TTF start\", \"type\": \"line\", \"x0\": 370, \"x1\": 370, \"xref\": \"x\", \"y0\": 0, \"y1\": 1, \"yref\": \"paper\"}], \"template\": {\"data\": {\"bar\": [{\"error_x\": {\"color\": \"#2a3f5f\"}, \"error_y\": {\"color\": \"#2a3f5f\"}, \"marker\": {\"line\": {\"color\": \"#E5ECF6\", \"width\": 0.5}}, \"type\": \"bar\"}], \"barpolar\": [{\"marker\": {\"line\": {\"color\": \"#E5ECF6\", \"width\": 0.5}}, \"type\": \"barpolar\"}], \"carpet\": [{\"aaxis\": {\"endlinecolor\": \"#2a3f5f\", \"gridcolor\": \"white\", \"linecolor\": \"white\", \"minorgridcolor\": \"white\", \"startlinecolor\": \"#2a3f5f\"}, \"baxis\": {\"endlinecolor\": \"#2a3f5f\", \"gridcolor\": \"white\", \"linecolor\": \"white\", \"minorgridcolor\": \"white\", \"startlinecolor\": \"#2a3f5f\"}, \"type\": \"carpet\"}], \"choropleth\": [{\"colorbar\": {\"outlinewidth\": 0, \"ticks\": \"\"}, \"type\": \"choropleth\"}], \"contour\": [{\"colorbar\": {\"outlinewidth\": 0, \"ticks\": \"\"}, \"colorscale\": [[0.0, \"#0d0887\"], [0.1111111111111111, \"#46039f\"], [0.2222222222222222, \"#7201a8\"], [0.3333333333333333, \"#9c179e\"], [0.4444444444444444, \"#bd3786\"], [0.5555555555555556, \"#d8576b\"], [0.6666666666666666, \"#ed7953\"], [0.7777777777777778, \"#fb9f3a\"], [0.8888888888888888, \"#fdca26\"], [1.0, \"#f0f921\"]], \"type\": \"contour\"}], \"contourcarpet\": [{\"colorbar\": {\"outlinewidth\": 0, \"ticks\": \"\"}, \"type\": \"contourcarpet\"}], \"heatmap\": [{\"colorbar\": {\"outlinewidth\": 0, \"ticks\": \"\"}, \"colorscale\": [[0.0, \"#0d0887\"], [0.1111111111111111, \"#46039f\"], [0.2222222222222222, \"#7201a8\"], [0.3333333333333333, \"#9c179e\"], [0.4444444444444444, \"#bd3786\"], [0.5555555555555556, \"#d8576b\"], [0.6666666666666666, \"#ed7953\"], [0.7777777777777778, \"#fb9f3a\"], [0.8888888888888888, \"#fdca26\"], [1.0, \"#f0f921\"]], \"type\": \"heatmap\"}], \"heatmapgl\": [{\"colorbar\": {\"outlinewidth\": 0, \"ticks\": \"\"}, \"colorscale\": [[0.0, \"#0d0887\"], [0.1111111111111111, \"#46039f\"], [0.2222222222222222, \"#7201a8\"], [0.3333333333333333, \"#9c179e\"], [0.4444444444444444, \"#bd3786\"], [0.5555555555555556, \"#d8576b\"], [0.6666666666666666, \"#ed7953\"], [0.7777777777777778, \"#fb9f3a\"], [0.8888888888888888, \"#fdca26\"], [1.0, \"#f0f921\"]], \"type\": \"heatmapgl\"}], \"histogram\": [{\"marker\": {\"colorbar\": {\"outlinewidth\": 0, \"ticks\": \"\"}}, \"type\": \"histogram\"}], \"histogram2d\": [{\"colorbar\": {\"outlinewidth\": 0, \"ticks\": \"\"}, \"colorscale\": [[0.0, \"#0d0887\"], [0.1111111111111111, \"#46039f\"], [0.2222222222222222, \"#7201a8\"], [0.3333333333333333, \"#9c179e\"], [0.4444444444444444, \"#bd3786\"], [0.5555555555555556, \"#d8576b\"], [0.6666666666666666, \"#ed7953\"], [0.7777777777777778, \"#fb9f3a\"], [0.8888888888888888, \"#fdca26\"], [1.0, \"#f0f921\"]], \"type\": \"histogram2d\"}], \"histogram2dcontour\": [{\"colorbar\": {\"outlinewidth\": 0, \"ticks\": \"\"}, \"colorscale\": [[0.0, \"#0d0887\"], [0.1111111111111111, \"#46039f\"], [0.2222222222222222, \"#7201a8\"], [0.3333333333333333, \"#9c179e\"], [0.4444444444444444, \"#bd3786\"], [0.5555555555555556, \"#d8576b\"], [0.6666666666666666, \"#ed7953\"], [0.7777777777777778, \"#fb9f3a\"], [0.8888888888888888, \"#fdca26\"], [1.0, \"#f0f921\"]], \"type\": \"histogram2dcontour\"}], \"mesh3d\": [{\"colorbar\": {\"outlinewidth\": 0, \"ticks\": \"\"}, \"type\": \"mesh3d\"}], \"parcoords\": [{\"line\": {\"colorbar\": {\"outlinewidth\": 0, \"ticks\": \"\"}}, \"type\": \"parcoords\"}], \"pie\": [{\"automargin\": true, \"type\": \"pie\"}], \"scatter\": [{\"marker\": {\"colorbar\": {\"outlinewidth\": 0, \"ticks\": \"\"}}, \"type\": \"scatter\"}], \"scatter3d\": [{\"line\": {\"colorbar\": {\"outlinewidth\": 0, \"ticks\": \"\"}}, \"marker\": {\"colorbar\": {\"outlinewidth\": 0, \"ticks\": \"\"}}, \"type\": \"scatter3d\"}], \"scattercarpet\": [{\"marker\": {\"colorbar\": {\"outlinewidth\": 0, \"ticks\": \"\"}}, \"type\": \"scattercarpet\"}], \"scattergeo\": [{\"marker\": {\"colorbar\": {\"outlinewidth\": 0, \"ticks\": \"\"}}, \"type\": \"scattergeo\"}], \"scattergl\": [{\"marker\": {\"colorbar\": {\"outlinewidth\": 0, \"ticks\": \"\"}}, \"type\": \"scattergl\"}], \"scattermapbox\": [{\"marker\": {\"colorbar\": {\"outlinewidth\": 0, \"ticks\": \"\"}}, \"type\": \"scattermapbox\"}], \"scatterpolar\": [{\"marker\": {\"colorbar\": {\"outlinewidth\": 0, \"ticks\": \"\"}}, \"type\": \"scatterpolar\"}], \"scatterpolargl\": [{\"marker\": {\"colorbar\": {\"outlinewidth\": 0, \"ticks\": \"\"}}, \"type\": \"scatterpolargl\"}], \"scatterternary\": [{\"marker\": {\"colorbar\": {\"outlinewidth\": 0, \"ticks\": \"\"}}, \"type\": \"scatterternary\"}], \"surface\": [{\"colorbar\": {\"outlinewidth\": 0, \"ticks\": \"\"}, \"colorscale\": [[0.0, \"#0d0887\"], [0.1111111111111111, \"#46039f\"], [0.2222222222222222, \"#7201a8\"], [0.3333333333333333, \"#9c179e\"], [0.4444444444444444, \"#bd3786\"], [0.5555555555555556, \"#d8576b\"], [0.6666666666666666, \"#ed7953\"], [0.7777777777777778, \"#fb9f3a\"], [0.8888888888888888, \"#fdca26\"], [1.0, \"#f0f921\"]], \"type\": \"surface\"}], \"table\": [{\"cells\": {\"fill\": {\"color\": \"#EBF0F8\"}, \"line\": {\"color\": \"white\"}}, \"header\": {\"fill\": {\"color\": \"#C8D4E3\"}, \"line\": {\"color\": \"white\"}}, \"type\": \"table\"}]}, \"layout\": {\"annotationdefaults\": {\"arrowcolor\": \"#2a3f5f\", \"arrowhead\": 0, \"arrowwidth\": 1}, \"autotypenumbers\": \"strict\", \"coloraxis\": {\"colorbar\": {\"outlinewidth\": 0, \"ticks\": \"\"}}, \"colorscale\": {\"diverging\": [[0, \"#8e0152\"], [0.1, \"#c51b7d\"], [0.2, \"#de77ae\"], [0.3, \"#f1b6da\"], [0.4, \"#fde0ef\"], [0.5, \"#f7f7f7\"], [0.6, \"#e6f5d0\"], [0.7, \"#b8e186\"], [0.8, \"#7fbc41\"], [0.9, \"#4d9221\"], [1, \"#276419\"]], \"sequential\": [[0.0, \"#0d0887\"], [0.1111111111111111, \"#46039f\"], [0.2222222222222222, \"#7201a8\"], [0.3333333333333333, \"#9c179e\"], [0.4444444444444444, \"#bd3786\"], [0.5555555555555556, \"#d8576b\"], [0.6666666666666666, \"#ed7953\"], [0.7777777777777778, \"#fb9f3a\"], [0.8888888888888888, \"#fdca26\"], [1.0, \"#f0f921\"]], \"sequentialminus\": [[0.0, \"#0d0887\"], [0.1111111111111111, \"#46039f\"], [0.2222222222222222, \"#7201a8\"], [0.3333333333333333, \"#9c179e\"], [0.4444444444444444, \"#bd3786\"], [0.5555555555555556, \"#d8576b\"], [0.6666666666666666, \"#ed7953\"], [0.7777777777777778, \"#fb9f3a\"], [0.8888888888888888, \"#fdca26\"], [1.0, \"#f0f921\"]]}, \"colorway\": [\"#636efa\", \"#EF553B\", \"#00cc96\", \"#ab63fa\", \"#FFA15A\", \"#19d3f3\", \"#FF6692\", \"#B6E880\", \"#FF97FF\", \"#FECB52\"], \"font\": {\"color\": \"#2a3f5f\"}, \"geo\": {\"bgcolor\": \"white\", \"lakecolor\": \"white\", \"landcolor\": \"#E5ECF6\", \"showlakes\": true, \"showland\": true, \"subunitcolor\": \"white\"}, \"hoverlabel\": {\"align\": \"left\"}, \"hovermode\": \"closest\", \"mapbox\": {\"style\": \"light\"}, \"paper_bgcolor\": \"white\", \"plot_bgcolor\": \"#E5ECF6\", \"polar\": {\"angularaxis\": {\"gridcolor\": \"white\", \"linecolor\": \"white\", \"ticks\": \"\"}, \"bgcolor\": \"#E5ECF6\", \"radialaxis\": {\"gridcolor\": \"white\", \"linecolor\": \"white\", \"ticks\": \"\"}}, \"scene\": {\"xaxis\": {\"backgroundcolor\": \"#E5ECF6\", \"gridcolor\": \"white\", \"gridwidth\": 2, \"linecolor\": \"white\", \"showbackground\": true, \"ticks\": \"\", \"zerolinecolor\": \"white\"}, \"yaxis\": {\"backgroundcolor\": \"#E5ECF6\", \"gridcolor\": \"white\", \"gridwidth\": 2, \"linecolor\": \"white\", \"showbackground\": true, \"ticks\": \"\", \"zerolinecolor\": \"white\"}, \"zaxis\": {\"backgroundcolor\": \"#E5ECF6\", \"gridcolor\": \"white\", \"gridwidth\": 2, \"linecolor\": \"white\", \"showbackground\": true, \"ticks\": \"\", \"zerolinecolor\": \"white\"}}, \"shapedefaults\": {\"line\": {\"color\": \"#2a3f5f\"}}, \"ternary\": {\"aaxis\": {\"gridcolor\": \"white\", \"linecolor\": \"white\", \"ticks\": \"\"}, \"baxis\": {\"gridcolor\": \"white\", \"linecolor\": \"white\", \"ticks\": \"\"}, \"bgcolor\": \"#E5ECF6\", \"caxis\": {\"gridcolor\": \"white\", \"linecolor\": \"white\", \"ticks\": \"\"}}, \"title\": {\"x\": 0.05}, \"xaxis\": {\"automargin\": true, \"gridcolor\": \"white\", \"linecolor\": \"white\", \"ticks\": \"\", \"title\": {\"standoff\": 15}, \"zerolinecolor\": \"white\", \"zerolinewidth\": 2}, \"yaxis\": {\"automargin\": true, \"gridcolor\": \"white\", \"linecolor\": \"white\", \"ticks\": \"\", \"title\": {\"standoff\": 15}, \"zerolinecolor\": \"white\", \"zerolinewidth\": 2}}}, \"title\": {\"text\": \"survival curve for 164fd_004\"}, \"xaxis\": {\"anchor\": \"y\", \"domain\": [0.0, 1.0], \"title\": {\"text\": \"index\"}}, \"yaxis\": {\"anchor\": \"x\", \"domain\": [0.0, 1.0], \"title\": {\"text\": \"value\"}}},                        {\"responsive\": true}                    ).then(function(){\n",
       "                            \n",
       "var gd = document.getElementById('81f3ea37-4900-43df-8abc-209fb75d8697');\n",
       "var x = new MutationObserver(function (mutations, observer) {{\n",
       "        var display = window.getComputedStyle(gd).display;\n",
       "        if (!display || display === 'none') {{\n",
       "            console.log([gd, 'removed!']);\n",
       "            Plotly.purge(gd);\n",
       "            observer.disconnect();\n",
       "        }}\n",
       "}});\n",
       "\n",
       "// Listen for the removal of the full notebook cells\n",
       "var notebookContainer = gd.closest('#notebook-container');\n",
       "if (notebookContainer) {{\n",
       "    x.observe(notebookContainer, {childList: true});\n",
       "}}\n",
       "\n",
       "// Listen for the clearing of the current output cell\n",
       "var outputEl = gd.closest('.output');\n",
       "if (outputEl) {{\n",
       "    x.observe(outputEl, {childList: true});\n",
       "}}\n",
       "\n",
       "                        })                };                });            </script>        </div>"
      ]
     },
     "metadata": {},
     "output_type": "display_data"
    }
   ],
   "source": [
    "valids = dfval['id'].unique()\n",
    "plotly.offline.init_notebook_mode(connected=True)\n",
    "df, dg = get_survival_function(valids[150], dfval, input_cols,\n",
    "                               scaler_xtrain, model,\n",
    "                              SHOW=True, AUTO_OPEN=False)"
   ]
  },
  {
   "cell_type": "code",
   "execution_count": 70,
   "metadata": {
    "slideshow": {
     "slide_type": "slide"
    }
   },
   "outputs": [
    {
     "data": {
      "text/html": [
       "        <script type=\"text/javascript\">\n",
       "        window.PlotlyConfig = {MathJaxConfig: 'local'};\n",
       "        if (window.MathJax) {MathJax.Hub.Config({SVG: {font: \"STIX-Web\"}});}\n",
       "        if (typeof require !== 'undefined') {\n",
       "        require.undef(\"plotly\");\n",
       "        requirejs.config({\n",
       "            paths: {\n",
       "                'plotly': ['https://cdn.plot.ly/plotly-latest.min']\n",
       "            }\n",
       "        });\n",
       "        require(['plotly'], function(Plotly) {\n",
       "            window._Plotly = Plotly;\n",
       "        });\n",
       "        }\n",
       "        </script>\n",
       "        "
      ]
     },
     "metadata": {},
     "output_type": "display_data"
    },
    {
     "data": {
      "application/vnd.plotly.v1+json": {
       "config": {
        "plotlyServerURL": "https://plot.ly"
       },
       "data": [
        {
         "hovertemplate": "variable=11fd_002<br>index=%{x}<br>value=%{y}<extra></extra>",
         "legendgroup": "11fd_002",
         "line": {
          "color": "#636efa",
          "dash": "solid"
         },
         "mode": "lines",
         "name": "11fd_002",
         "orientation": "v",
         "showlegend": true,
         "type": "scatter",
         "x": [
          0,
          1,
          2,
          3,
          4,
          5,
          6,
          7,
          8,
          9,
          10,
          11,
          12,
          13,
          14,
          15,
          16,
          17,
          18,
          19,
          20,
          21,
          22,
          23,
          24,
          25,
          26,
          27,
          28,
          29,
          30,
          31,
          32,
          33,
          34,
          35,
          36,
          37,
          38,
          39,
          40,
          41,
          42,
          43,
          44,
          45,
          46,
          47,
          48,
          49,
          50,
          51,
          52,
          53,
          54,
          55,
          56,
          57,
          58,
          59,
          60,
          61,
          62,
          63,
          64,
          65,
          66,
          67,
          68,
          69,
          70,
          71,
          72,
          73,
          74,
          75,
          76,
          77,
          78,
          79,
          80,
          81,
          82,
          83,
          84,
          85,
          86,
          87,
          88,
          89,
          90,
          91,
          92,
          93,
          94,
          95,
          96,
          97,
          98,
          99,
          100,
          101,
          102,
          103,
          104,
          105,
          106,
          107,
          108,
          109,
          110,
          111,
          112,
          113,
          114,
          115,
          116,
          117,
          118,
          119,
          120,
          121,
          122,
          123,
          124,
          125,
          126,
          127,
          128,
          129,
          130,
          131,
          132,
          133,
          134,
          135,
          136,
          137,
          138,
          139,
          140,
          141,
          142,
          143,
          144,
          145,
          146,
          147,
          148,
          149,
          150,
          151,
          152,
          153,
          154,
          155,
          156,
          157,
          158,
          159,
          160,
          161,
          162,
          163,
          164,
          165,
          166,
          167,
          168,
          169,
          170,
          171,
          172,
          173,
          174,
          175,
          176,
          177,
          178,
          179,
          180,
          181,
          182,
          183,
          184,
          185,
          186,
          187,
          188,
          189,
          190,
          191,
          192,
          193,
          194,
          195,
          196,
          197,
          198,
          199,
          200,
          201,
          202,
          203,
          204,
          205,
          206,
          207,
          208,
          209,
          210,
          211,
          212,
          213,
          214,
          215,
          216,
          217,
          218,
          219,
          220,
          221,
          222,
          223,
          224,
          225,
          226,
          227,
          228,
          229,
          230,
          231,
          232,
          233,
          234,
          235,
          236,
          237,
          238,
          239,
          240,
          241,
          242,
          243,
          244,
          245,
          246,
          247,
          248,
          249,
          250,
          251,
          252,
          253,
          254,
          255,
          256,
          257,
          258,
          259,
          260,
          261,
          262,
          263,
          264,
          265,
          266,
          267,
          268,
          269,
          270
         ],
         "xaxis": "x",
         "y": [
          1,
          0.9999999972685973,
          0.9999999875107335,
          0.9999999846515712,
          0.9999999846500546,
          0.9999999709211923,
          0.9999999707450828,
          0.9999999694480075,
          0.9999999694063998,
          0.9999999472646987,
          0.9999999472491711,
          0.9999999405276623,
          0.999999939975249,
          0.9999999397612507,
          0.9999999332328582,
          0.9999999328402313,
          0.999999932807595,
          0.9999999073795584,
          0.999999904185074,
          0.999999879272345,
          0.9999998767729444,
          0.9999998767729444,
          0.9999998703482906,
          0.9999998683843507,
          0.9999998572598473,
          0.9999998571166454,
          0.9999998568776716,
          0.9999998568776445,
          0.9999998568776445,
          0.9999998502263047,
          0.99999985007384,
          0.9999998500602805,
          0.9999998500602805,
          0.9999998500593491,
          0.9999998500289693,
          0.9999998500008677,
          0.999999839052635,
          0.999999839052635,
          0.9999998383931167,
          0.999999838364213,
          0.9999998343732968,
          0.9999998317274705,
          0.9999998291454821,
          0.9999998290604775,
          0.9999998254568345,
          0.9999998165168513,
          0.9999998158254434,
          0.999999815825443,
          0.9999998153124078,
          0.9999997923867542,
          0.9999997808934364,
          0.9999997686934452,
          0.9999997616132527,
          0.9999997604700607,
          0.9999997409655678,
          0.9999997407489176,
          0.999999740747644,
          0.9999997372320759,
          0.9999997262974727,
          0.9999997262925566,
          0.9999997256453207,
          0.9999997250843207,
          0.9999997243928864,
          0.9999997243928863,
          0.9999997177860286,
          0.999999717696643,
          0.9999996878798446,
          0.9999996837339366,
          0.999999683658213,
          0.9999996780222675,
          0.9999996780222675,
          0.9999996780222669,
          0.9999996770269376,
          0.9999996726610958,
          0.9999996717354521,
          0.9999996621029107,
          0.9999996557071005,
          0.9999996542947656,
          0.9999996537892448,
          0.9999996378525531,
          0.9999996378524921,
          0.999999637852492,
          0.9999996321956857,
          0.9999996120689839,
          0.9999996064348121,
          0.9999996064227868,
          0.9999995565451187,
          0.9999995565451187,
          0.9999995559928228,
          0.9999995559928228,
          0.9999994719251384,
          0.9999994695907536,
          0.9999994585673648,
          0.9999994575866835,
          0.9999994487603246,
          0.9999994484806641,
          0.9999994484030708,
          0.9999994442506347,
          0.9999994301681686,
          0.9999994288312191,
          0.9999994111316292,
          0.9999994054656675,
          0.9999993993756982,
          0.9999993993756863,
          0.9999993978688535,
          0.9999993975144499,
          0.9999993437289978,
          0.999999343724847,
          0.9999993396839616,
          0.9999993379538897,
          0.9999993037155296,
          0.9999992915012712,
          0.9999992915012696,
          0.9999992865115943,
          0.9999992349654859,
          0.9999992219429014,
          0.9999992219429013,
          0.9999992219429013,
          0.9999992219429009,
          0.9999991620624346,
          0.9999991559486311,
          0.9999988106115958,
          0.999998810611566,
          0.9999987927943178,
          0.9999987861819698,
          0.9999987861819674,
          0.9999987772338906,
          0.9999985743783372,
          0.9999985734692795,
          0.9999985683298424,
          0.999998565679686,
          0.9999985523099653,
          0.999998538395506,
          0.9999985124525274,
          0.9999983734002029,
          0.9999983700480722,
          0.9999983454435575,
          0.9999983007977301,
          0.9999980627753278,
          0.999998062032788,
          0.9999980620327878,
          0.9999980609977694,
          0.9999980490384907,
          0.9999980449336626,
          0.9999980449336617,
          0.999998042648096,
          0.9999979465100117,
          0.999997926004771,
          0.9999979254134439,
          0.9999978890820268,
          0.9999978735416213,
          0.9999978268466496,
          0.999997772625166,
          0.9999972742961095,
          0.9999972740993195,
          0.9999963836200318,
          0.999996378773369,
          0.9999961742878967,
          0.9999961742877884,
          0.9999957585054065,
          0.999995114505342,
          0.9999949313548512,
          0.9999948246758342,
          0.9999945992566216,
          0.9999945670906643,
          0.9999944186503962,
          0.9999943300846659,
          0.999994085616832,
          0.999994056596431,
          0.9999939874341968,
          0.9999939089236898,
          0.9999939089236859,
          0.9999928420088848,
          0.9999928420088802,
          0.9999922936121705,
          0.999991603763368,
          0.9999897859135906,
          0.9999897371124827,
          0.9999890154822272,
          0.9999889789418137,
          0.9999889542734345,
          0.9999867955765889,
          0.99998678529642,
          0.9999863043362843,
          0.9999843911248764,
          0.9999825325809999,
          0.9999818805917805,
          0.9999799773505785,
          0.9999758312609818,
          0.9999754192993973,
          0.9999704948731624,
          0.9999704948731537,
          0.999968980547425,
          0.9999653746760424,
          0.9999652317173499,
          0.9999440351141703,
          0.9999361999902584,
          0.9999128693890782,
          0.9999128693598556,
          0.9999120281556165,
          0.9999095762103674,
          0.9999095479476486,
          0.9999091337265398,
          0.999905595304252,
          0.9999055952954288,
          0.9998991620718087,
          0.9996158301640304,
          0.9996158297078443,
          0.9996158296613256,
          0.9996149638373096,
          0.9995968892243344,
          0.999594435177421,
          0.9995938087560209,
          0.9995669290109063,
          0.9995665776930398,
          0.9995508787454875,
          0.9995500928457272,
          0.9995396510504273,
          0.9995389550983055,
          0.9995256400338823,
          0.9995187777261304,
          0.9995187048577521,
          0.9995181073471076,
          0.999233632320823,
          0.9992257816183205,
          0.9991796595380091,
          0.9991642048048709,
          0.9978981287270552,
          0.99787739808507,
          0.9959494145710635,
          0.9785394610733389,
          0.977048311417651,
          0.9468377166540278,
          0.925461706797197,
          0.9212232383191624,
          0.9060108411076709,
          0.8966281846771731,
          0.8956665543780228,
          0.8953783506680741,
          0.8953482021035105,
          0.8932335382338702,
          0.8807971902796765,
          0.8014022759343764,
          0.8009954896247851,
          0.3838031932351495,
          0.35204606687080964,
          0.3397545357523662,
          0.3395591951039614,
          0.3374865485758955,
          0.2773533431387602,
          0.27728410075207716,
          0.058988280328503284,
          0.0581382545768828,
          0.0578230517108539,
          0.05530682148845247,
          0.010286517693904618,
          0.00039135351925570695,
          0.0003471585845452589,
          0.00032537915922237014,
          1.4296794269220414e-05,
          5.819277662486994e-06,
          2.7983369102000933e-07,
          1.859549913470131e-08,
          2.517492476083107e-10,
          3.9557300004066745e-12,
          9.623403019463926e-14,
          1.6038702936693464e-15,
          5.946336846628457e-17,
          1.5145472653515768e-19,
          1.6244273967529781e-21,
          3.595150331785371e-24
         ],
         "yaxis": "y"
        }
       ],
       "layout": {
        "autosize": true,
        "legend": {
         "title": {
          "text": "variable"
         },
         "tracegroupgap": 0
        },
        "shapes": [
         {
          "name": "actual TTF start",
          "type": "line",
          "x0": 261,
          "x1": 261,
          "xref": "x",
          "y0": 0,
          "y1": 1,
          "yref": "paper"
         }
        ],
        "template": {
         "data": {
          "bar": [
           {
            "error_x": {
             "color": "#2a3f5f"
            },
            "error_y": {
             "color": "#2a3f5f"
            },
            "marker": {
             "line": {
              "color": "#E5ECF6",
              "width": 0.5
             }
            },
            "type": "bar"
           }
          ],
          "barpolar": [
           {
            "marker": {
             "line": {
              "color": "#E5ECF6",
              "width": 0.5
             }
            },
            "type": "barpolar"
           }
          ],
          "carpet": [
           {
            "aaxis": {
             "endlinecolor": "#2a3f5f",
             "gridcolor": "white",
             "linecolor": "white",
             "minorgridcolor": "white",
             "startlinecolor": "#2a3f5f"
            },
            "baxis": {
             "endlinecolor": "#2a3f5f",
             "gridcolor": "white",
             "linecolor": "white",
             "minorgridcolor": "white",
             "startlinecolor": "#2a3f5f"
            },
            "type": "carpet"
           }
          ],
          "choropleth": [
           {
            "colorbar": {
             "outlinewidth": 0,
             "ticks": ""
            },
            "type": "choropleth"
           }
          ],
          "contour": [
           {
            "colorbar": {
             "outlinewidth": 0,
             "ticks": ""
            },
            "colorscale": [
             [
              0,
              "#0d0887"
             ],
             [
              0.1111111111111111,
              "#46039f"
             ],
             [
              0.2222222222222222,
              "#7201a8"
             ],
             [
              0.3333333333333333,
              "#9c179e"
             ],
             [
              0.4444444444444444,
              "#bd3786"
             ],
             [
              0.5555555555555556,
              "#d8576b"
             ],
             [
              0.6666666666666666,
              "#ed7953"
             ],
             [
              0.7777777777777778,
              "#fb9f3a"
             ],
             [
              0.8888888888888888,
              "#fdca26"
             ],
             [
              1,
              "#f0f921"
             ]
            ],
            "type": "contour"
           }
          ],
          "contourcarpet": [
           {
            "colorbar": {
             "outlinewidth": 0,
             "ticks": ""
            },
            "type": "contourcarpet"
           }
          ],
          "heatmap": [
           {
            "colorbar": {
             "outlinewidth": 0,
             "ticks": ""
            },
            "colorscale": [
             [
              0,
              "#0d0887"
             ],
             [
              0.1111111111111111,
              "#46039f"
             ],
             [
              0.2222222222222222,
              "#7201a8"
             ],
             [
              0.3333333333333333,
              "#9c179e"
             ],
             [
              0.4444444444444444,
              "#bd3786"
             ],
             [
              0.5555555555555556,
              "#d8576b"
             ],
             [
              0.6666666666666666,
              "#ed7953"
             ],
             [
              0.7777777777777778,
              "#fb9f3a"
             ],
             [
              0.8888888888888888,
              "#fdca26"
             ],
             [
              1,
              "#f0f921"
             ]
            ],
            "type": "heatmap"
           }
          ],
          "heatmapgl": [
           {
            "colorbar": {
             "outlinewidth": 0,
             "ticks": ""
            },
            "colorscale": [
             [
              0,
              "#0d0887"
             ],
             [
              0.1111111111111111,
              "#46039f"
             ],
             [
              0.2222222222222222,
              "#7201a8"
             ],
             [
              0.3333333333333333,
              "#9c179e"
             ],
             [
              0.4444444444444444,
              "#bd3786"
             ],
             [
              0.5555555555555556,
              "#d8576b"
             ],
             [
              0.6666666666666666,
              "#ed7953"
             ],
             [
              0.7777777777777778,
              "#fb9f3a"
             ],
             [
              0.8888888888888888,
              "#fdca26"
             ],
             [
              1,
              "#f0f921"
             ]
            ],
            "type": "heatmapgl"
           }
          ],
          "histogram": [
           {
            "marker": {
             "colorbar": {
              "outlinewidth": 0,
              "ticks": ""
             }
            },
            "type": "histogram"
           }
          ],
          "histogram2d": [
           {
            "colorbar": {
             "outlinewidth": 0,
             "ticks": ""
            },
            "colorscale": [
             [
              0,
              "#0d0887"
             ],
             [
              0.1111111111111111,
              "#46039f"
             ],
             [
              0.2222222222222222,
              "#7201a8"
             ],
             [
              0.3333333333333333,
              "#9c179e"
             ],
             [
              0.4444444444444444,
              "#bd3786"
             ],
             [
              0.5555555555555556,
              "#d8576b"
             ],
             [
              0.6666666666666666,
              "#ed7953"
             ],
             [
              0.7777777777777778,
              "#fb9f3a"
             ],
             [
              0.8888888888888888,
              "#fdca26"
             ],
             [
              1,
              "#f0f921"
             ]
            ],
            "type": "histogram2d"
           }
          ],
          "histogram2dcontour": [
           {
            "colorbar": {
             "outlinewidth": 0,
             "ticks": ""
            },
            "colorscale": [
             [
              0,
              "#0d0887"
             ],
             [
              0.1111111111111111,
              "#46039f"
             ],
             [
              0.2222222222222222,
              "#7201a8"
             ],
             [
              0.3333333333333333,
              "#9c179e"
             ],
             [
              0.4444444444444444,
              "#bd3786"
             ],
             [
              0.5555555555555556,
              "#d8576b"
             ],
             [
              0.6666666666666666,
              "#ed7953"
             ],
             [
              0.7777777777777778,
              "#fb9f3a"
             ],
             [
              0.8888888888888888,
              "#fdca26"
             ],
             [
              1,
              "#f0f921"
             ]
            ],
            "type": "histogram2dcontour"
           }
          ],
          "mesh3d": [
           {
            "colorbar": {
             "outlinewidth": 0,
             "ticks": ""
            },
            "type": "mesh3d"
           }
          ],
          "parcoords": [
           {
            "line": {
             "colorbar": {
              "outlinewidth": 0,
              "ticks": ""
             }
            },
            "type": "parcoords"
           }
          ],
          "pie": [
           {
            "automargin": true,
            "type": "pie"
           }
          ],
          "scatter": [
           {
            "marker": {
             "colorbar": {
              "outlinewidth": 0,
              "ticks": ""
             }
            },
            "type": "scatter"
           }
          ],
          "scatter3d": [
           {
            "line": {
             "colorbar": {
              "outlinewidth": 0,
              "ticks": ""
             }
            },
            "marker": {
             "colorbar": {
              "outlinewidth": 0,
              "ticks": ""
             }
            },
            "type": "scatter3d"
           }
          ],
          "scattercarpet": [
           {
            "marker": {
             "colorbar": {
              "outlinewidth": 0,
              "ticks": ""
             }
            },
            "type": "scattercarpet"
           }
          ],
          "scattergeo": [
           {
            "marker": {
             "colorbar": {
              "outlinewidth": 0,
              "ticks": ""
             }
            },
            "type": "scattergeo"
           }
          ],
          "scattergl": [
           {
            "marker": {
             "colorbar": {
              "outlinewidth": 0,
              "ticks": ""
             }
            },
            "type": "scattergl"
           }
          ],
          "scattermapbox": [
           {
            "marker": {
             "colorbar": {
              "outlinewidth": 0,
              "ticks": ""
             }
            },
            "type": "scattermapbox"
           }
          ],
          "scatterpolar": [
           {
            "marker": {
             "colorbar": {
              "outlinewidth": 0,
              "ticks": ""
             }
            },
            "type": "scatterpolar"
           }
          ],
          "scatterpolargl": [
           {
            "marker": {
             "colorbar": {
              "outlinewidth": 0,
              "ticks": ""
             }
            },
            "type": "scatterpolargl"
           }
          ],
          "scatterternary": [
           {
            "marker": {
             "colorbar": {
              "outlinewidth": 0,
              "ticks": ""
             }
            },
            "type": "scatterternary"
           }
          ],
          "surface": [
           {
            "colorbar": {
             "outlinewidth": 0,
             "ticks": ""
            },
            "colorscale": [
             [
              0,
              "#0d0887"
             ],
             [
              0.1111111111111111,
              "#46039f"
             ],
             [
              0.2222222222222222,
              "#7201a8"
             ],
             [
              0.3333333333333333,
              "#9c179e"
             ],
             [
              0.4444444444444444,
              "#bd3786"
             ],
             [
              0.5555555555555556,
              "#d8576b"
             ],
             [
              0.6666666666666666,
              "#ed7953"
             ],
             [
              0.7777777777777778,
              "#fb9f3a"
             ],
             [
              0.8888888888888888,
              "#fdca26"
             ],
             [
              1,
              "#f0f921"
             ]
            ],
            "type": "surface"
           }
          ],
          "table": [
           {
            "cells": {
             "fill": {
              "color": "#EBF0F8"
             },
             "line": {
              "color": "white"
             }
            },
            "header": {
             "fill": {
              "color": "#C8D4E3"
             },
             "line": {
              "color": "white"
             }
            },
            "type": "table"
           }
          ]
         },
         "layout": {
          "annotationdefaults": {
           "arrowcolor": "#2a3f5f",
           "arrowhead": 0,
           "arrowwidth": 1
          },
          "autotypenumbers": "strict",
          "coloraxis": {
           "colorbar": {
            "outlinewidth": 0,
            "ticks": ""
           }
          },
          "colorscale": {
           "diverging": [
            [
             0,
             "#8e0152"
            ],
            [
             0.1,
             "#c51b7d"
            ],
            [
             0.2,
             "#de77ae"
            ],
            [
             0.3,
             "#f1b6da"
            ],
            [
             0.4,
             "#fde0ef"
            ],
            [
             0.5,
             "#f7f7f7"
            ],
            [
             0.6,
             "#e6f5d0"
            ],
            [
             0.7,
             "#b8e186"
            ],
            [
             0.8,
             "#7fbc41"
            ],
            [
             0.9,
             "#4d9221"
            ],
            [
             1,
             "#276419"
            ]
           ],
           "sequential": [
            [
             0,
             "#0d0887"
            ],
            [
             0.1111111111111111,
             "#46039f"
            ],
            [
             0.2222222222222222,
             "#7201a8"
            ],
            [
             0.3333333333333333,
             "#9c179e"
            ],
            [
             0.4444444444444444,
             "#bd3786"
            ],
            [
             0.5555555555555556,
             "#d8576b"
            ],
            [
             0.6666666666666666,
             "#ed7953"
            ],
            [
             0.7777777777777778,
             "#fb9f3a"
            ],
            [
             0.8888888888888888,
             "#fdca26"
            ],
            [
             1,
             "#f0f921"
            ]
           ],
           "sequentialminus": [
            [
             0,
             "#0d0887"
            ],
            [
             0.1111111111111111,
             "#46039f"
            ],
            [
             0.2222222222222222,
             "#7201a8"
            ],
            [
             0.3333333333333333,
             "#9c179e"
            ],
            [
             0.4444444444444444,
             "#bd3786"
            ],
            [
             0.5555555555555556,
             "#d8576b"
            ],
            [
             0.6666666666666666,
             "#ed7953"
            ],
            [
             0.7777777777777778,
             "#fb9f3a"
            ],
            [
             0.8888888888888888,
             "#fdca26"
            ],
            [
             1,
             "#f0f921"
            ]
           ]
          },
          "colorway": [
           "#636efa",
           "#EF553B",
           "#00cc96",
           "#ab63fa",
           "#FFA15A",
           "#19d3f3",
           "#FF6692",
           "#B6E880",
           "#FF97FF",
           "#FECB52"
          ],
          "font": {
           "color": "#2a3f5f"
          },
          "geo": {
           "bgcolor": "white",
           "lakecolor": "white",
           "landcolor": "#E5ECF6",
           "showlakes": true,
           "showland": true,
           "subunitcolor": "white"
          },
          "hoverlabel": {
           "align": "left"
          },
          "hovermode": "closest",
          "mapbox": {
           "style": "light"
          },
          "paper_bgcolor": "white",
          "plot_bgcolor": "#E5ECF6",
          "polar": {
           "angularaxis": {
            "gridcolor": "white",
            "linecolor": "white",
            "ticks": ""
           },
           "bgcolor": "#E5ECF6",
           "radialaxis": {
            "gridcolor": "white",
            "linecolor": "white",
            "ticks": ""
           }
          },
          "scene": {
           "xaxis": {
            "backgroundcolor": "#E5ECF6",
            "gridcolor": "white",
            "gridwidth": 2,
            "linecolor": "white",
            "showbackground": true,
            "ticks": "",
            "zerolinecolor": "white"
           },
           "yaxis": {
            "backgroundcolor": "#E5ECF6",
            "gridcolor": "white",
            "gridwidth": 2,
            "linecolor": "white",
            "showbackground": true,
            "ticks": "",
            "zerolinecolor": "white"
           },
           "zaxis": {
            "backgroundcolor": "#E5ECF6",
            "gridcolor": "white",
            "gridwidth": 2,
            "linecolor": "white",
            "showbackground": true,
            "ticks": "",
            "zerolinecolor": "white"
           }
          },
          "shapedefaults": {
           "line": {
            "color": "#2a3f5f"
           }
          },
          "ternary": {
           "aaxis": {
            "gridcolor": "white",
            "linecolor": "white",
            "ticks": ""
           },
           "baxis": {
            "gridcolor": "white",
            "linecolor": "white",
            "ticks": ""
           },
           "bgcolor": "#E5ECF6",
           "caxis": {
            "gridcolor": "white",
            "linecolor": "white",
            "ticks": ""
           }
          },
          "title": {
           "x": 0.05
          },
          "xaxis": {
           "automargin": true,
           "gridcolor": "white",
           "linecolor": "white",
           "ticks": "",
           "title": {
            "standoff": 15
           },
           "zerolinecolor": "white",
           "zerolinewidth": 2
          },
          "yaxis": {
           "automargin": true,
           "gridcolor": "white",
           "linecolor": "white",
           "ticks": "",
           "title": {
            "standoff": 15
           },
           "zerolinecolor": "white",
           "zerolinewidth": 2
          }
         }
        },
        "title": {
         "text": "survival curve for 11fd_002"
        },
        "xaxis": {
         "anchor": "y",
         "autorange": true,
         "domain": [
          0,
          1
         ],
         "range": [
          0,
          270
         ],
         "title": {
          "text": "index"
         },
         "type": "linear"
        },
        "yaxis": {
         "anchor": "x",
         "autorange": true,
         "domain": [
          0,
          1
         ],
         "range": [
          -0.05555555555555556,
          1.0555555555555556
         ],
         "title": {
          "text": "value"
         },
         "type": "linear"
        }
       }
      },
      "image/png": "[encoded data removed]",
      "text/html": [
       "<div>                            <div id=\"5339e0ba-1472-4657-be1d-56b054e99daf\" class=\"plotly-graph-div\" style=\"height:525px; width:100%;\"></div>            <script type=\"text/javascript\">                require([\"plotly\"], function(Plotly) {                    window.PLOTLYENV=window.PLOTLYENV || {};                                    if (document.getElementById(\"5339e0ba-1472-4657-be1d-56b054e99daf\")) {                    Plotly.newPlot(                        \"5339e0ba-1472-4657-be1d-56b054e99daf\",                        [{\"hovertemplate\": \"variable=11fd_002<br>index=%{x}<br>value=%{y}<extra></extra>\", \"legendgroup\": \"11fd_002\", \"line\": {\"color\": \"#636efa\", \"dash\": \"solid\"}, \"mode\": \"lines\", \"name\": \"11fd_002\", \"orientation\": \"v\", \"showlegend\": true, \"type\": \"scatter\", \"x\": [0, 1, 2, 3, 4, 5, 6, 7, 8, 9, 10, 11, 12, 13, 14, 15, 16, 17, 18, 19, 20, 21, 22, 23, 24, 25, 26, 27, 28, 29, 30, 31, 32, 33, 34, 35, 36, 37, 38, 39, 40, 41, 42, 43, 44, 45, 46, 47, 48, 49, 50, 51, 52, 53, 54, 55, 56, 57, 58, 59, 60, 61, 62, 63, 64, 65, 66, 67, 68, 69, 70, 71, 72, 73, 74, 75, 76, 77, 78, 79, 80, 81, 82, 83, 84, 85, 86, 87, 88, 89, 90, 91, 92, 93, 94, 95, 96, 97, 98, 99, 100, 101, 102, 103, 104, 105, 106, 107, 108, 109, 110, 111, 112, 113, 114, 115, 116, 117, 118, 119, 120, 121, 122, 123, 124, 125, 126, 127, 128, 129, 130, 131, 132, 133, 134, 135, 136, 137, 138, 139, 140, 141, 142, 143, 144, 145, 146, 147, 148, 149, 150, 151, 152, 153, 154, 155, 156, 157, 158, 159, 160, 161, 162, 163, 164, 165, 166, 167, 168, 169, 170, 171, 172, 173, 174, 175, 176, 177, 178, 179, 180, 181, 182, 183, 184, 185, 186, 187, 188, 189, 190, 191, 192, 193, 194, 195, 196, 197, 198, 199, 200, 201, 202, 203, 204, 205, 206, 207, 208, 209, 210, 211, 212, 213, 214, 215, 216, 217, 218, 219, 220, 221, 222, 223, 224, 225, 226, 227, 228, 229, 230, 231, 232, 233, 234, 235, 236, 237, 238, 239, 240, 241, 242, 243, 244, 245, 246, 247, 248, 249, 250, 251, 252, 253, 254, 255, 256, 257, 258, 259, 260, 261, 262, 263, 264, 265, 266, 267, 268, 269, 270], \"xaxis\": \"x\", \"y\": [1.0, 0.9999999972685973, 0.9999999875107335, 0.9999999846515712, 0.9999999846500546, 0.9999999709211923, 0.9999999707450828, 0.9999999694480075, 0.9999999694063998, 0.9999999472646987, 0.9999999472491711, 0.9999999405276623, 0.999999939975249, 0.9999999397612507, 0.9999999332328582, 0.9999999328402313, 0.999999932807595, 0.9999999073795584, 0.999999904185074, 0.999999879272345, 0.9999998767729444, 0.9999998767729444, 0.9999998703482906, 0.9999998683843507, 0.9999998572598473, 0.9999998571166454, 0.9999998568776716, 0.9999998568776445, 0.9999998568776445, 0.9999998502263047, 0.99999985007384, 0.9999998500602805, 0.9999998500602805, 0.9999998500593491, 0.9999998500289693, 0.9999998500008677, 0.999999839052635, 0.999999839052635, 0.9999998383931167, 0.999999838364213, 0.9999998343732968, 0.9999998317274705, 0.9999998291454821, 0.9999998290604775, 0.9999998254568345, 0.9999998165168513, 0.9999998158254434, 0.999999815825443, 0.9999998153124078, 0.9999997923867542, 0.9999997808934364, 0.9999997686934452, 0.9999997616132527, 0.9999997604700607, 0.9999997409655678, 0.9999997407489176, 0.999999740747644, 0.9999997372320759, 0.9999997262974727, 0.9999997262925566, 0.9999997256453207, 0.9999997250843207, 0.9999997243928864, 0.9999997243928863, 0.9999997177860286, 0.999999717696643, 0.9999996878798446, 0.9999996837339366, 0.999999683658213, 0.9999996780222675, 0.9999996780222675, 0.9999996780222669, 0.9999996770269376, 0.9999996726610958, 0.9999996717354521, 0.9999996621029107, 0.9999996557071005, 0.9999996542947656, 0.9999996537892448, 0.9999996378525531, 0.9999996378524921, 0.999999637852492, 0.9999996321956857, 0.9999996120689839, 0.9999996064348121, 0.9999996064227868, 0.9999995565451187, 0.9999995565451187, 0.9999995559928228, 0.9999995559928228, 0.9999994719251384, 0.9999994695907536, 0.9999994585673648, 0.9999994575866835, 0.9999994487603246, 0.9999994484806641, 0.9999994484030708, 0.9999994442506347, 0.9999994301681686, 0.9999994288312191, 0.9999994111316292, 0.9999994054656675, 0.9999993993756982, 0.9999993993756863, 0.9999993978688535, 0.9999993975144499, 0.9999993437289978, 0.999999343724847, 0.9999993396839616, 0.9999993379538897, 0.9999993037155296, 0.9999992915012712, 0.9999992915012696, 0.9999992865115943, 0.9999992349654859, 0.9999992219429014, 0.9999992219429013, 0.9999992219429013, 0.9999992219429009, 0.9999991620624346, 0.9999991559486311, 0.9999988106115958, 0.999998810611566, 0.9999987927943178, 0.9999987861819698, 0.9999987861819674, 0.9999987772338906, 0.9999985743783372, 0.9999985734692795, 0.9999985683298424, 0.999998565679686, 0.9999985523099653, 0.999998538395506, 0.9999985124525274, 0.9999983734002029, 0.9999983700480722, 0.9999983454435575, 0.9999983007977301, 0.9999980627753278, 0.999998062032788, 0.9999980620327878, 0.9999980609977694, 0.9999980490384907, 0.9999980449336626, 0.9999980449336617, 0.999998042648096, 0.9999979465100117, 0.999997926004771, 0.9999979254134439, 0.9999978890820268, 0.9999978735416213, 0.9999978268466496, 0.999997772625166, 0.9999972742961095, 0.9999972740993195, 0.9999963836200318, 0.999996378773369, 0.9999961742878967, 0.9999961742877884, 0.9999957585054065, 0.999995114505342, 0.9999949313548512, 0.9999948246758342, 0.9999945992566216, 0.9999945670906643, 0.9999944186503962, 0.9999943300846659, 0.999994085616832, 0.999994056596431, 0.9999939874341968, 0.9999939089236898, 0.9999939089236859, 0.9999928420088848, 0.9999928420088802, 0.9999922936121705, 0.999991603763368, 0.9999897859135906, 0.9999897371124827, 0.9999890154822272, 0.9999889789418137, 0.9999889542734345, 0.9999867955765889, 0.99998678529642, 0.9999863043362843, 0.9999843911248764, 0.9999825325809999, 0.9999818805917805, 0.9999799773505785, 0.9999758312609818, 0.9999754192993973, 0.9999704948731624, 0.9999704948731537, 0.999968980547425, 0.9999653746760424, 0.9999652317173499, 0.9999440351141703, 0.9999361999902584, 0.9999128693890782, 0.9999128693598556, 0.9999120281556165, 0.9999095762103674, 0.9999095479476486, 0.9999091337265398, 0.999905595304252, 0.9999055952954288, 0.9998991620718087, 0.9996158301640304, 0.9996158297078443, 0.9996158296613256, 0.9996149638373096, 0.9995968892243344, 0.999594435177421, 0.9995938087560209, 0.9995669290109063, 0.9995665776930398, 0.9995508787454875, 0.9995500928457272, 0.9995396510504273, 0.9995389550983055, 0.9995256400338823, 0.9995187777261304, 0.9995187048577521, 0.9995181073471076, 0.999233632320823, 0.9992257816183205, 0.9991796595380091, 0.9991642048048709, 0.9978981287270552, 0.99787739808507, 0.9959494145710635, 0.9785394610733389, 0.977048311417651, 0.9468377166540278, 0.925461706797197, 0.9212232383191624, 0.9060108411076709, 0.8966281846771731, 0.8956665543780228, 0.8953783506680741, 0.8953482021035105, 0.8932335382338702, 0.8807971902796765, 0.8014022759343764, 0.8009954896247851, 0.3838031932351495, 0.35204606687080964, 0.3397545357523662, 0.3395591951039614, 0.3374865485758955, 0.2773533431387602, 0.27728410075207716, 0.058988280328503284, 0.0581382545768828, 0.0578230517108539, 0.05530682148845247, 0.010286517693904618, 0.00039135351925570695, 0.0003471585845452589, 0.00032537915922237014, 1.4296794269220414e-05, 5.819277662486994e-06, 2.7983369102000933e-07, 1.859549913470131e-08, 2.517492476083107e-10, 3.9557300004066745e-12, 9.623403019463926e-14, 1.6038702936693464e-15, 5.946336846628457e-17, 1.5145472653515768e-19, 1.6244273967529781e-21, 3.595150331785371e-24], \"yaxis\": \"y\"}],                        {\"legend\": {\"title\": {\"text\": \"variable\"}, \"tracegroupgap\": 0}, \"shapes\": [{\"name\": \"actual TTF start\", \"type\": \"line\", \"x0\": 261, \"x1\": 261, \"xref\": \"x\", \"y0\": 0, \"y1\": 1, \"yref\": \"paper\"}], \"template\": {\"data\": {\"bar\": [{\"error_x\": {\"color\": \"#2a3f5f\"}, \"error_y\": {\"color\": \"#2a3f5f\"}, \"marker\": {\"line\": {\"color\": \"#E5ECF6\", \"width\": 0.5}}, \"type\": \"bar\"}], \"barpolar\": [{\"marker\": {\"line\": {\"color\": \"#E5ECF6\", \"width\": 0.5}}, \"type\": \"barpolar\"}], \"carpet\": [{\"aaxis\": {\"endlinecolor\": \"#2a3f5f\", \"gridcolor\": \"white\", \"linecolor\": \"white\", \"minorgridcolor\": \"white\", \"startlinecolor\": \"#2a3f5f\"}, \"baxis\": {\"endlinecolor\": \"#2a3f5f\", \"gridcolor\": \"white\", \"linecolor\": \"white\", \"minorgridcolor\": \"white\", \"startlinecolor\": \"#2a3f5f\"}, \"type\": \"carpet\"}], \"choropleth\": [{\"colorbar\": {\"outlinewidth\": 0, \"ticks\": \"\"}, \"type\": \"choropleth\"}], \"contour\": [{\"colorbar\": {\"outlinewidth\": 0, \"ticks\": \"\"}, \"colorscale\": [[0.0, \"#0d0887\"], [0.1111111111111111, \"#46039f\"], [0.2222222222222222, \"#7201a8\"], [0.3333333333333333, \"#9c179e\"], [0.4444444444444444, \"#bd3786\"], [0.5555555555555556, \"#d8576b\"], [0.6666666666666666, \"#ed7953\"], [0.7777777777777778, \"#fb9f3a\"], [0.8888888888888888, \"#fdca26\"], [1.0, \"#f0f921\"]], \"type\": \"contour\"}], \"contourcarpet\": [{\"colorbar\": {\"outlinewidth\": 0, \"ticks\": \"\"}, \"type\": \"contourcarpet\"}], \"heatmap\": [{\"colorbar\": {\"outlinewidth\": 0, \"ticks\": \"\"}, \"colorscale\": [[0.0, \"#0d0887\"], [0.1111111111111111, \"#46039f\"], [0.2222222222222222, \"#7201a8\"], [0.3333333333333333, \"#9c179e\"], [0.4444444444444444, \"#bd3786\"], [0.5555555555555556, \"#d8576b\"], [0.6666666666666666, \"#ed7953\"], [0.7777777777777778, \"#fb9f3a\"], [0.8888888888888888, \"#fdca26\"], [1.0, \"#f0f921\"]], \"type\": \"heatmap\"}], \"heatmapgl\": [{\"colorbar\": {\"outlinewidth\": 0, \"ticks\": \"\"}, \"colorscale\": [[0.0, \"#0d0887\"], [0.1111111111111111, \"#46039f\"], [0.2222222222222222, \"#7201a8\"], [0.3333333333333333, \"#9c179e\"], [0.4444444444444444, \"#bd3786\"], [0.5555555555555556, \"#d8576b\"], [0.6666666666666666, \"#ed7953\"], [0.7777777777777778, \"#fb9f3a\"], [0.8888888888888888, \"#fdca26\"], [1.0, \"#f0f921\"]], \"type\": \"heatmapgl\"}], \"histogram\": [{\"marker\": {\"colorbar\": {\"outlinewidth\": 0, \"ticks\": \"\"}}, \"type\": \"histogram\"}], \"histogram2d\": [{\"colorbar\": {\"outlinewidth\": 0, \"ticks\": \"\"}, \"colorscale\": [[0.0, \"#0d0887\"], [0.1111111111111111, \"#46039f\"], [0.2222222222222222, \"#7201a8\"], [0.3333333333333333, \"#9c179e\"], [0.4444444444444444, \"#bd3786\"], [0.5555555555555556, \"#d8576b\"], [0.6666666666666666, \"#ed7953\"], [0.7777777777777778, \"#fb9f3a\"], [0.8888888888888888, \"#fdca26\"], [1.0, \"#f0f921\"]], \"type\": \"histogram2d\"}], \"histogram2dcontour\": [{\"colorbar\": {\"outlinewidth\": 0, \"ticks\": \"\"}, \"colorscale\": [[0.0, \"#0d0887\"], [0.1111111111111111, \"#46039f\"], [0.2222222222222222, \"#7201a8\"], [0.3333333333333333, \"#9c179e\"], [0.4444444444444444, \"#bd3786\"], [0.5555555555555556, \"#d8576b\"], [0.6666666666666666, \"#ed7953\"], [0.7777777777777778, \"#fb9f3a\"], [0.8888888888888888, \"#fdca26\"], [1.0, \"#f0f921\"]], \"type\": \"histogram2dcontour\"}], \"mesh3d\": [{\"colorbar\": {\"outlinewidth\": 0, \"ticks\": \"\"}, \"type\": \"mesh3d\"}], \"parcoords\": [{\"line\": {\"colorbar\": {\"outlinewidth\": 0, \"ticks\": \"\"}}, \"type\": \"parcoords\"}], \"pie\": [{\"automargin\": true, \"type\": \"pie\"}], \"scatter\": [{\"marker\": {\"colorbar\": {\"outlinewidth\": 0, \"ticks\": \"\"}}, \"type\": \"scatter\"}], \"scatter3d\": [{\"line\": {\"colorbar\": {\"outlinewidth\": 0, \"ticks\": \"\"}}, \"marker\": {\"colorbar\": {\"outlinewidth\": 0, \"ticks\": \"\"}}, \"type\": \"scatter3d\"}], \"scattercarpet\": [{\"marker\": {\"colorbar\": {\"outlinewidth\": 0, \"ticks\": \"\"}}, \"type\": \"scattercarpet\"}], \"scattergeo\": [{\"marker\": {\"colorbar\": {\"outlinewidth\": 0, \"ticks\": \"\"}}, \"type\": \"scattergeo\"}], \"scattergl\": [{\"marker\": {\"colorbar\": {\"outlinewidth\": 0, \"ticks\": \"\"}}, \"type\": \"scattergl\"}], \"scattermapbox\": [{\"marker\": {\"colorbar\": {\"outlinewidth\": 0, \"ticks\": \"\"}}, \"type\": \"scattermapbox\"}], \"scatterpolar\": [{\"marker\": {\"colorbar\": {\"outlinewidth\": 0, \"ticks\": \"\"}}, \"type\": \"scatterpolar\"}], \"scatterpolargl\": [{\"marker\": {\"colorbar\": {\"outlinewidth\": 0, \"ticks\": \"\"}}, \"type\": \"scatterpolargl\"}], \"scatterternary\": [{\"marker\": {\"colorbar\": {\"outlinewidth\": 0, \"ticks\": \"\"}}, \"type\": \"scatterternary\"}], \"surface\": [{\"colorbar\": {\"outlinewidth\": 0, \"ticks\": \"\"}, \"colorscale\": [[0.0, \"#0d0887\"], [0.1111111111111111, \"#46039f\"], [0.2222222222222222, \"#7201a8\"], [0.3333333333333333, \"#9c179e\"], [0.4444444444444444, \"#bd3786\"], [0.5555555555555556, \"#d8576b\"], [0.6666666666666666, \"#ed7953\"], [0.7777777777777778, \"#fb9f3a\"], [0.8888888888888888, \"#fdca26\"], [1.0, \"#f0f921\"]], \"type\": \"surface\"}], \"table\": [{\"cells\": {\"fill\": {\"color\": \"#EBF0F8\"}, \"line\": {\"color\": \"white\"}}, \"header\": {\"fill\": {\"color\": \"#C8D4E3\"}, \"line\": {\"color\": \"white\"}}, \"type\": \"table\"}]}, \"layout\": {\"annotationdefaults\": {\"arrowcolor\": \"#2a3f5f\", \"arrowhead\": 0, \"arrowwidth\": 1}, \"autotypenumbers\": \"strict\", \"coloraxis\": {\"colorbar\": {\"outlinewidth\": 0, \"ticks\": \"\"}}, \"colorscale\": {\"diverging\": [[0, \"#8e0152\"], [0.1, \"#c51b7d\"], [0.2, \"#de77ae\"], [0.3, \"#f1b6da\"], [0.4, \"#fde0ef\"], [0.5, \"#f7f7f7\"], [0.6, \"#e6f5d0\"], [0.7, \"#b8e186\"], [0.8, \"#7fbc41\"], [0.9, \"#4d9221\"], [1, \"#276419\"]], \"sequential\": [[0.0, \"#0d0887\"], [0.1111111111111111, \"#46039f\"], [0.2222222222222222, \"#7201a8\"], [0.3333333333333333, \"#9c179e\"], [0.4444444444444444, \"#bd3786\"], [0.5555555555555556, \"#d8576b\"], [0.6666666666666666, \"#ed7953\"], [0.7777777777777778, \"#fb9f3a\"], [0.8888888888888888, \"#fdca26\"], [1.0, \"#f0f921\"]], \"sequentialminus\": [[0.0, \"#0d0887\"], [0.1111111111111111, \"#46039f\"], [0.2222222222222222, \"#7201a8\"], [0.3333333333333333, \"#9c179e\"], [0.4444444444444444, \"#bd3786\"], [0.5555555555555556, \"#d8576b\"], [0.6666666666666666, \"#ed7953\"], [0.7777777777777778, \"#fb9f3a\"], [0.8888888888888888, \"#fdca26\"], [1.0, \"#f0f921\"]]}, \"colorway\": [\"#636efa\", \"#EF553B\", \"#00cc96\", \"#ab63fa\", \"#FFA15A\", \"#19d3f3\", \"#FF6692\", \"#B6E880\", \"#FF97FF\", \"#FECB52\"], \"font\": {\"color\": \"#2a3f5f\"}, \"geo\": {\"bgcolor\": \"white\", \"lakecolor\": \"white\", \"landcolor\": \"#E5ECF6\", \"showlakes\": true, \"showland\": true, \"subunitcolor\": \"white\"}, \"hoverlabel\": {\"align\": \"left\"}, \"hovermode\": \"closest\", \"mapbox\": {\"style\": \"light\"}, \"paper_bgcolor\": \"white\", \"plot_bgcolor\": \"#E5ECF6\", \"polar\": {\"angularaxis\": {\"gridcolor\": \"white\", \"linecolor\": \"white\", \"ticks\": \"\"}, \"bgcolor\": \"#E5ECF6\", \"radialaxis\": {\"gridcolor\": \"white\", \"linecolor\": \"white\", \"ticks\": \"\"}}, \"scene\": {\"xaxis\": {\"backgroundcolor\": \"#E5ECF6\", \"gridcolor\": \"white\", \"gridwidth\": 2, \"linecolor\": \"white\", \"showbackground\": true, \"ticks\": \"\", \"zerolinecolor\": \"white\"}, \"yaxis\": {\"backgroundcolor\": \"#E5ECF6\", \"gridcolor\": \"white\", \"gridwidth\": 2, \"linecolor\": \"white\", \"showbackground\": true, \"ticks\": \"\", \"zerolinecolor\": \"white\"}, \"zaxis\": {\"backgroundcolor\": \"#E5ECF6\", \"gridcolor\": \"white\", \"gridwidth\": 2, \"linecolor\": \"white\", \"showbackground\": true, \"ticks\": \"\", \"zerolinecolor\": \"white\"}}, \"shapedefaults\": {\"line\": {\"color\": \"#2a3f5f\"}}, \"ternary\": {\"aaxis\": {\"gridcolor\": \"white\", \"linecolor\": \"white\", \"ticks\": \"\"}, \"baxis\": {\"gridcolor\": \"white\", \"linecolor\": \"white\", \"ticks\": \"\"}, \"bgcolor\": \"#E5ECF6\", \"caxis\": {\"gridcolor\": \"white\", \"linecolor\": \"white\", \"ticks\": \"\"}}, \"title\": {\"x\": 0.05}, \"xaxis\": {\"automargin\": true, \"gridcolor\": \"white\", \"linecolor\": \"white\", \"ticks\": \"\", \"title\": {\"standoff\": 15}, \"zerolinecolor\": \"white\", \"zerolinewidth\": 2}, \"yaxis\": {\"automargin\": true, \"gridcolor\": \"white\", \"linecolor\": \"white\", \"ticks\": \"\", \"title\": {\"standoff\": 15}, \"zerolinecolor\": \"white\", \"zerolinewidth\": 2}}}, \"title\": {\"text\": \"survival curve for 11fd_002\"}, \"xaxis\": {\"anchor\": \"y\", \"domain\": [0.0, 1.0], \"title\": {\"text\": \"index\"}}, \"yaxis\": {\"anchor\": \"x\", \"domain\": [0.0, 1.0], \"title\": {\"text\": \"value\"}}},                        {\"responsive\": true}                    ).then(function(){\n",
       "                            \n",
       "var gd = document.getElementById('5339e0ba-1472-4657-be1d-56b054e99daf');\n",
       "var x = new MutationObserver(function (mutations, observer) {{\n",
       "        var display = window.getComputedStyle(gd).display;\n",
       "        if (!display || display === 'none') {{\n",
       "            console.log([gd, 'removed!']);\n",
       "            Plotly.purge(gd);\n",
       "            observer.disconnect();\n",
       "        }}\n",
       "}});\n",
       "\n",
       "// Listen for the removal of the full notebook cells\n",
       "var notebookContainer = gd.closest('#notebook-container');\n",
       "if (notebookContainer) {{\n",
       "    x.observe(notebookContainer, {childList: true});\n",
       "}}\n",
       "\n",
       "// Listen for the clearing of the current output cell\n",
       "var outputEl = gd.closest('.output');\n",
       "if (outputEl) {{\n",
       "    x.observe(outputEl, {childList: true});\n",
       "}}\n",
       "\n",
       "                        })                };                });            </script>        </div>"
      ]
     },
     "metadata": {},
     "output_type": "display_data"
    }
   ],
   "source": [
    "plotly.offline.init_notebook_mode(connected=True)\n",
    "df, dg = get_survival_function(valids[27], dfval, input_cols,\n",
    "                               scaler_xtrain, model,\n",
    "                              SHOW=True, AUTO_OPEN=False)"
   ]
  },
  {
   "cell_type": "markdown",
   "metadata": {
    "slideshow": {
     "slide_type": "slide"
    }
   },
   "source": [
    "Can cumulatively compute the dynamic survival function with streaming sensor input"
   ]
  },
  {
   "cell_type": "code",
   "execution_count": 71,
   "metadata": {
    "slideshow": {
     "slide_type": "skip"
    }
   },
   "outputs": [],
   "source": [
    "try:\n",
    "    os.mkdir('ANIMATEDSURVIVALCURVES')\n",
    "except:\n",
    "    pass"
   ]
  },
  {
   "cell_type": "code",
   "execution_count": 72,
   "metadata": {
    "slideshow": {
     "slide_type": "skip"
    }
   },
   "outputs": [],
   "source": [
    "import matplotlib.animation as animation\n"
   ]
  },
  {
   "cell_type": "code",
   "execution_count": 73,
   "metadata": {
    "slideshow": {
     "slide_type": "skip"
    }
   },
   "outputs": [],
   "source": [
    "def get_ani_function(identifier,dfval,input_cols,\n",
    "                          scaler_xtrain, clf, make_plot = True, SHOW=True,\n",
    "                         AUTO_OPEN=False):\n",
    "    \"\"\"Takes the input array X and the trained model.\n",
    "    returns the predicted survival function.\"\"\"\n",
    "    X_0 = scaler_xtrain.transform(dfval[dfval.id == identifier][input_cols].to_numpy())\n",
    "    #real_rul = dfval[dfval.id == identifier]['REAL_RUL']\n",
    "    #print(X_0)\n",
    "    hazards = clf.predict(X_0)\n",
    "    A = []\n",
    "    p_so_far = 1\n",
    "    for i in range(len(hazards)):\n",
    "        p_cur = hazards[i][0]\n",
    "        A.append(p_so_far*(1 - p_cur))\n",
    "        p_so_far = p_so_far*(1 - p_cur)\n",
    "    As = pd.Series(A)\n",
    "    As.name = identifier\n",
    "    \n",
    "    try:\n",
    "        dq = dfval[dfval.id == identifier].copy()\n",
    "        red = dq.groupby('label')['time_cycles'].min()\n",
    "        t_red = red.loc[1] # the time_cycles value at which to add a red vertical line\n",
    "    except:\n",
    "        pass\n",
    "    if make_plot:\n",
    "        fig = px.line(As, title=f\"survival curve for {identifier}\")\n",
    "        try:\n",
    "            fig.update_layout(shapes=[\n",
    "                   dict(\n",
    "                   type='line',name='actual TTF start',\n",
    "                   yref='paper', y0=0, y1=1,\n",
    "                   xref='x', x0=t_red, x1=t_red)\n",
    "               ])\n",
    "            plotly.offline.plot(fig,auto_open=AUTO_OPEN,\n",
    "                filename=f\"ANIMATEDSURVIVALCURVES/survival{identifier}.html\")\n",
    "        except:\n",
    "            pass\n",
    "        if SHOW:\n",
    "            fig.show()\n",
    "    df = pd.DataFrame(scaler_xtrain.inverse_transform(X_0), columns=input_cols)\n",
    "    df['As'] = As\n",
    "    df['hazard'] = [h[0] for h in hazards]\n",
    "    # capture the information of when it really started to fail\n",
    "    df['TRUE_START_OF_BREAKDOWN'] = t_red\n",
    "    df.name = f\"{identifier}\"\n",
    "    filename=f\"ANIMATEDSURVIVALCURVES/survival{identifier}.csv\"\n",
    "    df['As'] = As\n",
    "    df.to_csv(filename,index=False)\n",
    "    \n",
    "    dg = pd.DataFrame(X_0, columns=input_cols)\n",
    "    dg['As'] = As\n",
    "    dg['hazard'] = [h[0] for h in hazards]\n",
    "    dg.name = f\"{identifier}\"\n",
    "    #\n",
    "    #x = df['time_cycles'].to_numpy()\n",
    "    x = df.reset_index().index\n",
    "    y = df['As'].to_numpy()\n",
    "\n",
    "\n",
    "    fig, ax = plt.subplots()\n",
    "    line, = ax.plot(x, y, color='k')\n",
    "\n",
    "    def update(num, x, y, line):\n",
    "        line.set_data(x[:num], y[:num])\n",
    "        #line.axes.axis([0, df['time_cycles'].max(), 0, df['As'].max()+.05])\n",
    "        line.axes.axis([0, x.max(), 0, df['As'].max()+.05])\n",
    "        return line,\n",
    "\n",
    "    ani = animation.FuncAnimation(fig, update, len(x), fargs=[x, y, line],\n",
    "                              interval=25, blit=True)\n",
    "\n",
    "    ani.save(f'ANIMATEDSURVIVALCURVES/{df.name}.mp4')\n",
    "    return ani\n"
   ]
  },
  {
   "cell_type": "code",
   "execution_count": null,
   "metadata": {
    "slideshow": {
     "slide_type": "slide"
    }
   },
   "outputs": [
    {
     "data": {
      "text/html": [
       "        <script type=\"text/javascript\">\n",
       "        window.PlotlyConfig = {MathJaxConfig: 'local'};\n",
       "        if (window.MathJax) {MathJax.Hub.Config({SVG: {font: \"STIX-Web\"}});}\n",
       "        if (typeof require !== 'undefined') {\n",
       "        require.undef(\"plotly\");\n",
       "        requirejs.config({\n",
       "            paths: {\n",
       "                'plotly': ['https://cdn.plot.ly/plotly-latest.min']\n",
       "            }\n",
       "        });\n",
       "        require(['plotly'], function(Plotly) {\n",
       "            window._Plotly = Plotly;\n",
       "        });\n",
       "        }\n",
       "        </script>\n",
       "        "
      ]
     },
     "metadata": {},
     "output_type": "display_data"
    }
   ],
   "source": [
    "from IPython.display import HTML\n",
    "plotly.offline.init_notebook_mode(connected=True)\n",
    "ani = get_ani_function(valids[27], dfval, input_cols,\n",
    "                               scaler_xtrain, model,\n",
    "                              SHOW=False, AUTO_OPEN=False)\n",
    "HTML(ani.to_html5_video())"
   ]
  },
  {
   "cell_type": "code",
   "execution_count": null,
   "metadata": {
    "slideshow": {
     "slide_type": "skip"
    }
   },
   "outputs": [],
   "source": [
    "model = load_model('model_notime.h5')\n",
    "scaler_xtrain = load(open('scaler_xtrain_notime.pkl','rb'))\n",
    "\n",
    "with sqlite3.connect('turbofandata.db') as connection:\n",
    "    dfval = pd.read_sql('SELECT * from dfval_notime', connection)\n",
    "    dftrain = pd.read_sql('SELECT * from dftrain', connection)\n",
    "    dftest = pd.read_sql('SELECT * from dftest', connection)"
   ]
  },
  {
   "cell_type": "code",
   "execution_count": null,
   "metadata": {
    "slideshow": {
     "slide_type": "skip"
    }
   },
   "outputs": [],
   "source": [
    "#input_cols = ['time_cycles', 'setting_1', 'setting_2', 'setting_3', 's_1',\n",
    "#       's_2', 's_3', 's_4', 's_5', 's_6', 's_7', 's_8', 's_9', 's_10', 's_11',\n",
    "#       's_12', 's_13', 's_14', 's_15', 's_16', 's_17', 's_18', 's_19', 's_20',\n",
    "#       's_21']\n",
    "\n",
    "input_cols = ['setting_1', 'setting_2', 'setting_3', 's_1',\n",
    "       's_2', 's_3', 's_4', 's_5', 's_6', 's_7', 's_8', 's_9', 's_10', 's_11',\n",
    "       's_12', 's_13', 's_14', 's_15', 's_16', 's_17', 's_18', 's_19', 's_20',\n",
    "       's_21']\n",
    "#output_cols = ['breakdown']\n",
    "output_cols = ['label']"
   ]
  },
  {
   "cell_type": "code",
   "execution_count": null,
   "metadata": {
    "slideshow": {
     "slide_type": "skip"
    }
   },
   "outputs": [],
   "source": [
    "def get_all_paraplot(df,SHOW=False):\n",
    "    dq = df[input_cols + ['RUL']].copy()\n",
    "    fig = px.parallel_coordinates(dq,\n",
    "                color='RUL',title=f\"parallel_rul\",\n",
    "            color_continuous_scale=px.colors.\n",
    "                                  diverging.Tealrose)\n",
    "    plotly.offline.plot(fig, auto_open=True,\n",
    "                   filename=f\"parallel_rul.html\")\n",
    "    if SHOW:\n",
    "        fig.show()"
   ]
  },
  {
   "cell_type": "code",
   "execution_count": null,
   "metadata": {
    "slideshow": {
     "slide_type": "skip"
    }
   },
   "outputs": [],
   "source": [
    "#from IPython.display import HTML\n",
    "#get_all_paraplot(dftrain,SHOW=True)"
   ]
  },
  {
   "cell_type": "code",
   "execution_count": null,
   "metadata": {},
   "outputs": [],
   "source": []
  }
 ],
 "metadata": {
  "kernelspec": {
   "display_name": "Python 3",
   "language": "python",
   "name": "python3"
  },
  "language_info": {
   "codemirror_mode": {
    "name": "ipython",
    "version": 3
   },
   "file_extension": ".py",
   "mimetype": "text/x-python",
   "name": "python",
   "nbconvert_exporter": "python",
   "pygments_lexer": "ipython3",
   "version": "3.8.5"
  }
 },
 "nbformat": 4,
 "nbformat_minor": 4
}
