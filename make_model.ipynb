{
 "cells": [
  {
   "cell_type": "code",
   "execution_count": 1,
   "metadata": {},
   "outputs": [
    {
     "data": {
      "text/html": [
       "        <script type=\"text/javascript\">\n",
       "        window.PlotlyConfig = {MathJaxConfig: 'local'};\n",
       "        if (window.MathJax) {MathJax.Hub.Config({SVG: {font: \"STIX-Web\"}});}\n",
       "        if (typeof require !== 'undefined') {\n",
       "        require.undef(\"plotly\");\n",
       "        requirejs.config({\n",
       "            paths: {\n",
       "                'plotly': ['https://cdn.plot.ly/plotly-latest.min']\n",
       "            }\n",
       "        });\n",
       "        require(['plotly'], function(Plotly) {\n",
       "            window._Plotly = Plotly;\n",
       "        });\n",
       "        }\n",
       "        </script>\n",
       "        "
      ]
     },
     "metadata": {},
     "output_type": "display_data"
    }
   ],
   "source": [
    "import numpy as np\n",
    "import pandas as pd\n",
    "import matplotlib.pyplot as plt\n",
    "from pandas import Series, DataFrame\n",
    "from pandas.plotting import parallel_coordinates\n",
    "import pytz, nltk\n",
    "from pytz import common_timezones, all_timezones\n",
    "\n",
    "import scipy as sp\n",
    "import scipy.stats as stats\n",
    "import pylab\n",
    "\n",
    "\n",
    "\n",
    "import matplotlib\n",
    "matplotlib.style.use('ggplot')\n",
    "%matplotlib inline\n",
    "from datetime import datetime\n",
    "import scipy as sp\n",
    "matplotlib.style.use('seaborn-talk')\n",
    "matplotlib.style.use('fivethirtyeight');\n",
    "\n",
    "\n",
    "import scipy\n",
    "import os\n",
    "import plotly\n",
    "plotly.offline.init_notebook_mode(connected=True)"
   ]
  },
  {
   "cell_type": "markdown",
   "metadata": {},
   "source": [
    "# Load Training Data"
   ]
  },
  {
   "cell_type": "code",
   "execution_count": 2,
   "metadata": {},
   "outputs": [],
   "source": [
    "import sqlite3\n",
    "\n",
    "with sqlite3.connect('turbofandata.db') as connection:\n",
    "    dftrain = pd.read_sql('SELECT * from dftrain', connection)"
   ]
  },
  {
   "cell_type": "markdown",
   "metadata": {},
   "source": [
    "# Neural Network\n",
    "\n",
    "Use a NN to train a classfier with a new type of target. Instead of **breakdown**, make a new binary target capturing whether it will fail withint the next TTF **time_cycles** (Time to Failure)"
   ]
  },
  {
   "cell_type": "code",
   "execution_count": 3,
   "metadata": {},
   "outputs": [
    {
     "data": {
      "text/html": [
       "<div>\n",
       "<style scoped>\n",
       "    .dataframe tbody tr th:only-of-type {\n",
       "        vertical-align: middle;\n",
       "    }\n",
       "\n",
       "    .dataframe tbody tr th {\n",
       "        vertical-align: top;\n",
       "    }\n",
       "\n",
       "    .dataframe thead th {\n",
       "        text-align: right;\n",
       "    }\n",
       "</style>\n",
       "<table border=\"1\" class=\"dataframe\">\n",
       "  <thead>\n",
       "    <tr style=\"text-align: right;\">\n",
       "      <th></th>\n",
       "      <th>unit_nr</th>\n",
       "      <th>time_cycles</th>\n",
       "      <th>setting_1</th>\n",
       "      <th>setting_2</th>\n",
       "      <th>setting_3</th>\n",
       "      <th>s_1</th>\n",
       "      <th>s_2</th>\n",
       "      <th>s_3</th>\n",
       "      <th>s_4</th>\n",
       "      <th>s_5</th>\n",
       "      <th>...</th>\n",
       "      <th>s_15</th>\n",
       "      <th>s_16</th>\n",
       "      <th>s_17</th>\n",
       "      <th>s_18</th>\n",
       "      <th>s_19</th>\n",
       "      <th>s_20</th>\n",
       "      <th>s_21</th>\n",
       "      <th>RUL</th>\n",
       "      <th>breakdown</th>\n",
       "      <th>id</th>\n",
       "    </tr>\n",
       "  </thead>\n",
       "  <tbody>\n",
       "    <tr>\n",
       "      <th>0</th>\n",
       "      <td>1</td>\n",
       "      <td>1</td>\n",
       "      <td>-0.0007</td>\n",
       "      <td>-0.0004</td>\n",
       "      <td>100.0</td>\n",
       "      <td>518.67</td>\n",
       "      <td>641.82</td>\n",
       "      <td>1589.70</td>\n",
       "      <td>1400.60</td>\n",
       "      <td>14.62</td>\n",
       "      <td>...</td>\n",
       "      <td>8.4195</td>\n",
       "      <td>0.03</td>\n",
       "      <td>392</td>\n",
       "      <td>2388</td>\n",
       "      <td>100.0</td>\n",
       "      <td>39.06</td>\n",
       "      <td>23.4190</td>\n",
       "      <td>191</td>\n",
       "      <td>0</td>\n",
       "      <td>1fd_001</td>\n",
       "    </tr>\n",
       "    <tr>\n",
       "      <th>1</th>\n",
       "      <td>1</td>\n",
       "      <td>2</td>\n",
       "      <td>0.0019</td>\n",
       "      <td>-0.0003</td>\n",
       "      <td>100.0</td>\n",
       "      <td>518.67</td>\n",
       "      <td>642.15</td>\n",
       "      <td>1591.82</td>\n",
       "      <td>1403.14</td>\n",
       "      <td>14.62</td>\n",
       "      <td>...</td>\n",
       "      <td>8.4318</td>\n",
       "      <td>0.03</td>\n",
       "      <td>392</td>\n",
       "      <td>2388</td>\n",
       "      <td>100.0</td>\n",
       "      <td>39.00</td>\n",
       "      <td>23.4236</td>\n",
       "      <td>190</td>\n",
       "      <td>0</td>\n",
       "      <td>1fd_001</td>\n",
       "    </tr>\n",
       "    <tr>\n",
       "      <th>2</th>\n",
       "      <td>1</td>\n",
       "      <td>3</td>\n",
       "      <td>-0.0043</td>\n",
       "      <td>0.0003</td>\n",
       "      <td>100.0</td>\n",
       "      <td>518.67</td>\n",
       "      <td>642.35</td>\n",
       "      <td>1587.99</td>\n",
       "      <td>1404.20</td>\n",
       "      <td>14.62</td>\n",
       "      <td>...</td>\n",
       "      <td>8.4178</td>\n",
       "      <td>0.03</td>\n",
       "      <td>390</td>\n",
       "      <td>2388</td>\n",
       "      <td>100.0</td>\n",
       "      <td>38.95</td>\n",
       "      <td>23.3442</td>\n",
       "      <td>189</td>\n",
       "      <td>0</td>\n",
       "      <td>1fd_001</td>\n",
       "    </tr>\n",
       "    <tr>\n",
       "      <th>3</th>\n",
       "      <td>1</td>\n",
       "      <td>4</td>\n",
       "      <td>0.0007</td>\n",
       "      <td>0.0000</td>\n",
       "      <td>100.0</td>\n",
       "      <td>518.67</td>\n",
       "      <td>642.35</td>\n",
       "      <td>1582.79</td>\n",
       "      <td>1401.87</td>\n",
       "      <td>14.62</td>\n",
       "      <td>...</td>\n",
       "      <td>8.3682</td>\n",
       "      <td>0.03</td>\n",
       "      <td>392</td>\n",
       "      <td>2388</td>\n",
       "      <td>100.0</td>\n",
       "      <td>38.88</td>\n",
       "      <td>23.3739</td>\n",
       "      <td>188</td>\n",
       "      <td>0</td>\n",
       "      <td>1fd_001</td>\n",
       "    </tr>\n",
       "    <tr>\n",
       "      <th>4</th>\n",
       "      <td>1</td>\n",
       "      <td>5</td>\n",
       "      <td>-0.0019</td>\n",
       "      <td>-0.0002</td>\n",
       "      <td>100.0</td>\n",
       "      <td>518.67</td>\n",
       "      <td>642.37</td>\n",
       "      <td>1582.85</td>\n",
       "      <td>1406.22</td>\n",
       "      <td>14.62</td>\n",
       "      <td>...</td>\n",
       "      <td>8.4294</td>\n",
       "      <td>0.03</td>\n",
       "      <td>393</td>\n",
       "      <td>2388</td>\n",
       "      <td>100.0</td>\n",
       "      <td>38.90</td>\n",
       "      <td>23.4044</td>\n",
       "      <td>187</td>\n",
       "      <td>0</td>\n",
       "      <td>1fd_001</td>\n",
       "    </tr>\n",
       "  </tbody>\n",
       "</table>\n",
       "<p>5 rows × 29 columns</p>\n",
       "</div>"
      ],
      "text/plain": [
       "   unit_nr  time_cycles  setting_1  setting_2  setting_3     s_1     s_2  \\\n",
       "0        1            1    -0.0007    -0.0004      100.0  518.67  641.82   \n",
       "1        1            2     0.0019    -0.0003      100.0  518.67  642.15   \n",
       "2        1            3    -0.0043     0.0003      100.0  518.67  642.35   \n",
       "3        1            4     0.0007     0.0000      100.0  518.67  642.35   \n",
       "4        1            5    -0.0019    -0.0002      100.0  518.67  642.37   \n",
       "\n",
       "       s_3      s_4    s_5  ...    s_15  s_16  s_17  s_18   s_19   s_20  \\\n",
       "0  1589.70  1400.60  14.62  ...  8.4195  0.03   392  2388  100.0  39.06   \n",
       "1  1591.82  1403.14  14.62  ...  8.4318  0.03   392  2388  100.0  39.00   \n",
       "2  1587.99  1404.20  14.62  ...  8.4178  0.03   390  2388  100.0  38.95   \n",
       "3  1582.79  1401.87  14.62  ...  8.3682  0.03   392  2388  100.0  38.88   \n",
       "4  1582.85  1406.22  14.62  ...  8.4294  0.03   393  2388  100.0  38.90   \n",
       "\n",
       "      s_21  RUL  breakdown       id  \n",
       "0  23.4190  191          0  1fd_001  \n",
       "1  23.4236  190          0  1fd_001  \n",
       "2  23.3442  189          0  1fd_001  \n",
       "3  23.3739  188          0  1fd_001  \n",
       "4  23.4044  187          0  1fd_001  \n",
       "\n",
       "[5 rows x 29 columns]"
      ]
     },
     "execution_count": 3,
     "metadata": {},
     "output_type": "execute_result"
    }
   ],
   "source": [
    "dftrain.head()"
   ]
  },
  {
   "cell_type": "code",
   "execution_count": 4,
   "metadata": {},
   "outputs": [
    {
     "data": {
      "text/plain": [
       "Index(['unit_nr', 'time_cycles', 'setting_1', 'setting_2', 'setting_3', 's_1',\n",
       "       's_2', 's_3', 's_4', 's_5', 's_6', 's_7', 's_8', 's_9', 's_10', 's_11',\n",
       "       's_12', 's_13', 's_14', 's_15', 's_16', 's_17', 's_18', 's_19', 's_20',\n",
       "       's_21', 'RUL', 'breakdown', 'id'],\n",
       "      dtype='object')"
      ]
     },
     "execution_count": 4,
     "metadata": {},
     "output_type": "execute_result"
    }
   ],
   "source": [
    "dftrain.columns"
   ]
  },
  {
   "cell_type": "code",
   "execution_count": 5,
   "metadata": {},
   "outputs": [],
   "source": [
    "TTF = 10 # Can change this to get more or less \"lead time\"; ideally want it to be as large as possible\n",
    "# as large as the data supports ; as long as there are patterns in the data that the NN can leverge to\n",
    "# produce a highly/eerily accurate model."
   ]
  },
  {
   "cell_type": "markdown",
   "metadata": {},
   "source": [
    "**RUL** = Remaining Useful Life\n",
    "\n",
    "The new **label** target is 1 whenever the Remaining Useful Life is less than TTF, and 0 otherwise."
   ]
  },
  {
   "cell_type": "code",
   "execution_count": 6,
   "metadata": {},
   "outputs": [],
   "source": [
    "dftrain['label'] = np.where(dftrain['RUL'] <= TTF, 1, 0 )\n"
   ]
  },
  {
   "cell_type": "code",
   "execution_count": 7,
   "metadata": {},
   "outputs": [],
   "source": [
    "input_cols = ['time_cycles', 'setting_1', 'setting_2', 'setting_3', 's_1',\n",
    "       's_2', 's_3', 's_4', 's_5', 's_6', 's_7', 's_8', 's_9', 's_10', 's_11',\n",
    "       's_12', 's_13', 's_14', 's_15', 's_16', 's_17', 's_18', 's_19', 's_20',\n",
    "       's_21']\n",
    "#output_cols = ['breakdown']\n",
    "output_cols = ['label']\n"
   ]
  },
  {
   "cell_type": "markdown",
   "metadata": {},
   "source": [
    "The **breakdown** column is an indicator variable where 0 indicates the engine is operational, and 1 indicates that it has failed."
   ]
  },
  {
   "cell_type": "code",
   "execution_count": 8,
   "metadata": {},
   "outputs": [
    {
     "data": {
      "text/plain": [
       "0    159650\n",
       "1       709\n",
       "Name: breakdown, dtype: int64"
      ]
     },
     "execution_count": 8,
     "metadata": {},
     "output_type": "execute_result"
    }
   ],
   "source": [
    "dftrain['breakdown'].value_counts()\n"
   ]
  },
  {
   "cell_type": "code",
   "execution_count": 9,
   "metadata": {},
   "outputs": [
    {
     "data": {
      "text/plain": [
       "0    152560\n",
       "1      7799\n",
       "Name: label, dtype: int64"
      ]
     },
     "execution_count": 9,
     "metadata": {},
     "output_type": "execute_result"
    }
   ],
   "source": [
    "dftrain['label'].value_counts()\n"
   ]
  },
  {
   "cell_type": "markdown",
   "metadata": {},
   "source": [
    "Create an explicit **validation** set of some subset of ids in dftrain:\n",
    "\n",
    "set the random seed to ensure reproducibility."
   ]
  },
  {
   "cell_type": "code",
   "execution_count": 10,
   "metadata": {},
   "outputs": [
    {
     "data": {
      "text/plain": [
       "array(['26fd_004', '127fd_002', '39fd_004', '164fd_004', '10fd_002',\n",
       "       '55fd_001', '77fd_001', '193fd_002', '95fd_002', '227fd_004'],\n",
       "      dtype=object)"
      ]
     },
     "execution_count": 10,
     "metadata": {},
     "output_type": "execute_result"
    }
   ],
   "source": [
    "np.random.seed(2020)\n",
    "ids = dftrain['id'].unique()\n",
    "np.random.shuffle(ids)\n",
    "len(ids)\n",
    "ids[:10]"
   ]
  },
  {
   "cell_type": "code",
   "execution_count": 11,
   "metadata": {},
   "outputs": [
    {
     "data": {
      "text/plain": [
       "177"
      ]
     },
     "execution_count": 11,
     "metadata": {},
     "output_type": "execute_result"
    }
   ],
   "source": [
    "VAL_SIZE = 0.25\n",
    "val_index = int(len(ids)*VAL_SIZE)\n",
    "val_ids = ids[:val_index]\n",
    "dfval = dftrain[dftrain.id.isin(val_ids)].copy()\n",
    "dfval.id.nunique()"
   ]
  },
  {
   "cell_type": "code",
   "execution_count": 12,
   "metadata": {},
   "outputs": [
    {
     "data": {
      "text/plain": [
       "709"
      ]
     },
     "execution_count": 12,
     "metadata": {},
     "output_type": "execute_result"
    }
   ],
   "source": [
    "dftrain.id.nunique()"
   ]
  },
  {
   "cell_type": "code",
   "execution_count": 13,
   "metadata": {},
   "outputs": [],
   "source": [
    "dftrain = dftrain[~dftrain.id.isin(val_ids)].copy()"
   ]
  },
  {
   "cell_type": "code",
   "execution_count": 14,
   "metadata": {},
   "outputs": [
    {
     "data": {
      "text/plain": [
       "532"
      ]
     },
     "execution_count": 14,
     "metadata": {},
     "output_type": "execute_result"
    }
   ],
   "source": [
    "dftrain.id.nunique()"
   ]
  },
  {
   "cell_type": "code",
   "execution_count": 15,
   "metadata": {},
   "outputs": [],
   "source": [
    "from sklearn.preprocessing import StandardScaler\n",
    "from sklearn.preprocessing import MinMaxScaler\n",
    "from sklearn.preprocessing import StandardScaler\n",
    "from sklearn.preprocessing import MinMaxScaler\n",
    "from sklearn.preprocessing import StandardScaler\n",
    "from sklearn.preprocessing import MinMaxScaler\n",
    "from sklearn.preprocessing import MinMaxScaler\n",
    "from sklearn.preprocessing import minmax_scale\n",
    "from sklearn.preprocessing import MaxAbsScaler\n",
    "from sklearn.preprocessing import StandardScaler\n",
    "from sklearn.preprocessing import RobustScaler\n",
    "from sklearn.preprocessing import Normalizer\n",
    "from sklearn.preprocessing import QuantileTransformer\n",
    "from sklearn.preprocessing import PowerTransformer\n",
    "\n",
    "\n",
    "\n",
    "y = dftrain[output_cols].to_numpy()\n",
    "y = np.ravel(y)\n",
    "X = dftrain[input_cols].to_numpy()\n"
   ]
  },
  {
   "cell_type": "code",
   "execution_count": 16,
   "metadata": {},
   "outputs": [],
   "source": [
    "# Install a pip package in the current Jupyter kernel\n",
    "import sys\n",
    "#!{sys.executable} -m pip install keras\n",
    "#!{sys.executable} -m pip install tensorflow"
   ]
  },
  {
   "cell_type": "code",
   "execution_count": 17,
   "metadata": {},
   "outputs": [],
   "source": [
    "# import required libraries\n",
    "import pandas as pd\n",
    "import numpy as np\n",
    "import sklearn\n",
    "from sklearn import metrics\n",
    "from sklearn.ensemble import RandomForestRegressor\n",
    "from sklearn.metrics import mean_absolute_error\n",
    "from sklearn.metrics import r2_score\n",
    "from sklearn.metrics import mean_squared_error\n",
    "from sklearn.linear_model import LinearRegression\n",
    "from sklearn.preprocessing import MinMaxScaler\n",
    "from sklearn.model_selection import train_test_split, cross_val_score\n",
    "import keras\n",
    "import keras.backend as K\n",
    "from keras.layers.core import Activation\n",
    "from keras.layers import Dense , LSTM, Dropout\n",
    "from keras.models import Sequential, load_model\n",
    "import seaborn as sns\n",
    "import matplotlib.pyplot as plt\n",
    "from pylab import rcParams\n",
    "import math\n",
    "\n",
    "#import xgboost\n",
    "import time\n",
    "from tqdm import tqdm\n"
   ]
  },
  {
   "cell_type": "markdown",
   "metadata": {},
   "source": [
    "First break up into a training and test set, then address the class imbalance problem\n",
    "on just the training set."
   ]
  },
  {
   "cell_type": "code",
   "execution_count": 18,
   "metadata": {},
   "outputs": [],
   "source": [
    "\n",
    "\n",
    "X_train, X_test, y_train, y_test = train_test_split(X, y,stratify=y,\n",
    "                        random_state=17,test_size=0.25)\n"
   ]
  },
  {
   "cell_type": "code",
   "execution_count": 19,
   "metadata": {},
   "outputs": [
    {
     "data": {
      "text/plain": [
       "0    0.951323\n",
       "1    0.048677\n",
       "dtype: float64"
      ]
     },
     "execution_count": 19,
     "metadata": {},
     "output_type": "execute_result"
    }
   ],
   "source": [
    "pd.Series(y_train).value_counts(normalize=True)\n"
   ]
  },
  {
   "cell_type": "code",
   "execution_count": 20,
   "metadata": {},
   "outputs": [
    {
     "data": {
      "text/plain": [
       "0    0.951324\n",
       "1    0.048676\n",
       "dtype: float64"
      ]
     },
     "execution_count": 20,
     "metadata": {},
     "output_type": "execute_result"
    }
   ],
   "source": [
    "pd.Series(y_test).value_counts(normalize=True)"
   ]
  },
  {
   "cell_type": "code",
   "execution_count": 21,
   "metadata": {},
   "outputs": [],
   "source": [
    "#!{sys.executable} -m pip install imblearn"
   ]
  },
  {
   "cell_type": "markdown",
   "metadata": {},
   "source": [
    "Apply the StandardScaler normalization **BEFORE** oversampling or SMOTE."
   ]
  },
  {
   "cell_type": "code",
   "execution_count": 22,
   "metadata": {},
   "outputs": [],
   "source": [
    "scaler_xtrain = StandardScaler()\n",
    "scaler_xtrain.fit(X_train)\n",
    "X_train_norm = scaler_xtrain.transform(X_train) \n",
    "X_test_norm = scaler_xtrain.transform(X_test)\n",
    "\n",
    "\n",
    "from imblearn.over_sampling import SMOTE\n",
    "\n",
    "USE_SMOTE = False\n",
    "USE_ROS = True\n",
    "\n",
    "if USE_SMOTE:\n",
    "\n",
    "    from imblearn.over_sampling import SMOTE\n",
    "    smote = SMOTE(sampling_strategy='minority')\n",
    "    #smote = SMOTE(sampling_strategy=0.5)\n",
    "    X_train_sm, y_train_sm = smote.fit_sample(X_train_norm, y_train)\n",
    "\n",
    "\n",
    "\n",
    "if USE_ROS:\n",
    "    from imblearn.over_sampling import RandomOverSampler\n",
    "    ros = RandomOverSampler(random_state=0)\n",
    "    X_train_sm, y_train_sm = ros.fit_sample(X_train_norm, y_train)\n"
   ]
  },
  {
   "cell_type": "code",
   "execution_count": 23,
   "metadata": {},
   "outputs": [
    {
     "data": {
      "text/plain": [
       "1    85777\n",
       "0    85777\n",
       "dtype: int64"
      ]
     },
     "execution_count": 23,
     "metadata": {},
     "output_type": "execute_result"
    }
   ],
   "source": [
    "pd.Series(y_train_sm).value_counts()"
   ]
  },
  {
   "cell_type": "code",
   "execution_count": 24,
   "metadata": {},
   "outputs": [
    {
     "data": {
      "text/plain": [
       "((171554, 25), (171554,))"
      ]
     },
     "execution_count": 24,
     "metadata": {},
     "output_type": "execute_result"
    }
   ],
   "source": [
    "X_train_sm.shape, y_train_sm.shape"
   ]
  },
  {
   "cell_type": "markdown",
   "metadata": {},
   "source": [
    "* X_train_sm, y_train_sm\n",
    "* X_test_norm, y_test\n",
    "* scaler_xtrain"
   ]
  },
  {
   "cell_type": "code",
   "execution_count": 25,
   "metadata": {},
   "outputs": [],
   "source": [
    "import pandas\n",
    "from keras.models import Sequential\n",
    "from keras.layers import Dense\n",
    "from keras.wrappers.scikit_learn import KerasClassifier\n",
    "from sklearn.model_selection import cross_val_score\n",
    "from sklearn.preprocessing import LabelEncoder\n",
    "from sklearn.model_selection import StratifiedKFold\n",
    "from sklearn.preprocessing import StandardScaler\n",
    "from sklearn.pipeline import Pipeline\n",
    "\n",
    "import keras\n",
    "from keras import layers\n",
    "from keras.layers import Dense, Dropout\n",
    "from keras.models import Sequential\n",
    "import keras.regularizers as regularizers\n",
    "from keras import optimizers"
   ]
  },
  {
   "cell_type": "code",
   "execution_count": 26,
   "metadata": {},
   "outputs": [
    {
     "data": {
      "text/plain": [
       "((25,), 25, (171554, 25))"
      ]
     },
     "execution_count": 26,
     "metadata": {},
     "output_type": "execute_result"
    }
   ],
   "source": [
    "X_train_sm.shape[1:], X_train_norm.shape[1], X_train_sm.shape\n"
   ]
  },
  {
   "cell_type": "code",
   "execution_count": 27,
   "metadata": {},
   "outputs": [
    {
     "name": "stdout",
     "output_type": "stream",
     "text": [
      "Model: \"sequential\"\n",
      "_________________________________________________________________\n",
      "Layer (type)                 Output Shape              Param #   \n",
      "=================================================================\n",
      "dense (Dense)                (None, 50)                1300      \n",
      "_________________________________________________________________\n",
      "dropout (Dropout)            (None, 50)                0         \n",
      "_________________________________________________________________\n",
      "dense_1 (Dense)              (None, 45)                2295      \n",
      "_________________________________________________________________\n",
      "dense_2 (Dense)              (None, 45)                2070      \n",
      "_________________________________________________________________\n",
      "dropout_1 (Dropout)          (None, 45)                0         \n",
      "_________________________________________________________________\n",
      "dense_3 (Dense)              (None, 25)                1150      \n",
      "_________________________________________________________________\n",
      "dense_4 (Dense)              (None, 1)                 26        \n",
      "=================================================================\n",
      "Total params: 6,841\n",
      "Trainable params: 6,841\n",
      "Non-trainable params: 0\n",
      "_________________________________________________________________\n"
     ]
    }
   ],
   "source": [
    "import keras\n",
    "from keras.layers import Dense, Dropout\n",
    "from keras.models import Sequential\n",
    "import keras.regularizers as regularizers\n",
    "from keras import optimizers\n",
    "\n",
    "early_stopping = keras.callbacks.EarlyStopping(monitor='val_accuracy')\n",
    "\n",
    "model = Sequential()\n",
    "model.add(Dense(50, input_dim=X_train_sm.shape[1], activation='relu',\n",
    "            kernel_initializer=keras.initializers.GlorotNormal()))\n",
    "model.add(Dropout(0.1))\n",
    "model.add(Dense(45,activation='relu',\n",
    "            kernel_initializer=keras.initializers.GlorotNormal()))\n",
    "model.add(Dense(45, activation='relu',\n",
    "            kernel_initializer=keras.initializers.GlorotNormal()))\n",
    "model.add(Dropout(0.1))\n",
    "model.add(Dense(25,  activation='relu',\n",
    "            kernel_initializer=keras.initializers.GlorotNormal()))\n",
    "model.add(Dense(1, activation='sigmoid'))\n",
    "\n",
    "\n",
    "\n",
    "\n",
    "opt_defaultparams = keras.optimizers.Adamax(learning_rate=0.001,\n",
    "                             beta_1=0.9, beta_2=0.999,\n",
    "                    epsilon=1e-07, name=\"Adamax\")\n",
    "\n",
    "opt = keras.optimizers.Adamax(learning_rate=0.0005,\n",
    "                             beta_1=0.9, beta_2=0.999,\n",
    "                    epsilon=1e-07, name=\"Adamax\")\n",
    "\n",
    "\n",
    "\n",
    "model.compile(optimizer=opt_defaultparams,\n",
    "                 loss='binary_crossentropy',metrics=['accuracy'])\n",
    "model.summary()\n"
   ]
  },
  {
   "cell_type": "markdown",
   "metadata": {},
   "source": [
    "evaluate the cell below multiple times; increasing the batch size\n",
    "with each iteration."
   ]
  },
  {
   "cell_type": "code",
   "execution_count": 28,
   "metadata": {},
   "outputs": [],
   "source": [
    "#history = model.fit(X_train_sm,\n",
    "#                y_train_sm, \n",
    "#        validation_data = (X_test_norm, y_test),\n",
    "#    epochs = 5000,\n",
    "#                shuffle=True,\n",
    "#                    callbacks=[early_stopping],\n",
    "#    batch_size=1024)"
   ]
  },
  {
   "cell_type": "code",
   "execution_count": 29,
   "metadata": {},
   "outputs": [
    {
     "name": "stdout",
     "output_type": "stream",
     "text": [
      "Epoch 1/5000\n",
      "21445/21445 [==============================] - 26s 1ms/step - loss: 0.3117 - accuracy: 0.8661 - val_loss: 0.2000 - val_accuracy: 0.9110\n",
      "Epoch 2/5000\n",
      "21445/21445 [==============================] - 26s 1ms/step - loss: 0.1451 - accuracy: 0.9479 - val_loss: 0.1386 - val_accuracy: 0.9408\n",
      "Epoch 3/5000\n",
      "21445/21445 [==============================] - 26s 1ms/step - loss: 0.1217 - accuracy: 0.9565 - val_loss: 0.1345 - val_accuracy: 0.9435\n",
      "Epoch 4/5000\n",
      "21445/21445 [==============================] - 24s 1ms/step - loss: 0.1130 - accuracy: 0.9599 - val_loss: 0.1468 - val_accuracy: 0.9399\n",
      "Epoch 1/5000\n",
      "21445/21445 [==============================] - 25s 1ms/step - loss: 0.1069 - accuracy: 0.9626 - val_loss: 0.1201 - val_accuracy: 0.9474\n",
      "Epoch 2/5000\n",
      "21445/21445 [==============================] - 25s 1ms/step - loss: 0.1041 - accuracy: 0.9634 - val_loss: 0.1428 - val_accuracy: 0.9406\n",
      "Epoch 1/5000\n",
      "10723/10723 [==============================] - 13s 1ms/step - loss: 0.1005 - accuracy: 0.9654 - val_loss: 0.1256 - val_accuracy: 0.9472\n",
      "Epoch 2/5000\n",
      "10723/10723 [==============================] - 14s 1ms/step - loss: 0.0986 - accuracy: 0.9656 - val_loss: 0.1170 - val_accuracy: 0.9490\n",
      "Epoch 3/5000\n",
      "10723/10723 [==============================] - 13s 1ms/step - loss: 0.0981 - accuracy: 0.9658 - val_loss: 0.1501 - val_accuracy: 0.9341\n",
      "Epoch 1/5000\n",
      "10723/10723 [==============================] - 13s 1ms/step - loss: 0.0970 - accuracy: 0.9664 - val_loss: 0.1220 - val_accuracy: 0.9482\n",
      "Epoch 2/5000\n",
      "10723/10723 [==============================] - 14s 1ms/step - loss: 0.0964 - accuracy: 0.9664 - val_loss: 0.1061 - val_accuracy: 0.9515\n",
      "Epoch 3/5000\n",
      "10723/10723 [==============================] - 13s 1ms/step - loss: 0.0959 - accuracy: 0.9666 - val_loss: 0.1007 - val_accuracy: 0.9573\n",
      "Epoch 4/5000\n",
      "10723/10723 [==============================] - 14s 1ms/step - loss: 0.0950 - accuracy: 0.9671 - val_loss: 0.1188 - val_accuracy: 0.9492\n",
      "Epoch 1/5000\n",
      "5362/5362 [==============================] - 7s 1ms/step - loss: 0.0924 - accuracy: 0.9682 - val_loss: 0.1241 - val_accuracy: 0.9472\n",
      "Epoch 2/5000\n",
      "5362/5362 [==============================] - 7s 1ms/step - loss: 0.0922 - accuracy: 0.9680 - val_loss: 0.1149 - val_accuracy: 0.9532\n",
      "Epoch 3/5000\n",
      "5362/5362 [==============================] - 7s 1ms/step - loss: 0.0912 - accuracy: 0.9685 - val_loss: 0.1240 - val_accuracy: 0.9483\n",
      "Epoch 1/5000\n",
      "5362/5362 [==============================] - 8s 1ms/step - loss: 0.0909 - accuracy: 0.9690 - val_loss: 0.1038 - val_accuracy: 0.9560\n",
      "Epoch 2/5000\n",
      "5362/5362 [==============================] - 7s 1ms/step - loss: 0.0906 - accuracy: 0.9689 - val_loss: 0.1258 - val_accuracy: 0.9483\n",
      "Epoch 1/5000\n",
      "2681/2681 [==============================] - 3s 1ms/step - loss: 0.0887 - accuracy: 0.9693 - val_loss: 0.1250 - val_accuracy: 0.9489\n",
      "Epoch 2/5000\n",
      "2681/2681 [==============================] - 3s 1ms/step - loss: 0.0886 - accuracy: 0.9694 - val_loss: 0.1170 - val_accuracy: 0.9512\n",
      "Epoch 3/5000\n",
      "2681/2681 [==============================] - 4s 2ms/step - loss: 0.0874 - accuracy: 0.9697 - val_loss: 0.1204 - val_accuracy: 0.9489\n",
      "Epoch 1/5000\n",
      "2681/2681 [==============================] - 4s 1ms/step - loss: 0.0876 - accuracy: 0.9698 - val_loss: 0.1194 - val_accuracy: 0.9524\n",
      "Epoch 2/5000\n",
      "2681/2681 [==============================] - 4s 1ms/step - loss: 0.0874 - accuracy: 0.9698 - val_loss: 0.1126 - val_accuracy: 0.9543\n",
      "Epoch 3/5000\n",
      "2681/2681 [==============================] - 4s 1ms/step - loss: 0.0873 - accuracy: 0.9702 - val_loss: 0.1237 - val_accuracy: 0.9504\n",
      "Epoch 1/5000\n",
      "1341/1341 [==============================] - 3s 2ms/step - loss: 0.0849 - accuracy: 0.9710 - val_loss: 0.1332 - val_accuracy: 0.9452\n",
      "Epoch 2/5000\n",
      "1341/1341 [==============================] - 2s 2ms/step - loss: 0.0852 - accuracy: 0.9707 - val_loss: 0.1161 - val_accuracy: 0.9529\n",
      "Epoch 3/5000\n",
      "1341/1341 [==============================] - 2s 2ms/step - loss: 0.0851 - accuracy: 0.9708 - val_loss: 0.1160 - val_accuracy: 0.9502\n",
      "Epoch 1/5000\n",
      "1341/1341 [==============================] - 2s 2ms/step - loss: 0.0846 - accuracy: 0.9706 - val_loss: 0.1058 - val_accuracy: 0.9542\n",
      "Epoch 2/5000\n",
      "1341/1341 [==============================] - 2s 2ms/step - loss: 0.0845 - accuracy: 0.9711 - val_loss: 0.1134 - val_accuracy: 0.9516\n",
      "Epoch 1/5000\n",
      "671/671 [==============================] - 1s 2ms/step - loss: 0.0827 - accuracy: 0.9717 - val_loss: 0.1232 - val_accuracy: 0.9473\n",
      "Epoch 2/5000\n",
      "671/671 [==============================] - 2s 2ms/step - loss: 0.0821 - accuracy: 0.9719 - val_loss: 0.0985 - val_accuracy: 0.9578\n",
      "Epoch 3/5000\n",
      "671/671 [==============================] - 1s 2ms/step - loss: 0.0830 - accuracy: 0.9717 - val_loss: 0.1246 - val_accuracy: 0.9477\n",
      "Epoch 1/5000\n",
      "671/671 [==============================] - 1s 2ms/step - loss: 0.0824 - accuracy: 0.9719 - val_loss: 0.1119 - val_accuracy: 0.9536\n",
      "Epoch 2/5000\n",
      "671/671 [==============================] - 2s 3ms/step - loss: 0.0822 - accuracy: 0.9721 - val_loss: 0.1104 - val_accuracy: 0.9526\n",
      "Epoch 1/5000\n",
      "336/336 [==============================] - 1s 3ms/step - loss: 0.0805 - accuracy: 0.9725 - val_loss: 0.1176 - val_accuracy: 0.9521\n",
      "Epoch 2/5000\n",
      "336/336 [==============================] - 1s 4ms/step - loss: 0.0806 - accuracy: 0.9726 - val_loss: 0.1106 - val_accuracy: 0.9521\n",
      "Epoch 1/5000\n",
      "336/336 [==============================] - 1s 4ms/step - loss: 0.0808 - accuracy: 0.9727 - val_loss: 0.1132 - val_accuracy: 0.9543\n",
      "Epoch 2/5000\n",
      "336/336 [==============================] - 1s 3ms/step - loss: 0.0802 - accuracy: 0.9730 - val_loss: 0.1111 - val_accuracy: 0.9550\n",
      "Epoch 3/5000\n",
      "336/336 [==============================] - 1s 3ms/step - loss: 0.0796 - accuracy: 0.9731 - val_loss: 0.1054 - val_accuracy: 0.9559\n",
      "Epoch 4/5000\n",
      "336/336 [==============================] - 1s 3ms/step - loss: 0.0806 - accuracy: 0.9725 - val_loss: 0.1119 - val_accuracy: 0.9536\n",
      "Epoch 1/5000\n",
      "168/168 [==============================] - 1s 4ms/step - loss: 0.0792 - accuracy: 0.9733 - val_loss: 0.1131 - val_accuracy: 0.9533\n",
      "Epoch 2/5000\n",
      "168/168 [==============================] - 1s 4ms/step - loss: 0.0793 - accuracy: 0.9731 - val_loss: 0.1105 - val_accuracy: 0.9539\n",
      "Epoch 3/5000\n",
      "168/168 [==============================] - 1s 4ms/step - loss: 0.0795 - accuracy: 0.9733 - val_loss: 0.1133 - val_accuracy: 0.9535\n",
      "Epoch 1/5000\n",
      "168/168 [==============================] - 1s 7ms/step - loss: 0.0789 - accuracy: 0.9734 - val_loss: 0.1114 - val_accuracy: 0.9551\n",
      "Epoch 2/5000\n",
      "168/168 [==============================] - 1s 4ms/step - loss: 0.0793 - accuracy: 0.9733 - val_loss: 0.1054 - val_accuracy: 0.9560\n",
      "Epoch 3/5000\n",
      "168/168 [==============================] - 1s 4ms/step - loss: 0.0792 - accuracy: 0.9732 - val_loss: 0.1036 - val_accuracy: 0.9563\n",
      "Epoch 4/5000\n",
      "168/168 [==============================] - 1s 4ms/step - loss: 0.0790 - accuracy: 0.9734 - val_loss: 0.1105 - val_accuracy: 0.9543\n",
      "Epoch 1/5000\n",
      "168/168 [==============================] - 1s 4ms/step - loss: 0.0788 - accuracy: 0.9735 - val_loss: 0.1069 - val_accuracy: 0.9560\n",
      "Epoch 2/5000\n",
      "168/168 [==============================] - 1s 4ms/step - loss: 0.0787 - accuracy: 0.9733 - val_loss: 0.1123 - val_accuracy: 0.9537\n"
     ]
    }
   ],
   "source": [
    "batch_sizes = [8,8,16,16,32,32,64,64,128,128,256,256,512,512,1024,1024,1024]\n",
    "\n",
    "for b in batch_sizes:\n",
    "    history = model.fit(X_train_sm,\n",
    "                y_train_sm, \n",
    "        validation_data = (X_test_norm, y_test),\n",
    "    epochs = 5000,\n",
    "                shuffle=True,\n",
    "                    callbacks=[early_stopping],\n",
    "    batch_size=b)"
   ]
  },
  {
   "cell_type": "code",
   "execution_count": 30,
   "metadata": {},
   "outputs": [
    {
     "name": "stdout",
     "output_type": "stream",
     "text": [
      "Epoch 1/5000\n",
      "85/85 [==============================] - 1s 7ms/step - loss: 0.0774 - accuracy: 0.9740 - val_loss: 0.1123 - val_accuracy: 0.9544\n",
      "Epoch 2/5000\n",
      "85/85 [==============================] - 0s 5ms/step - loss: 0.0782 - accuracy: 0.9737 - val_loss: 0.1039 - val_accuracy: 0.9569\n",
      "Epoch 3/5000\n",
      "85/85 [==============================] - 0s 5ms/step - loss: 0.0775 - accuracy: 0.9740 - val_loss: 0.1070 - val_accuracy: 0.9557\n"
     ]
    }
   ],
   "source": [
    "history = model.fit(X_train_sm,\n",
    "                y_train_sm, \n",
    "        validation_data = (X_test_norm, y_test),\n",
    "    epochs = 5000,\n",
    "                shuffle=True,\n",
    "                    callbacks=[early_stopping],\n",
    "    batch_size=2028)"
   ]
  },
  {
   "cell_type": "code",
   "execution_count": 31,
   "metadata": {},
   "outputs": [
    {
     "name": "stdout",
     "output_type": "stream",
     "text": [
      "Epoch 1/5000\n",
      "35/35 [==============================] - 0s 11ms/step - loss: 0.0769 - accuracy: 0.9741 - val_loss: 0.1043 - val_accuracy: 0.9570\n",
      "Epoch 2/5000\n",
      "35/35 [==============================] - 0s 10ms/step - loss: 0.0767 - accuracy: 0.9744 - val_loss: 0.1071 - val_accuracy: 0.9564\n"
     ]
    }
   ],
   "source": [
    "history = model.fit(X_train_sm,\n",
    "                y_train_sm, \n",
    "        validation_data = (X_test_norm, y_test),\n",
    "    epochs = 5000,\n",
    "                shuffle=True,\n",
    "                    callbacks=[early_stopping],\n",
    "    batch_size=5000)"
   ]
  },
  {
   "cell_type": "code",
   "execution_count": 32,
   "metadata": {},
   "outputs": [],
   "source": [
    "import plotly.express as px"
   ]
  },
  {
   "cell_type": "code",
   "execution_count": 33,
   "metadata": {},
   "outputs": [
    {
     "name": "stdout",
     "output_type": "stream",
     "text": [
      "5362/5362 [==============================] - 7s 1ms/step - loss: 0.0728 - accuracy: 0.9755\n",
      "[0.07283979654312134, 0.9754946231842041]\n"
     ]
    }
   ],
   "source": [
    "scoretrain = model.evaluate(X_train_sm, y_train_sm)\n",
    "print(scoretrain)\n"
   ]
  },
  {
   "cell_type": "code",
   "execution_count": 34,
   "metadata": {},
   "outputs": [
    {
     "name": "stdout",
     "output_type": "stream",
     "text": [
      "940/940 [==============================] - 1s 1ms/step - loss: 0.1071 - accuracy: 0.9564\n",
      "[0.10714312642812729, 0.956447958946228]\n"
     ]
    }
   ],
   "source": [
    "scoretest = model.evaluate(X_test_norm, y_test)\n",
    "print(scoretest)\n",
    "\n"
   ]
  },
  {
   "cell_type": "code",
   "execution_count": 35,
   "metadata": {},
   "outputs": [],
   "source": [
    "_, train_acc = model.evaluate(X_train_sm, y_train_sm, verbose=0)\n",
    "_, test_acc = model.evaluate(X_test_norm, y_test, verbose=0)\n"
   ]
  },
  {
   "cell_type": "code",
   "execution_count": 36,
   "metadata": {},
   "outputs": [
    {
     "name": "stdout",
     "output_type": "stream",
     "text": [
      " Train: 0.9754946231842041 , Test: 0.956447958946228\n"
     ]
    }
   ],
   "source": [
    "print(f\" Train: {train_acc} , Test: {test_acc}\")"
   ]
  },
  {
   "cell_type": "code",
   "execution_count": 37,
   "metadata": {},
   "outputs": [],
   "source": [
    "# predict probabilities for test set\n",
    "yhat_probs = model.predict(X_test_norm, verbose=0)\n",
    "# predict crips classes for test set\n",
    "#yhat_classes = model.predict_classes(X_test, verbose=0)\n",
    "yhat_classes = (model.predict(X_test_norm, verbose=0) > 0.5).astype(\"int32\") "
   ]
  },
  {
   "cell_type": "code",
   "execution_count": 38,
   "metadata": {},
   "outputs": [
    {
     "name": "stdout",
     "output_type": "stream",
     "text": [
      "accuracy: 0.956447963800905\n",
      "precision: 0.5281227173119065\n",
      "Recall: 0.9883800410116199\n",
      "F1 score : 0.688407522018567\n"
     ]
    }
   ],
   "source": [
    "# reduce to 1d array\n",
    "yhat_probs = yhat_probs[:, 0]\n",
    "yhat_classes = yhat_classes[:, 0]\n",
    "\n",
    "from sklearn.metrics import accuracy_score, precision_score, f1_score\n",
    "from sklearn.metrics import recall_score, classification_report\n",
    "from sklearn.metrics import confusion_matrix, roc_curve, roc_auc_score\n",
    "\n",
    "# accuracy: (tp + tn ) / ( p + n)\n",
    "accuracy = accuracy_score(y_test, yhat_classes)\n",
    "print(f\"accuracy: {accuracy}\")\n",
    "# precision: tp / (tp + fp)\n",
    "precision = precision_score(y_test, yhat_classes)\n",
    "print(f\"precision: {precision}\")\n",
    "# recall: tp / (tp + fn)\n",
    "recall = recall_score(y_test, yhat_classes)\n",
    "print(f\"Recall: {recall}\")\n",
    "# f1 = 2 tp / (2 tp + tp + fn)\n",
    "f1 = f1_score(y_test, yhat_classes)\n",
    "print(f\"F1 score : {f1}\")"
   ]
  },
  {
   "cell_type": "code",
   "execution_count": 39,
   "metadata": {},
   "outputs": [],
   "source": [
    "from sklearn.metrics import cohen_kappa_score\n",
    "from sklearn.metrics import roc_auc_score\n",
    "from sklearn.metrics import confusion_matrix"
   ]
  },
  {
   "cell_type": "code",
   "execution_count": 40,
   "metadata": {},
   "outputs": [],
   "source": [
    "def confusion_matrix(actual, predicted):\n",
    "    plt.figure(figsize=(5,5))\n",
    "    sns.heatmap(sklearn.metrics.confusion_matrix(actual,predicted),annot=True,fmt='.5g')\n",
    "    plt.ylabel('actual class')\n",
    "    plt.xlabel('predicted class')\n",
    "    plt.show()\n"
   ]
  },
  {
   "cell_type": "code",
   "execution_count": 41,
   "metadata": {},
   "outputs": [
    {
     "data": {
      "image/png": "[encoded data removed]",
      "text/plain": [
       "<Figure size 360x360 with 2 Axes>"
      ]
     },
     "metadata": {},
     "output_type": "display_data"
    }
   ],
   "source": [
    "confusion_matrix(y_test, yhat_classes)"
   ]
  },
  {
   "cell_type": "code",
   "execution_count": 42,
   "metadata": {},
   "outputs": [],
   "source": [
    "def expected_profit(y_true,y_pred):\n",
    "    TP=0\n",
    "    FP=0\n",
    "    TN=0\n",
    "    FN=0\n",
    "    for i in range(len(y_true)):\n",
    "        if (y_true[i] != y_pred[i]) & (y_pred[i] == 1):\n",
    "            FP += 1\n",
    "        elif (y_true[i] != y_pred[i]) & (y_pred[i] == 0):\n",
    "            FN += 1\n",
    "        elif (y_true[i] == y_pred[i]) & (y_pred[i] == 0):\n",
    "            TN += 1\n",
    "        else:\n",
    "            TP += 1\n",
    "    print(f'TP ={TP}, TN = {TN}, FP = {FP}, FN = {FN}')\n",
    "    print (f'expected profit {(300 * TP - 200 * FN - 100 * FP) * 1000}')\n",
    "    return "
   ]
  },
  {
   "cell_type": "code",
   "execution_count": 43,
   "metadata": {},
   "outputs": [
    {
     "name": "stdout",
     "output_type": "stream",
     "text": [
      "TP =1446, TN = 27301, FP = 1292, FN = 17\n",
      "expected profit 301200000\n"
     ]
    }
   ],
   "source": [
    "expected_profit(y_test, yhat_classes)"
   ]
  },
  {
   "cell_type": "code",
   "execution_count": 44,
   "metadata": {},
   "outputs": [
    {
     "data": {
      "image/png": "[encoded data removed]",
      "text/plain": [
       "<Figure size 720x432 with 1 Axes>"
      ]
     },
     "metadata": {},
     "output_type": "display_data"
    }
   ],
   "source": [
    "fpr_xgb, tpr_xgb, _ = metrics.roc_curve(y_test,  yhat_probs)\n",
    "auc_xgb = metrics.auc(fpr_xgb,  tpr_xgb)\n",
    "\n",
    "plt.figure(figsize=(10, 6))\n",
    "plt.plot(fpr_xgb,tpr_xgb, label='ROC curve of NN(area = %0.2f)' % auc_xgb)\n",
    "plt.plot([0, 1], [0, 1], color='navy', lw=2, linestyle='--')\n",
    "plt.xlim([0.0, 1.0])\n",
    "plt.ylim([0.0, 1.05])\n",
    "plt.xlabel('False Positive Rate')\n",
    "plt.ylabel('True Positive Rate')\n",
    "plt.title('Receiver operating characteristic (ROC)')\n",
    "plt.legend(loc=\"lower right\")\n",
    "plt.show()"
   ]
  },
  {
   "cell_type": "code",
   "execution_count": 45,
   "metadata": {},
   "outputs": [
    {
     "name": "stdout",
     "output_type": "stream",
     "text": [
      "              precision    recall  f1-score   support\n",
      "\n",
      "           0       1.00      0.95      0.98     28593\n",
      "           1       0.53      0.99      0.69      1463\n",
      "\n",
      "    accuracy                           0.96     30056\n",
      "   macro avg       0.76      0.97      0.83     30056\n",
      "weighted avg       0.98      0.96      0.96     30056\n",
      "\n"
     ]
    }
   ],
   "source": [
    "from sklearn.metrics import classification_report\n",
    "print(classification_report(y_test,  yhat_classes))"
   ]
  },
  {
   "cell_type": "markdown",
   "metadata": {},
   "source": [
    "# Evaluation metrics on the dfval dataset:"
   ]
  },
  {
   "cell_type": "code",
   "execution_count": 46,
   "metadata": {},
   "outputs": [
    {
     "name": "stdout",
     "output_type": "stream",
     "text": [
      "accuracy: 0.9591150310187607\n",
      "precision: 0.5433673469387755\n",
      "Recall: 0.9845916795069337\n",
      "F1 score : 0.7002739726027397\n"
     ]
    }
   ],
   "source": [
    "real_x_test = dfval[input_cols].to_numpy()\n",
    "real_x_test_norm = scaler_xtrain.transform(real_x_test)\n",
    "\n",
    "real_y_test = dfval[output_cols].to_numpy()\n",
    "real_y_test = np.ravel(real_y_test)\n",
    "\n",
    "\n",
    "# predict probabilities for test set\n",
    "yhat_probs = model.predict(real_x_test_norm, verbose=0)\n",
    "# predict crips classes for test set\n",
    "#yhat_classes = model.predict_classes(X_test, verbose=0)\n",
    "yhat_classes = (model.predict(real_x_test_norm, verbose=0) > 0.5).astype(\"int32\") \n",
    "\n",
    "\n",
    "# reduce to 1d array\n",
    "yhat_probs = yhat_probs[:, 0]\n",
    "yhat_classes = yhat_classes[:, 0]\n",
    "\n",
    "# accuracy: (tp + tn ) / ( p + n)\n",
    "accuracy = accuracy_score(real_y_test, yhat_classes)\n",
    "print(f\"accuracy: {accuracy}\")\n",
    "# precision: tp / (tp + fp)\n",
    "precision = precision_score(real_y_test, yhat_classes)\n",
    "print(f\"precision: {precision}\")\n",
    "# recall: tp / (tp + fn)\n",
    "recall = recall_score(real_y_test, yhat_classes)\n",
    "print(f\"Recall: {recall}\")\n",
    "# f1 = 2 tp / (2 tp + tp + fn)\n",
    "f1 = f1_score(real_y_test, yhat_classes)\n",
    "print(f\"F1 score : {f1}\")"
   ]
  },
  {
   "cell_type": "code",
   "execution_count": 47,
   "metadata": {},
   "outputs": [
    {
     "name": "stdout",
     "output_type": "stream",
     "text": [
      "Cohen's kappa: 0.6802865694604077\n",
      "ROC AUC: 0.9937127475912142\n"
     ]
    },
    {
     "data": {
      "image/png": "[encoded data removed]",
      "text/plain": [
       "<Figure size 360x360 with 2 Axes>"
      ]
     },
     "metadata": {},
     "output_type": "display_data"
    },
    {
     "name": "stdout",
     "output_type": "stream",
     "text": [
      "None\n"
     ]
    }
   ],
   "source": [
    "# kappa\n",
    "kappa = cohen_kappa_score(real_y_test, yhat_classes)\n",
    "print(f\"Cohen's kappa: {kappa}\")\n",
    "# ROC AUC\n",
    "auc = roc_auc_score(real_y_test, yhat_probs)\n",
    "print(f\"ROC AUC: {auc}\")\n",
    "# confusion matrix\n",
    "conf_mat = confusion_matrix(real_y_test, yhat_classes)\n",
    "print(conf_mat)"
   ]
  },
  {
   "cell_type": "code",
   "execution_count": 48,
   "metadata": {},
   "outputs": [
    {
     "name": "stdout",
     "output_type": "stream",
     "text": [
      "TP =1917, TN = 36579, FP = 1611, FN = 30\n",
      "expected profit 408000000\n"
     ]
    }
   ],
   "source": [
    "expected_profit(real_y_test, yhat_classes)"
   ]
  },
  {
   "cell_type": "code",
   "execution_count": 49,
   "metadata": {},
   "outputs": [
    {
     "data": {
      "image/png": "[encoded data removed]",
      "text/plain": [
       "<Figure size 720x432 with 1 Axes>"
      ]
     },
     "metadata": {},
     "output_type": "display_data"
    }
   ],
   "source": [
    "fpr_xgb, tpr_xgb, _ = metrics.roc_curve(real_y_test,  yhat_probs)\n",
    "auc_xgb = metrics.auc(fpr_xgb,  tpr_xgb)\n",
    "\n",
    "plt.figure(figsize=(10, 6))\n",
    "plt.plot(fpr_xgb,tpr_xgb, label='ROC curve of NN(area = %0.2f)' % auc_xgb)\n",
    "plt.plot([0, 1], [0, 1], color='navy', lw=2, linestyle='--')\n",
    "plt.xlim([0.0, 1.0])\n",
    "plt.ylim([0.0, 1.05])\n",
    "plt.xlabel('False Positive Rate')\n",
    "plt.ylabel('True Positive Rate')\n",
    "plt.title('Receiver operating characteristic (ROC)')\n",
    "plt.legend(loc=\"lower right\")\n",
    "plt.show()\n"
   ]
  },
  {
   "cell_type": "code",
   "execution_count": 50,
   "metadata": {},
   "outputs": [
    {
     "name": "stdout",
     "output_type": "stream",
     "text": [
      "              precision    recall  f1-score   support\n",
      "\n",
      "           0       1.00      0.96      0.98     38190\n",
      "           1       0.54      0.98      0.70      1947\n",
      "\n",
      "    accuracy                           0.96     40137\n",
      "   macro avg       0.77      0.97      0.84     40137\n",
      "weighted avg       0.98      0.96      0.96     40137\n",
      "\n"
     ]
    }
   ],
   "source": [
    "from sklearn.metrics import classification_report\n",
    "print(classification_report(real_y_test,  yhat_classes))"
   ]
  },
  {
   "cell_type": "code",
   "execution_count": 51,
   "metadata": {},
   "outputs": [
    {
     "name": "stdout",
     "output_type": "stream",
     "text": [
      "0.9558401106926838\n"
     ]
    }
   ],
   "source": [
    "from sklearn.metrics import fowlkes_mallows_score\n",
    "\n",
    "fmi_score = fowlkes_mallows_score(real_y_test,  yhat_classes)\n",
    "print(fmi_score)\n"
   ]
  },
  {
   "cell_type": "code",
   "execution_count": 52,
   "metadata": {},
   "outputs": [
    {
     "name": "stdout",
     "output_type": "stream",
     "text": [
      "0.9937127475912142\n"
     ]
    }
   ],
   "source": [
    "from sklearn.metrics import roc_auc_score\n",
    "roc_auc = roc_auc_score(real_y_test, yhat_probs)\n",
    "print(roc_auc)\n"
   ]
  },
  {
   "cell_type": "code",
   "execution_count": 53,
   "metadata": {},
   "outputs": [
    {
     "data": {
      "image/png": "[encoded data removed]",
      "text/plain": [
       "<Figure size 720x432 with 1 Axes>"
      ]
     },
     "metadata": {},
     "output_type": "display_data"
    }
   ],
   "source": [
    "fpr_xgb, tpr_xgb, _ = metrics.roc_curve(real_y_test,  yhat_probs)\n",
    "auc_xgb = metrics.auc(fpr_xgb,  tpr_xgb)\n",
    "\n",
    "plt.figure(figsize=(10, 6))\n",
    "plt.plot(fpr_xgb,tpr_xgb, label='ROC curve of XGB(area = %0.2f)' % auc_xgb)\n",
    "plt.plot([0, 1], [0, 1], color='navy', lw=2, linestyle='--')\n",
    "plt.xlim([0.0, 1.0])\n",
    "plt.ylim([0.0, 1.05])\n",
    "plt.xlabel('False Positive Rate')\n",
    "plt.ylabel('True Positive Rate')\n",
    "plt.title('Receiver operating characteristic (ROC)')\n",
    "plt.legend(loc=\"lower right\")\n",
    "plt.show()"
   ]
  },
  {
   "cell_type": "code",
   "execution_count": 54,
   "metadata": {},
   "outputs": [],
   "source": [
    "yhat = model.predict(real_x_test_norm, verbose=0)"
   ]
  },
  {
   "cell_type": "code",
   "execution_count": 55,
   "metadata": {},
   "outputs": [
    {
     "data": {
      "image/png": "[encoded data removed]",
      "text/plain": [
       "<Figure size 748.8x514.8 with 1 Axes>"
      ]
     },
     "metadata": {},
     "output_type": "display_data"
    },
    {
     "name": "stdout",
     "output_type": "stream",
     "text": [
      "PR AUC 0.8853150963093697\n"
     ]
    }
   ],
   "source": [
    "from matplotlib import pyplot\n",
    "from sklearn.metrics import auc\n",
    "#yhat = clf.predict_proba(real_x_test_norm)\n",
    "yhat = model.predict(real_x_test_norm, verbose=0)\n",
    "\n",
    "pos_probs = yhat\n",
    "no_skill = len(real_y_test[real_y_test==1]) / len(real_y_test)\n",
    "pyplot.plot([0, 1], [no_skill, no_skill], linestyle='--', label='No Skill')\n",
    "precision, recall, _ = metrics.precision_recall_curve(real_y_test, pos_probs)\n",
    "# plot the model precision-recall curve\n",
    "auc_score = auc(recall, precision)\n",
    "pyplot.plot(recall, precision, marker='.', label='NN')\n",
    "# axis labels\n",
    "pyplot.xlabel('Recall')\n",
    "pyplot.ylabel('Precision')\n",
    "# show the legend\n",
    "pyplot.legend()\n",
    "# show the plot\n",
    "pyplot.show()\n",
    "print(f\"PR AUC {auc_score}\")"
   ]
  },
  {
   "cell_type": "markdown",
   "metadata": {},
   "source": [
    "# Save the model, the scaler object, and the dfval dataset"
   ]
  },
  {
   "cell_type": "code",
   "execution_count": 56,
   "metadata": {},
   "outputs": [],
   "source": [
    "from keras.models import model_from_json\n",
    "from keras.models import model_from_yaml\n",
    "from pickle import load\n",
    "from pickle import dump\n",
    "import sqlite3"
   ]
  },
  {
   "cell_type": "code",
   "execution_count": 57,
   "metadata": {},
   "outputs": [],
   "source": [
    "dump(scaler_xtrain, open('scaler_xtrain.pkl', 'wb'))\n",
    "model.save('model.h5')\n",
    "\n"
   ]
  },
  {
   "cell_type": "code",
   "execution_count": 58,
   "metadata": {},
   "outputs": [],
   "source": [
    "with sqlite3.connect('turbofandata.db') as connection:\n",
    "    dfval.to_sql(\n",
    "    'dfval',connection,index=False,\n",
    "    if_exists='replace')"
   ]
  },
  {
   "cell_type": "code",
   "execution_count": 59,
   "metadata": {},
   "outputs": [],
   "source": [
    "from keras.models import load_model\n"
   ]
  },
  {
   "cell_type": "code",
   "execution_count": 60,
   "metadata": {},
   "outputs": [],
   "source": [
    "model_new = load_model('model.h5')\n",
    "scaler_xtrain_new = load(open('scaler_xtrain.pkl','rb'))\n",
    "\n",
    "with sqlite3.connect('turbofandata.db') as connection:\n",
    "    dfval_new = pd.read_sql('SELECT * from dfval', connection)"
   ]
  },
  {
   "cell_type": "markdown",
   "metadata": {},
   "source": []
  }
 ],
 "metadata": {
  "kernelspec": {
   "display_name": "Python 3",
   "language": "python",
   "name": "python3"
  },
  "language_info": {
   "codemirror_mode": {
    "name": "ipython",
    "version": 3
   },
   "file_extension": ".py",
   "mimetype": "text/x-python",
   "name": "python",
   "nbconvert_exporter": "python",
   "pygments_lexer": "ipython3",
   "version": "3.8.5"
  }
 },
 "nbformat": 4,
 "nbformat_minor": 4
}
