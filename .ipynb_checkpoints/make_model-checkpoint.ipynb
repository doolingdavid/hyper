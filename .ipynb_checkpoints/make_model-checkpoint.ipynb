{
 "cells": [
  {
   "cell_type": "code",
   "execution_count": 1,
   "metadata": {},
   "outputs": [
    {
     "data": {
      "text/html": [
       "        <script type=\"text/javascript\">\n",
       "        window.PlotlyConfig = {MathJaxConfig: 'local'};\n",
       "        if (window.MathJax) {MathJax.Hub.Config({SVG: {font: \"STIX-Web\"}});}\n",
       "        if (typeof require !== 'undefined') {\n",
       "        require.undef(\"plotly\");\n",
       "        requirejs.config({\n",
       "            paths: {\n",
       "                'plotly': ['https://cdn.plot.ly/plotly-latest.min']\n",
       "            }\n",
       "        });\n",
       "        require(['plotly'], function(Plotly) {\n",
       "            window._Plotly = Plotly;\n",
       "        });\n",
       "        }\n",
       "        </script>\n",
       "        "
      ]
     },
     "metadata": {},
     "output_type": "display_data"
    }
   ],
   "source": [
    "import numpy as np\n",
    "import pandas as pd\n",
    "import matplotlib.pyplot as plt\n",
    "from pandas import Series, DataFrame\n",
    "from pandas.plotting import parallel_coordinates\n",
    "import pytz, nltk\n",
    "from pytz import common_timezones, all_timezones\n",
    "\n",
    "import scipy as sp\n",
    "import scipy.stats as stats\n",
    "import pylab\n",
    "\n",
    "\n",
    "\n",
    "import matplotlib\n",
    "matplotlib.style.use('ggplot')\n",
    "%matplotlib inline\n",
    "from datetime import datetime\n",
    "import scipy as sp\n",
    "matplotlib.style.use('seaborn-talk')\n",
    "matplotlib.style.use('fivethirtyeight');\n",
    "\n",
    "\n",
    "import scipy\n",
    "import os\n",
    "import plotly\n",
    "plotly.offline.init_notebook_mode(connected=True)"
   ]
  },
  {
   "cell_type": "markdown",
   "metadata": {},
   "source": [
    "# Load Training Data"
   ]
  },
  {
   "cell_type": "code",
   "execution_count": 2,
   "metadata": {},
   "outputs": [],
   "source": [
    "import sqlite3\n",
    "\n",
    "with sqlite3.connect('turbofandata.db') as connection:\n",
    "    dftrain = pd.read_sql('SELECT * from dftrain', connection)"
   ]
  },
  {
   "cell_type": "markdown",
   "metadata": {},
   "source": [
    "# Neural Network\n",
    "\n",
    "Use a NN to train a classfier with a new type of target. Instead of **breakdown**, make a new binary target capturing whether it will fail withint the next TTF **time_cycles** (Time to Failure)"
   ]
  },
  {
   "cell_type": "code",
   "execution_count": 3,
   "metadata": {},
   "outputs": [
    {
     "data": {
      "text/html": [
       "<div>\n",
       "<style scoped>\n",
       "    .dataframe tbody tr th:only-of-type {\n",
       "        vertical-align: middle;\n",
       "    }\n",
       "\n",
       "    .dataframe tbody tr th {\n",
       "        vertical-align: top;\n",
       "    }\n",
       "\n",
       "    .dataframe thead th {\n",
       "        text-align: right;\n",
       "    }\n",
       "</style>\n",
       "<table border=\"1\" class=\"dataframe\">\n",
       "  <thead>\n",
       "    <tr style=\"text-align: right;\">\n",
       "      <th></th>\n",
       "      <th>unit_nr</th>\n",
       "      <th>time_cycles</th>\n",
       "      <th>setting_1</th>\n",
       "      <th>setting_2</th>\n",
       "      <th>setting_3</th>\n",
       "      <th>s_1</th>\n",
       "      <th>s_2</th>\n",
       "      <th>s_3</th>\n",
       "      <th>s_4</th>\n",
       "      <th>s_5</th>\n",
       "      <th>...</th>\n",
       "      <th>s_15</th>\n",
       "      <th>s_16</th>\n",
       "      <th>s_17</th>\n",
       "      <th>s_18</th>\n",
       "      <th>s_19</th>\n",
       "      <th>s_20</th>\n",
       "      <th>s_21</th>\n",
       "      <th>RUL</th>\n",
       "      <th>breakdown</th>\n",
       "      <th>id</th>\n",
       "    </tr>\n",
       "  </thead>\n",
       "  <tbody>\n",
       "    <tr>\n",
       "      <th>0</th>\n",
       "      <td>1</td>\n",
       "      <td>1</td>\n",
       "      <td>-0.0007</td>\n",
       "      <td>-0.0004</td>\n",
       "      <td>100.0</td>\n",
       "      <td>518.67</td>\n",
       "      <td>641.82</td>\n",
       "      <td>1589.70</td>\n",
       "      <td>1400.60</td>\n",
       "      <td>14.62</td>\n",
       "      <td>...</td>\n",
       "      <td>8.4195</td>\n",
       "      <td>0.03</td>\n",
       "      <td>392</td>\n",
       "      <td>2388</td>\n",
       "      <td>100.0</td>\n",
       "      <td>39.06</td>\n",
       "      <td>23.4190</td>\n",
       "      <td>191</td>\n",
       "      <td>0</td>\n",
       "      <td>1fd_001</td>\n",
       "    </tr>\n",
       "    <tr>\n",
       "      <th>1</th>\n",
       "      <td>1</td>\n",
       "      <td>2</td>\n",
       "      <td>0.0019</td>\n",
       "      <td>-0.0003</td>\n",
       "      <td>100.0</td>\n",
       "      <td>518.67</td>\n",
       "      <td>642.15</td>\n",
       "      <td>1591.82</td>\n",
       "      <td>1403.14</td>\n",
       "      <td>14.62</td>\n",
       "      <td>...</td>\n",
       "      <td>8.4318</td>\n",
       "      <td>0.03</td>\n",
       "      <td>392</td>\n",
       "      <td>2388</td>\n",
       "      <td>100.0</td>\n",
       "      <td>39.00</td>\n",
       "      <td>23.4236</td>\n",
       "      <td>190</td>\n",
       "      <td>0</td>\n",
       "      <td>1fd_001</td>\n",
       "    </tr>\n",
       "    <tr>\n",
       "      <th>2</th>\n",
       "      <td>1</td>\n",
       "      <td>3</td>\n",
       "      <td>-0.0043</td>\n",
       "      <td>0.0003</td>\n",
       "      <td>100.0</td>\n",
       "      <td>518.67</td>\n",
       "      <td>642.35</td>\n",
       "      <td>1587.99</td>\n",
       "      <td>1404.20</td>\n",
       "      <td>14.62</td>\n",
       "      <td>...</td>\n",
       "      <td>8.4178</td>\n",
       "      <td>0.03</td>\n",
       "      <td>390</td>\n",
       "      <td>2388</td>\n",
       "      <td>100.0</td>\n",
       "      <td>38.95</td>\n",
       "      <td>23.3442</td>\n",
       "      <td>189</td>\n",
       "      <td>0</td>\n",
       "      <td>1fd_001</td>\n",
       "    </tr>\n",
       "    <tr>\n",
       "      <th>3</th>\n",
       "      <td>1</td>\n",
       "      <td>4</td>\n",
       "      <td>0.0007</td>\n",
       "      <td>0.0000</td>\n",
       "      <td>100.0</td>\n",
       "      <td>518.67</td>\n",
       "      <td>642.35</td>\n",
       "      <td>1582.79</td>\n",
       "      <td>1401.87</td>\n",
       "      <td>14.62</td>\n",
       "      <td>...</td>\n",
       "      <td>8.3682</td>\n",
       "      <td>0.03</td>\n",
       "      <td>392</td>\n",
       "      <td>2388</td>\n",
       "      <td>100.0</td>\n",
       "      <td>38.88</td>\n",
       "      <td>23.3739</td>\n",
       "      <td>188</td>\n",
       "      <td>0</td>\n",
       "      <td>1fd_001</td>\n",
       "    </tr>\n",
       "    <tr>\n",
       "      <th>4</th>\n",
       "      <td>1</td>\n",
       "      <td>5</td>\n",
       "      <td>-0.0019</td>\n",
       "      <td>-0.0002</td>\n",
       "      <td>100.0</td>\n",
       "      <td>518.67</td>\n",
       "      <td>642.37</td>\n",
       "      <td>1582.85</td>\n",
       "      <td>1406.22</td>\n",
       "      <td>14.62</td>\n",
       "      <td>...</td>\n",
       "      <td>8.4294</td>\n",
       "      <td>0.03</td>\n",
       "      <td>393</td>\n",
       "      <td>2388</td>\n",
       "      <td>100.0</td>\n",
       "      <td>38.90</td>\n",
       "      <td>23.4044</td>\n",
       "      <td>187</td>\n",
       "      <td>0</td>\n",
       "      <td>1fd_001</td>\n",
       "    </tr>\n",
       "  </tbody>\n",
       "</table>\n",
       "<p>5 rows × 29 columns</p>\n",
       "</div>"
      ],
      "text/plain": [
       "   unit_nr  time_cycles  setting_1  setting_2  setting_3     s_1     s_2  \\\n",
       "0        1            1    -0.0007    -0.0004      100.0  518.67  641.82   \n",
       "1        1            2     0.0019    -0.0003      100.0  518.67  642.15   \n",
       "2        1            3    -0.0043     0.0003      100.0  518.67  642.35   \n",
       "3        1            4     0.0007     0.0000      100.0  518.67  642.35   \n",
       "4        1            5    -0.0019    -0.0002      100.0  518.67  642.37   \n",
       "\n",
       "       s_3      s_4    s_5  ...    s_15  s_16  s_17  s_18   s_19   s_20  \\\n",
       "0  1589.70  1400.60  14.62  ...  8.4195  0.03   392  2388  100.0  39.06   \n",
       "1  1591.82  1403.14  14.62  ...  8.4318  0.03   392  2388  100.0  39.00   \n",
       "2  1587.99  1404.20  14.62  ...  8.4178  0.03   390  2388  100.0  38.95   \n",
       "3  1582.79  1401.87  14.62  ...  8.3682  0.03   392  2388  100.0  38.88   \n",
       "4  1582.85  1406.22  14.62  ...  8.4294  0.03   393  2388  100.0  38.90   \n",
       "\n",
       "      s_21  RUL  breakdown       id  \n",
       "0  23.4190  191          0  1fd_001  \n",
       "1  23.4236  190          0  1fd_001  \n",
       "2  23.3442  189          0  1fd_001  \n",
       "3  23.3739  188          0  1fd_001  \n",
       "4  23.4044  187          0  1fd_001  \n",
       "\n",
       "[5 rows x 29 columns]"
      ]
     },
     "execution_count": 3,
     "metadata": {},
     "output_type": "execute_result"
    }
   ],
   "source": [
    "dftrain.head()"
   ]
  },
  {
   "cell_type": "code",
   "execution_count": 4,
   "metadata": {},
   "outputs": [
    {
     "data": {
      "text/plain": [
       "Index(['unit_nr', 'time_cycles', 'setting_1', 'setting_2', 'setting_3', 's_1',\n",
       "       's_2', 's_3', 's_4', 's_5', 's_6', 's_7', 's_8', 's_9', 's_10', 's_11',\n",
       "       's_12', 's_13', 's_14', 's_15', 's_16', 's_17', 's_18', 's_19', 's_20',\n",
       "       's_21', 'RUL', 'breakdown', 'id'],\n",
       "      dtype='object')"
      ]
     },
     "execution_count": 4,
     "metadata": {},
     "output_type": "execute_result"
    }
   ],
   "source": [
    "dftrain.columns"
   ]
  },
  {
   "cell_type": "code",
   "execution_count": 5,
   "metadata": {},
   "outputs": [],
   "source": [
    "TTF = 10 # Can change this to get more or less \"lead time\"; ideally want it to be as large as possible\n",
    "# as large as the data supports ; as long as there are patterns in the data that the NN can leverge to\n",
    "# produce a highly/eerily accurate model."
   ]
  },
  {
   "cell_type": "markdown",
   "metadata": {},
   "source": [
    "**RUL** = Remaining Useful Life\n",
    "\n",
    "The new **label** target is 1 whenever the Remaining Useful Life is less than TTF, and 0 otherwise."
   ]
  },
  {
   "cell_type": "code",
   "execution_count": 6,
   "metadata": {},
   "outputs": [],
   "source": [
    "dftrain['label'] = np.where(dftrain['RUL'] <= TTF, 1, 0 )\n"
   ]
  },
  {
   "cell_type": "code",
   "execution_count": 7,
   "metadata": {},
   "outputs": [],
   "source": [
    "input_cols = ['time_cycles', 'setting_1', 'setting_2', 'setting_3', 's_1',\n",
    "       's_2', 's_3', 's_4', 's_5', 's_6', 's_7', 's_8', 's_9', 's_10', 's_11',\n",
    "       's_12', 's_13', 's_14', 's_15', 's_16', 's_17', 's_18', 's_19', 's_20',\n",
    "       's_21']\n",
    "#output_cols = ['breakdown']\n",
    "output_cols = ['label']\n"
   ]
  },
  {
   "cell_type": "markdown",
   "metadata": {},
   "source": [
    "The **breakdown** column is an indicator variable where 0 indicates the engine is operational, and 1 indicates that it has failed."
   ]
  },
  {
   "cell_type": "code",
   "execution_count": 8,
   "metadata": {},
   "outputs": [
    {
     "data": {
      "text/plain": [
       "0    159650\n",
       "1       709\n",
       "Name: breakdown, dtype: int64"
      ]
     },
     "execution_count": 8,
     "metadata": {},
     "output_type": "execute_result"
    }
   ],
   "source": [
    "dftrain['breakdown'].value_counts()\n"
   ]
  },
  {
   "cell_type": "code",
   "execution_count": 9,
   "metadata": {},
   "outputs": [
    {
     "data": {
      "text/plain": [
       "0    152560\n",
       "1      7799\n",
       "Name: label, dtype: int64"
      ]
     },
     "execution_count": 9,
     "metadata": {},
     "output_type": "execute_result"
    }
   ],
   "source": [
    "dftrain['label'].value_counts()\n"
   ]
  },
  {
   "cell_type": "markdown",
   "metadata": {},
   "source": [
    "Create an explicit **validation** set of some subset of ids in dftrain:\n",
    "\n",
    "set the random seed to ensure reproducibility."
   ]
  },
  {
   "cell_type": "code",
   "execution_count": 10,
   "metadata": {},
   "outputs": [
    {
     "data": {
      "text/plain": [
       "array(['26fd_004', '127fd_002', '39fd_004', '164fd_004', '10fd_002',\n",
       "       '55fd_001', '77fd_001', '193fd_002', '95fd_002', '227fd_004'],\n",
       "      dtype=object)"
      ]
     },
     "execution_count": 10,
     "metadata": {},
     "output_type": "execute_result"
    }
   ],
   "source": [
    "np.random.seed(2020)\n",
    "ids = dftrain['id'].unique()\n",
    "np.random.shuffle(ids)\n",
    "len(ids)\n",
    "ids[:10]"
   ]
  },
  {
   "cell_type": "code",
   "execution_count": 11,
   "metadata": {},
   "outputs": [
    {
     "data": {
      "text/plain": [
       "177"
      ]
     },
     "execution_count": 11,
     "metadata": {},
     "output_type": "execute_result"
    }
   ],
   "source": [
    "VAL_SIZE = 0.25\n",
    "val_index = int(len(ids)*VAL_SIZE)\n",
    "val_ids = ids[:val_index]\n",
    "dfval = dftrain[dftrain.id.isin(val_ids)].copy()\n",
    "dfval.id.nunique()"
   ]
  },
  {
   "cell_type": "code",
   "execution_count": 12,
   "metadata": {},
   "outputs": [],
   "source": [
    "from sklearn.preprocessing import StandardScaler\n",
    "from sklearn.preprocessing import MinMaxScaler\n",
    "from sklearn.preprocessing import StandardScaler\n",
    "from sklearn.preprocessing import MinMaxScaler\n",
    "from sklearn.preprocessing import StandardScaler\n",
    "from sklearn.preprocessing import MinMaxScaler\n",
    "from sklearn.preprocessing import MinMaxScaler\n",
    "from sklearn.preprocessing import minmax_scale\n",
    "from sklearn.preprocessing import MaxAbsScaler\n",
    "from sklearn.preprocessing import StandardScaler\n",
    "from sklearn.preprocessing import RobustScaler\n",
    "from sklearn.preprocessing import Normalizer\n",
    "from sklearn.preprocessing import QuantileTransformer\n",
    "from sklearn.preprocessing import PowerTransformer\n",
    "\n",
    "\n",
    "\n",
    "y = dftrain[output_cols].to_numpy()\n",
    "y = np.ravel(y)\n",
    "X = dftrain[input_cols].to_numpy()\n"
   ]
  },
  {
   "cell_type": "code",
   "execution_count": 18,
   "metadata": {},
   "outputs": [],
   "source": [
    "# Install a pip package in the current Jupyter kernel\n",
    "import sys\n",
    "#!{sys.executable} -m pip install keras\n",
    "#!{sys.executable} -m pip install tensorflow"
   ]
  },
  {
   "cell_type": "code",
   "execution_count": 20,
   "metadata": {},
   "outputs": [],
   "source": [
    "# import required libraries\n",
    "import pandas as pd\n",
    "import numpy as np\n",
    "import sklearn\n",
    "from sklearn import metrics\n",
    "from sklearn.ensemble import RandomForestRegressor\n",
    "from sklearn.metrics import mean_absolute_error\n",
    "from sklearn.metrics import r2_score\n",
    "from sklearn.metrics import mean_squared_error\n",
    "from sklearn.linear_model import LinearRegression\n",
    "from sklearn.preprocessing import MinMaxScaler\n",
    "from sklearn.model_selection import train_test_split, cross_val_score\n",
    "import keras\n",
    "import keras.backend as K\n",
    "from keras.layers.core import Activation\n",
    "from keras.layers import Dense , LSTM, Dropout\n",
    "from keras.models import Sequential, load_model\n",
    "import seaborn as sns\n",
    "import matplotlib.pyplot as plt\n",
    "from pylab import rcParams\n",
    "import math\n",
    "\n",
    "#import xgboost\n",
    "import time\n",
    "from tqdm import tqdm\n"
   ]
  },
  {
   "cell_type": "markdown",
   "metadata": {},
   "source": [
    "First break up into a training and test set, then address the class imbalance problem\n",
    "on just the training set."
   ]
  },
  {
   "cell_type": "code",
   "execution_count": 21,
   "metadata": {},
   "outputs": [],
   "source": [
    "\n",
    "\n",
    "X_train, X_test, y_train, y_test = train_test_split(X, y,stratify=y,\n",
    "                        random_state=17,test_size=0.25)\n"
   ]
  },
  {
   "cell_type": "code",
   "execution_count": 22,
   "metadata": {},
   "outputs": [
    {
     "data": {
      "text/plain": [
       "0    0.951367\n",
       "1    0.048633\n",
       "dtype: float64"
      ]
     },
     "execution_count": 22,
     "metadata": {},
     "output_type": "execute_result"
    }
   ],
   "source": [
    "pd.Series(y_train).value_counts(normalize=True)\n"
   ]
  },
  {
   "cell_type": "code",
   "execution_count": 23,
   "metadata": {},
   "outputs": [
    {
     "data": {
      "text/plain": [
       "0    0.951359\n",
       "1    0.048641\n",
       "dtype: float64"
      ]
     },
     "execution_count": 23,
     "metadata": {},
     "output_type": "execute_result"
    }
   ],
   "source": [
    "pd.Series(y_test).value_counts(normalize=True)"
   ]
  },
  {
   "cell_type": "code",
   "execution_count": 26,
   "metadata": {},
   "outputs": [],
   "source": [
    "#!{sys.executable} -m pip install imblearn"
   ]
  },
  {
   "cell_type": "markdown",
   "metadata": {},
   "source": [
    "Apply the StandardScaler normalization **BEFORE** oversampling or SMOTE."
   ]
  },
  {
   "cell_type": "code",
   "execution_count": 27,
   "metadata": {},
   "outputs": [],
   "source": [
    "scaler_xtrain = StandardScaler()\n",
    "scaler_xtrain.fit(X_train)\n",
    "X_train_norm = scaler_xtrain.transform(X_train) \n",
    "X_test_norm = scaler_xtrain.transform(X_test)\n",
    "\n",
    "\n",
    "from imblearn.over_sampling import SMOTE\n",
    "\n",
    "USE_SMOTE = False\n",
    "USE_ROS = True\n",
    "\n",
    "if USE_SMOTE:\n",
    "\n",
    "    from imblearn.over_sampling import SMOTE\n",
    "    smote = SMOTE(sampling_strategy='minority')\n",
    "    #smote = SMOTE(sampling_strategy=0.5)\n",
    "    X_train_sm, y_train_sm = smote.fit_sample(X_train_norm, y_train)\n",
    "\n",
    "\n",
    "\n",
    "if USE_ROS:\n",
    "    from imblearn.over_sampling import RandomOverSampler\n",
    "    ros = RandomOverSampler(random_state=0)\n",
    "    X_train_sm, y_train_sm = ros.fit_sample(X_train_norm, y_train)\n"
   ]
  },
  {
   "cell_type": "code",
   "execution_count": 28,
   "metadata": {},
   "outputs": [
    {
     "data": {
      "text/plain": [
       "1    114420\n",
       "0    114420\n",
       "dtype: int64"
      ]
     },
     "execution_count": 28,
     "metadata": {},
     "output_type": "execute_result"
    }
   ],
   "source": [
    "pd.Series(y_train_sm).value_counts()"
   ]
  },
  {
   "cell_type": "code",
   "execution_count": 29,
   "metadata": {},
   "outputs": [
    {
     "data": {
      "text/plain": [
       "((228840, 25), (228840,))"
      ]
     },
     "execution_count": 29,
     "metadata": {},
     "output_type": "execute_result"
    }
   ],
   "source": [
    "X_train_sm.shape, y_train_sm.shape"
   ]
  },
  {
   "cell_type": "markdown",
   "metadata": {},
   "source": [
    "* X_train_sm, y_train_sm\n",
    "* X_test_norm, y_test\n",
    "* scaler_xtrain"
   ]
  },
  {
   "cell_type": "code",
   "execution_count": 30,
   "metadata": {},
   "outputs": [],
   "source": [
    "import pandas\n",
    "from keras.models import Sequential\n",
    "from keras.layers import Dense\n",
    "from keras.wrappers.scikit_learn import KerasClassifier\n",
    "from sklearn.model_selection import cross_val_score\n",
    "from sklearn.preprocessing import LabelEncoder\n",
    "from sklearn.model_selection import StratifiedKFold\n",
    "from sklearn.preprocessing import StandardScaler\n",
    "from sklearn.pipeline import Pipeline\n",
    "\n",
    "import keras\n",
    "from keras import layers\n",
    "from keras.layers import Dense, Dropout\n",
    "from keras.models import Sequential\n",
    "import keras.regularizers as regularizers\n",
    "from keras import optimizers"
   ]
  },
  {
   "cell_type": "code",
   "execution_count": 31,
   "metadata": {},
   "outputs": [
    {
     "data": {
      "text/plain": [
       "((25,), 25, (228840, 25))"
      ]
     },
     "execution_count": 31,
     "metadata": {},
     "output_type": "execute_result"
    }
   ],
   "source": [
    "X_train_sm.shape[1:], X_train_norm.shape[1], X_train_sm.shape\n"
   ]
  },
  {
   "cell_type": "code",
   "execution_count": 32,
   "metadata": {},
   "outputs": [
    {
     "name": "stdout",
     "output_type": "stream",
     "text": [
      "Model: \"sequential\"\n",
      "_________________________________________________________________\n",
      "Layer (type)                 Output Shape              Param #   \n",
      "=================================================================\n",
      "dense (Dense)                (None, 50)                1300      \n",
      "_________________________________________________________________\n",
      "dropout (Dropout)            (None, 50)                0         \n",
      "_________________________________________________________________\n",
      "dense_1 (Dense)              (None, 45)                2295      \n",
      "_________________________________________________________________\n",
      "dense_2 (Dense)              (None, 45)                2070      \n",
      "_________________________________________________________________\n",
      "dropout_1 (Dropout)          (None, 45)                0         \n",
      "_________________________________________________________________\n",
      "dense_3 (Dense)              (None, 25)                1150      \n",
      "_________________________________________________________________\n",
      "dense_4 (Dense)              (None, 1)                 26        \n",
      "=================================================================\n",
      "Total params: 6,841\n",
      "Trainable params: 6,841\n",
      "Non-trainable params: 0\n",
      "_________________________________________________________________\n"
     ]
    }
   ],
   "source": [
    "import keras\n",
    "from keras.layers import Dense, Dropout\n",
    "from keras.models import Sequential\n",
    "import keras.regularizers as regularizers\n",
    "from keras import optimizers\n",
    "\n",
    "early_stopping = keras.callbacks.EarlyStopping(monitor='val_accuracy')\n",
    "\n",
    "model = Sequential()\n",
    "model.add(Dense(50, input_dim=X_train_sm.shape[1], activation='relu',\n",
    "            kernel_initializer=keras.initializers.GlorotNormal()))\n",
    "model.add(Dropout(0.1))\n",
    "model.add(Dense(45,activation='relu',\n",
    "            kernel_initializer=keras.initializers.GlorotNormal()))\n",
    "model.add(Dense(45, activation='relu',\n",
    "            kernel_initializer=keras.initializers.GlorotNormal()))\n",
    "model.add(Dropout(0.1))\n",
    "model.add(Dense(25,  activation='relu',\n",
    "            kernel_initializer=keras.initializers.GlorotNormal()))\n",
    "model.add(Dense(1, activation='sigmoid'))\n",
    "\n",
    "\n",
    "\n",
    "\n",
    "opt_defaultparams = keras.optimizers.Adamax(learning_rate=0.001,\n",
    "                             beta_1=0.9, beta_2=0.999,\n",
    "                    epsilon=1e-07, name=\"Adamax\")\n",
    "\n",
    "opt = keras.optimizers.Adamax(learning_rate=0.0005,\n",
    "                             beta_1=0.9, beta_2=0.999,\n",
    "                    epsilon=1e-07, name=\"Adamax\")\n",
    "\n",
    "\n",
    "\n",
    "model.compile(optimizer=opt_defaultparams,\n",
    "                 loss='binary_crossentropy',metrics=['accuracy'])\n",
    "model.summary()\n"
   ]
  },
  {
   "cell_type": "markdown",
   "metadata": {},
   "source": [
    "evaluate the cell below multiple times; increasing the batch size\n",
    "with each iteration."
   ]
  },
  {
   "cell_type": "code",
   "execution_count": 84,
   "metadata": {},
   "outputs": [],
   "source": [
    "#history = model.fit(X_train_sm,\n",
    "#                y_train_sm, \n",
    "#        validation_data = (X_test_norm, y_test),\n",
    "#    epochs = 5000,\n",
    "#                shuffle=True,\n",
    "#                    callbacks=[early_stopping],\n",
    "#    batch_size=1024)"
   ]
  },
  {
   "cell_type": "code",
   "execution_count": 33,
   "metadata": {},
   "outputs": [
    {
     "name": "stdout",
     "output_type": "stream",
     "text": [
      "Epoch 1/5000\n",
      "28605/28605 [==============================] - 26s 900us/step - loss: 0.2783 - accuracy: 0.8824 - val_loss: 0.2207 - val_accuracy: 0.9126\n",
      "Epoch 2/5000\n",
      "28605/28605 [==============================] - 26s 913us/step - loss: 0.1309 - accuracy: 0.9532 - val_loss: 0.1342 - val_accuracy: 0.9449\n",
      "Epoch 3/5000\n",
      "28605/28605 [==============================] - 29s 1ms/step - loss: 0.1158 - accuracy: 0.9597 - val_loss: 0.1115 - val_accuracy: 0.9526\n",
      "Epoch 4/5000\n",
      "28605/28605 [==============================] - 26s 924us/step - loss: 0.1084 - accuracy: 0.9620 - val_loss: 0.1018 - val_accuracy: 0.9571\n",
      "Epoch 5/5000\n",
      "28605/28605 [==============================] - 28s 974us/step - loss: 0.1058 - accuracy: 0.9630 - val_loss: 0.1100 - val_accuracy: 0.9537\n",
      "Epoch 1/5000\n",
      "28605/28605 [==============================] - 27s 934us/step - loss: 0.1013 - accuracy: 0.9645 - val_loss: 0.1319 - val_accuracy: 0.9469\n",
      "Epoch 2/5000\n",
      "28605/28605 [==============================] - 27s 940us/step - loss: 0.0998 - accuracy: 0.9654 - val_loss: 0.1307 - val_accuracy: 0.9428\n",
      "Epoch 1/5000\n",
      "14303/14303 [==============================] - 19s 1ms/step - loss: 0.0959 - accuracy: 0.9668 - val_loss: 0.0922 - val_accuracy: 0.9597\n",
      "Epoch 2/5000\n",
      "14303/14303 [==============================] - 19s 1ms/step - loss: 0.0949 - accuracy: 0.9673 - val_loss: 0.1085 - val_accuracy: 0.9527\n",
      "Epoch 1/5000\n",
      "14303/14303 [==============================] - 20s 1ms/step - loss: 0.0939 - accuracy: 0.9677 - val_loss: 0.1000 - val_accuracy: 0.9571\n",
      "Epoch 2/5000\n",
      "14303/14303 [==============================] - 19s 1ms/step - loss: 0.0930 - accuracy: 0.9676 - val_loss: 0.1094 - val_accuracy: 0.9516\n",
      "Epoch 1/5000\n",
      "7152/7152 [==============================] - 10s 1ms/step - loss: 0.0907 - accuracy: 0.9686 - val_loss: 0.1020 - val_accuracy: 0.9559\n",
      "Epoch 2/5000\n",
      "7152/7152 [==============================] - 10s 1ms/step - loss: 0.0906 - accuracy: 0.9686 - val_loss: 0.1257 - val_accuracy: 0.9507\n",
      "Epoch 1/5000\n",
      "7152/7152 [==============================] - 10s 1ms/step - loss: 0.0896 - accuracy: 0.9694 - val_loss: 0.1201 - val_accuracy: 0.9510\n",
      "Epoch 2/5000\n",
      "7152/7152 [==============================] - 10s 1ms/step - loss: 0.0894 - accuracy: 0.9690 - val_loss: 0.1192 - val_accuracy: 0.9520\n",
      "Epoch 3/5000\n",
      "7152/7152 [==============================] - 10s 1ms/step - loss: 0.0891 - accuracy: 0.9695 - val_loss: 0.1012 - val_accuracy: 0.9551\n",
      "Epoch 4/5000\n",
      "7152/7152 [==============================] - 10s 1ms/step - loss: 0.0891 - accuracy: 0.9695 - val_loss: 0.1205 - val_accuracy: 0.9495\n",
      "Epoch 1/5000\n",
      "3576/3576 [==============================] - 5s 1ms/step - loss: 0.0865 - accuracy: 0.9704 - val_loss: 0.0994 - val_accuracy: 0.9587\n",
      "Epoch 2/5000\n",
      "3576/3576 [==============================] - 5s 1ms/step - loss: 0.0863 - accuracy: 0.9707 - val_loss: 0.1025 - val_accuracy: 0.9574\n",
      "Epoch 1/5000\n",
      "3576/3576 [==============================] - 5s 1ms/step - loss: 0.0858 - accuracy: 0.9705 - val_loss: 0.1089 - val_accuracy: 0.9559\n",
      "Epoch 2/5000\n",
      "3576/3576 [==============================] - 5s 1ms/step - loss: 0.0857 - accuracy: 0.9706 - val_loss: 0.1186 - val_accuracy: 0.9531\n",
      "Epoch 1/5000\n",
      "1788/1788 [==============================] - 3s 2ms/step - loss: 0.0844 - accuracy: 0.9714 - val_loss: 0.1051 - val_accuracy: 0.9557\n",
      "Epoch 2/5000\n",
      "1788/1788 [==============================] - 3s 2ms/step - loss: 0.0844 - accuracy: 0.9713 - val_loss: 0.0924 - val_accuracy: 0.9592\n",
      "Epoch 3/5000\n",
      "1788/1788 [==============================] - 3s 2ms/step - loss: 0.0834 - accuracy: 0.9714 - val_loss: 0.1016 - val_accuracy: 0.9585\n",
      "Epoch 1/5000\n",
      "1788/1788 [==============================] - 3s 2ms/step - loss: 0.0836 - accuracy: 0.9717 - val_loss: 0.1095 - val_accuracy: 0.9544\n",
      "Epoch 2/5000\n",
      "1788/1788 [==============================] - 3s 2ms/step - loss: 0.0839 - accuracy: 0.9714 - val_loss: 0.0953 - val_accuracy: 0.9591\n",
      "Epoch 3/5000\n",
      "1788/1788 [==============================] - 3s 2ms/step - loss: 0.0834 - accuracy: 0.9715 - val_loss: 0.0997 - val_accuracy: 0.9582\n",
      "Epoch 1/5000\n",
      "894/894 [==============================] - 2s 2ms/step - loss: 0.0813 - accuracy: 0.9725 - val_loss: 0.1043 - val_accuracy: 0.9560\n",
      "Epoch 2/5000\n",
      "894/894 [==============================] - 2s 2ms/step - loss: 0.0814 - accuracy: 0.9722 - val_loss: 0.0966 - val_accuracy: 0.9598\n",
      "Epoch 3/5000\n",
      "894/894 [==============================] - 2s 2ms/step - loss: 0.0813 - accuracy: 0.9725 - val_loss: 0.1047 - val_accuracy: 0.9576\n",
      "Epoch 1/5000\n",
      "894/894 [==============================] - 2s 2ms/step - loss: 0.0815 - accuracy: 0.9728 - val_loss: 0.1030 - val_accuracy: 0.9582\n",
      "Epoch 2/5000\n",
      "894/894 [==============================] - 2s 2ms/step - loss: 0.0811 - accuracy: 0.9728 - val_loss: 0.1096 - val_accuracy: 0.9540\n",
      "Epoch 1/5000\n",
      "447/447 [==============================] - 1s 3ms/step - loss: 0.0797 - accuracy: 0.9734 - val_loss: 0.0987 - val_accuracy: 0.9593\n",
      "Epoch 2/5000\n",
      "447/447 [==============================] - 1s 2ms/step - loss: 0.0797 - accuracy: 0.9730 - val_loss: 0.0931 - val_accuracy: 0.9603\n",
      "Epoch 3/5000\n",
      "447/447 [==============================] - 1s 2ms/step - loss: 0.0798 - accuracy: 0.9731 - val_loss: 0.0948 - val_accuracy: 0.9601\n",
      "Epoch 1/5000\n",
      "447/447 [==============================] - 1s 3ms/step - loss: 0.0797 - accuracy: 0.9733 - val_loss: 0.0923 - val_accuracy: 0.9611\n",
      "Epoch 2/5000\n",
      "447/447 [==============================] - 1s 2ms/step - loss: 0.0797 - accuracy: 0.9730 - val_loss: 0.0984 - val_accuracy: 0.9588\n",
      "Epoch 1/5000\n",
      "224/224 [==============================] - 1s 3ms/step - loss: 0.0782 - accuracy: 0.9739 - val_loss: 0.0938 - val_accuracy: 0.9608\n",
      "Epoch 2/5000\n",
      "224/224 [==============================] - 1s 4ms/step - loss: 0.0788 - accuracy: 0.9736 - val_loss: 0.1074 - val_accuracy: 0.9563\n",
      "Epoch 1/5000\n",
      "224/224 [==============================] - 1s 3ms/step - loss: 0.0787 - accuracy: 0.9736 - val_loss: 0.0993 - val_accuracy: 0.9593\n",
      "Epoch 2/5000\n",
      "224/224 [==============================] - 1s 3ms/step - loss: 0.0782 - accuracy: 0.9738 - val_loss: 0.0989 - val_accuracy: 0.9591\n",
      "Epoch 1/5000\n",
      "224/224 [==============================] - 1s 4ms/step - loss: 0.0783 - accuracy: 0.9737 - val_loss: 0.1051 - val_accuracy: 0.9562\n",
      "Epoch 2/5000\n",
      "224/224 [==============================] - 1s 3ms/step - loss: 0.0789 - accuracy: 0.9736 - val_loss: 0.0969 - val_accuracy: 0.9597\n",
      "Epoch 3/5000\n",
      "224/224 [==============================] - 1s 4ms/step - loss: 0.0777 - accuracy: 0.9741 - val_loss: 0.1000 - val_accuracy: 0.9591\n"
     ]
    }
   ],
   "source": [
    "batch_sizes = [8,8,16,16,32,32,64,64,128,128,256,256,512,512,1024,1024,1024]\n",
    "\n",
    "for b in batch_sizes:\n",
    "    history = model.fit(X_train_sm,\n",
    "                y_train_sm, \n",
    "        validation_data = (X_test_norm, y_test),\n",
    "    epochs = 5000,\n",
    "                shuffle=True,\n",
    "                    callbacks=[early_stopping],\n",
    "    batch_size=b)"
   ]
  },
  {
   "cell_type": "code",
   "execution_count": 37,
   "metadata": {},
   "outputs": [
    {
     "name": "stdout",
     "output_type": "stream",
     "text": [
      "Epoch 1/5000\n",
      "113/113 [==============================] - 1s 5ms/step - loss: 0.0769 - accuracy: 0.9744 - val_loss: 0.0919 - val_accuracy: 0.9619\n",
      "Epoch 2/5000\n",
      "113/113 [==============================] - 1s 5ms/step - loss: 0.0772 - accuracy: 0.9744 - val_loss: 0.0956 - val_accuracy: 0.9606\n"
     ]
    }
   ],
   "source": [
    "history = model.fit(X_train_sm,\n",
    "                y_train_sm, \n",
    "        validation_data = (X_test_norm, y_test),\n",
    "    epochs = 5000,\n",
    "                shuffle=True,\n",
    "                    callbacks=[early_stopping],\n",
    "    batch_size=2028)"
   ]
  },
  {
   "cell_type": "code",
   "execution_count": 38,
   "metadata": {},
   "outputs": [
    {
     "name": "stdout",
     "output_type": "stream",
     "text": [
      "Epoch 1/5000\n",
      "46/46 [==============================] - 0s 9ms/step - loss: 0.0759 - accuracy: 0.9749 - val_loss: 0.0979 - val_accuracy: 0.9608\n",
      "Epoch 2/5000\n",
      "46/46 [==============================] - 0s 8ms/step - loss: 0.0757 - accuracy: 0.9747 - val_loss: 0.0935 - val_accuracy: 0.9615\n",
      "Epoch 3/5000\n",
      "46/46 [==============================] - 0s 9ms/step - loss: 0.0756 - accuracy: 0.9752 - val_loss: 0.0959 - val_accuracy: 0.9610\n"
     ]
    }
   ],
   "source": [
    "history = model.fit(X_train_sm,\n",
    "                y_train_sm, \n",
    "        validation_data = (X_test_norm, y_test),\n",
    "    epochs = 5000,\n",
    "                shuffle=True,\n",
    "                    callbacks=[early_stopping],\n",
    "    batch_size=5000)"
   ]
  },
  {
   "cell_type": "code",
   "execution_count": 39,
   "metadata": {},
   "outputs": [],
   "source": [
    "import plotly.express as px"
   ]
  },
  {
   "cell_type": "code",
   "execution_count": 40,
   "metadata": {},
   "outputs": [
    {
     "name": "stdout",
     "output_type": "stream",
     "text": [
      "7152/7152 [==============================] - 5s 646us/step - loss: 0.0710 - accuracy: 0.97670s - loss: 0.0741 - accuracy: 0. - ETA: 0s - loss: 0.0\n",
      "[0.07101314514875412, 0.976730465888977]\n"
     ]
    }
   ],
   "source": [
    "scoretrain = model.evaluate(X_train_sm, y_train_sm)\n",
    "print(scoretrain)\n"
   ]
  },
  {
   "cell_type": "code",
   "execution_count": 41,
   "metadata": {},
   "outputs": [
    {
     "name": "stdout",
     "output_type": "stream",
     "text": [
      "1253/1253 [==============================] - 1s 659us/step - loss: 0.0959 - accuracy: 0.9610\n",
      "[0.09592241793870926, 0.9610376358032227]\n"
     ]
    }
   ],
   "source": [
    "scoretest = model.evaluate(X_test_norm, y_test)\n",
    "print(scoretest)\n",
    "\n"
   ]
  },
  {
   "cell_type": "code",
   "execution_count": 42,
   "metadata": {},
   "outputs": [],
   "source": [
    "_, train_acc = model.evaluate(X_train_sm, y_train_sm, verbose=0)\n",
    "_, test_acc = model.evaluate(X_test_norm, y_test, verbose=0)\n"
   ]
  },
  {
   "cell_type": "code",
   "execution_count": 43,
   "metadata": {},
   "outputs": [
    {
     "name": "stdout",
     "output_type": "stream",
     "text": [
      " Train: 0.976730465888977 , Test: 0.9610376358032227\n"
     ]
    }
   ],
   "source": [
    "print(f\" Train: {train_acc} , Test: {test_acc}\")"
   ]
  },
  {
   "cell_type": "code",
   "execution_count": 44,
   "metadata": {},
   "outputs": [],
   "source": [
    "# predict probabilities for test set\n",
    "yhat_probs = model.predict(X_test_norm, verbose=0)\n",
    "# predict crips classes for test set\n",
    "#yhat_classes = model.predict_classes(X_test, verbose=0)\n",
    "yhat_classes = (model.predict(X_test_norm, verbose=0) > 0.5).astype(\"int32\") "
   ]
  },
  {
   "cell_type": "code",
   "execution_count": 45,
   "metadata": {},
   "outputs": [
    {
     "name": "stdout",
     "output_type": "stream",
     "text": [
      "accuracy: 0.9610376652531804\n",
      "precision: 0.5565597667638484\n",
      "Recall: 0.978974358974359\n",
      "F1 score : 0.7096654275092937\n"
     ]
    }
   ],
   "source": [
    "# reduce to 1d array\n",
    "yhat_probs = yhat_probs[:, 0]\n",
    "yhat_classes = yhat_classes[:, 0]\n",
    "\n",
    "from sklearn.metrics import accuracy_score, precision_score, f1_score\n",
    "from sklearn.metrics import recall_score, classification_report\n",
    "from sklearn.metrics import confusion_matrix, roc_curve, roc_auc_score\n",
    "\n",
    "# accuracy: (tp + tn ) / ( p + n)\n",
    "accuracy = accuracy_score(y_test, yhat_classes)\n",
    "print(f\"accuracy: {accuracy}\")\n",
    "# precision: tp / (tp + fp)\n",
    "precision = precision_score(y_test, yhat_classes)\n",
    "print(f\"precision: {precision}\")\n",
    "# recall: tp / (tp + fn)\n",
    "recall = recall_score(y_test, yhat_classes)\n",
    "print(f\"Recall: {recall}\")\n",
    "# f1 = 2 tp / (2 tp + tp + fn)\n",
    "f1 = f1_score(y_test, yhat_classes)\n",
    "print(f\"F1 score : {f1}\")"
   ]
  },
  {
   "cell_type": "code",
   "execution_count": 46,
   "metadata": {},
   "outputs": [],
   "source": [
    "from sklearn.metrics import cohen_kappa_score\n",
    "from sklearn.metrics import roc_auc_score\n",
    "from sklearn.metrics import confusion_matrix"
   ]
  },
  {
   "cell_type": "code",
   "execution_count": 47,
   "metadata": {},
   "outputs": [],
   "source": [
    "def confusion_matrix(actual, predicted):\n",
    "    plt.figure(figsize=(5,5))\n",
    "    sns.heatmap(sklearn.metrics.confusion_matrix(actual,predicted),annot=True,fmt='.5g')\n",
    "    plt.ylabel('actual class')\n",
    "    plt.xlabel('predicted class')\n",
    "    plt.show()\n"
   ]
  },
  {
   "cell_type": "code",
   "execution_count": 48,
   "metadata": {},
   "outputs": [
    {
     "data": {
      "image/png": "[encoded data removed]",
      "text/plain": [
       "<Figure size 360x360 with 2 Axes>"
      ]
     },
     "metadata": {},
     "output_type": "display_data"
    }
   ],
   "source": [
    "confusion_matrix(y_test, yhat_classes)"
   ]
  },
  {
   "cell_type": "code",
   "execution_count": 49,
   "metadata": {},
   "outputs": [],
   "source": [
    "def expected_profit(y_true,y_pred):\n",
    "    TP=0\n",
    "    FP=0\n",
    "    TN=0\n",
    "    FN=0\n",
    "    for i in range(len(y_true)):\n",
    "        if (y_true[i] != y_pred[i]) & (y_pred[i] == 1):\n",
    "            FP += 1\n",
    "        elif (y_true[i] != y_pred[i]) & (y_pred[i] == 0):\n",
    "            FN += 1\n",
    "        elif (y_true[i] == y_pred[i]) & (y_pred[i] == 0):\n",
    "            TN += 1\n",
    "        else:\n",
    "            TP += 1\n",
    "    print(f'TP ={TP}, TN = {TN}, FP = {FP}, FN = {FN}')\n",
    "    print (f'expected profit {(300 * TP - 200 * FN - 100 * FP) * 1000}')\n",
    "    return "
   ]
  },
  {
   "cell_type": "code",
   "execution_count": 50,
   "metadata": {},
   "outputs": [
    {
     "name": "stdout",
     "output_type": "stream",
     "text": [
      "TP =1909, TN = 36619, FP = 1521, FN = 41\n",
      "expected profit 412400000\n"
     ]
    }
   ],
   "source": [
    "expected_profit(y_test, yhat_classes)"
   ]
  },
  {
   "cell_type": "code",
   "execution_count": 51,
   "metadata": {},
   "outputs": [
    {
     "data": {
      "image/png": "[encoded data removed]",
      "text/plain": [
       "<Figure size 720x432 with 1 Axes>"
      ]
     },
     "metadata": {},
     "output_type": "display_data"
    }
   ],
   "source": [
    "fpr_xgb, tpr_xgb, _ = metrics.roc_curve(y_test,  yhat_probs)\n",
    "auc_xgb = metrics.auc(fpr_xgb,  tpr_xgb)\n",
    "\n",
    "plt.figure(figsize=(10, 6))\n",
    "plt.plot(fpr_xgb,tpr_xgb, label='ROC curve of NN(area = %0.2f)' % auc_xgb)\n",
    "plt.plot([0, 1], [0, 1], color='navy', lw=2, linestyle='--')\n",
    "plt.xlim([0.0, 1.0])\n",
    "plt.ylim([0.0, 1.05])\n",
    "plt.xlabel('False Positive Rate')\n",
    "plt.ylabel('True Positive Rate')\n",
    "plt.title('Receiver operating characteristic (ROC)')\n",
    "plt.legend(loc=\"lower right\")\n",
    "plt.show()"
   ]
  },
  {
   "cell_type": "code",
   "execution_count": 52,
   "metadata": {},
   "outputs": [
    {
     "name": "stdout",
     "output_type": "stream",
     "text": [
      "              precision    recall  f1-score   support\n",
      "\n",
      "           0       1.00      0.96      0.98     38140\n",
      "           1       0.56      0.98      0.71      1950\n",
      "\n",
      "    accuracy                           0.96     40090\n",
      "   macro avg       0.78      0.97      0.84     40090\n",
      "weighted avg       0.98      0.96      0.97     40090\n",
      "\n"
     ]
    }
   ],
   "source": [
    "from sklearn.metrics import classification_report\n",
    "print(classification_report(y_test,  yhat_classes))"
   ]
  },
  {
   "cell_type": "markdown",
   "metadata": {},
   "source": [
    "# Evaluation metrics on the dfval dataset:"
   ]
  },
  {
   "cell_type": "code",
   "execution_count": 53,
   "metadata": {},
   "outputs": [
    {
     "name": "stdout",
     "output_type": "stream",
     "text": [
      "accuracy: 0.9640232204698906\n",
      "precision: 0.5751868460388639\n",
      "Recall: 0.9881869542886492\n",
      "F1 score : 0.72713529856387\n"
     ]
    }
   ],
   "source": [
    "real_x_test = dfval[input_cols].to_numpy()\n",
    "real_x_test_norm = scaler_xtrain.transform(real_x_test)\n",
    "\n",
    "real_y_test = dfval[output_cols].to_numpy()\n",
    "real_y_test = np.ravel(real_y_test)\n",
    "\n",
    "\n",
    "# predict probabilities for test set\n",
    "yhat_probs = model.predict(real_x_test_norm, verbose=0)\n",
    "# predict crips classes for test set\n",
    "#yhat_classes = model.predict_classes(X_test, verbose=0)\n",
    "yhat_classes = (model.predict(real_x_test_norm, verbose=0) > 0.5).astype(\"int32\") \n",
    "\n",
    "\n",
    "# reduce to 1d array\n",
    "yhat_probs = yhat_probs[:, 0]\n",
    "yhat_classes = yhat_classes[:, 0]\n",
    "\n",
    "# accuracy: (tp + tn ) / ( p + n)\n",
    "accuracy = accuracy_score(real_y_test, yhat_classes)\n",
    "print(f\"accuracy: {accuracy}\")\n",
    "# precision: tp / (tp + fp)\n",
    "precision = precision_score(real_y_test, yhat_classes)\n",
    "print(f\"precision: {precision}\")\n",
    "# recall: tp / (tp + fn)\n",
    "recall = recall_score(real_y_test, yhat_classes)\n",
    "print(f\"Recall: {recall}\")\n",
    "# f1 = 2 tp / (2 tp + tp + fn)\n",
    "f1 = f1_score(real_y_test, yhat_classes)\n",
    "print(f\"F1 score : {f1}\")"
   ]
  },
  {
   "cell_type": "code",
   "execution_count": 54,
   "metadata": {},
   "outputs": [
    {
     "name": "stdout",
     "output_type": "stream",
     "text": [
      "Cohen's kappa: 0.7093090990353907\n",
      "ROC AUC: 0.99476310766337\n"
     ]
    },
    {
     "data": {
      "image/png": "[encoded data removed]",
      "text/plain": [
       "<Figure size 360x360 with 2 Axes>"
      ]
     },
     "metadata": {},
     "output_type": "display_data"
    },
    {
     "name": "stdout",
     "output_type": "stream",
     "text": [
      "None\n"
     ]
    }
   ],
   "source": [
    "# kappa\n",
    "kappa = cohen_kappa_score(real_y_test, yhat_classes)\n",
    "print(f\"Cohen's kappa: {kappa}\")\n",
    "# ROC AUC\n",
    "auc = roc_auc_score(real_y_test, yhat_probs)\n",
    "print(f\"ROC AUC: {auc}\")\n",
    "# confusion matrix\n",
    "conf_mat = confusion_matrix(real_y_test, yhat_classes)\n",
    "print(conf_mat)"
   ]
  },
  {
   "cell_type": "code",
   "execution_count": 55,
   "metadata": {},
   "outputs": [
    {
     "name": "stdout",
     "output_type": "stream",
     "text": [
      "TP =1924, TN = 36769, FP = 1421, FN = 23\n",
      "expected profit 430500000\n"
     ]
    }
   ],
   "source": [
    "expected_profit(real_y_test, yhat_classes)"
   ]
  },
  {
   "cell_type": "code",
   "execution_count": 56,
   "metadata": {},
   "outputs": [
    {
     "data": {
      "image/png": "[encoded data removed]",
      "text/plain": [
       "<Figure size 720x432 with 1 Axes>"
      ]
     },
     "metadata": {},
     "output_type": "display_data"
    }
   ],
   "source": [
    "fpr_xgb, tpr_xgb, _ = metrics.roc_curve(real_y_test,  yhat_probs)\n",
    "auc_xgb = metrics.auc(fpr_xgb,  tpr_xgb)\n",
    "\n",
    "plt.figure(figsize=(10, 6))\n",
    "plt.plot(fpr_xgb,tpr_xgb, label='ROC curve of NN(area = %0.2f)' % auc_xgb)\n",
    "plt.plot([0, 1], [0, 1], color='navy', lw=2, linestyle='--')\n",
    "plt.xlim([0.0, 1.0])\n",
    "plt.ylim([0.0, 1.05])\n",
    "plt.xlabel('False Positive Rate')\n",
    "plt.ylabel('True Positive Rate')\n",
    "plt.title('Receiver operating characteristic (ROC)')\n",
    "plt.legend(loc=\"lower right\")\n",
    "plt.show()\n"
   ]
  },
  {
   "cell_type": "code",
   "execution_count": 57,
   "metadata": {},
   "outputs": [
    {
     "name": "stdout",
     "output_type": "stream",
     "text": [
      "              precision    recall  f1-score   support\n",
      "\n",
      "           0       1.00      0.96      0.98     38190\n",
      "           1       0.58      0.99      0.73      1947\n",
      "\n",
      "    accuracy                           0.96     40137\n",
      "   macro avg       0.79      0.98      0.85     40137\n",
      "weighted avg       0.98      0.96      0.97     40137\n",
      "\n"
     ]
    }
   ],
   "source": [
    "from sklearn.metrics import classification_report\n",
    "print(classification_report(real_y_test,  yhat_classes))"
   ]
  },
  {
   "cell_type": "code",
   "execution_count": 58,
   "metadata": {},
   "outputs": [
    {
     "name": "stdout",
     "output_type": "stream",
     "text": [
      "0.9610433428646145\n"
     ]
    }
   ],
   "source": [
    "from sklearn.metrics import fowlkes_mallows_score\n",
    "\n",
    "fmi_score = fowlkes_mallows_score(real_y_test,  yhat_classes)\n",
    "print(fmi_score)\n"
   ]
  },
  {
   "cell_type": "code",
   "execution_count": 59,
   "metadata": {},
   "outputs": [
    {
     "name": "stdout",
     "output_type": "stream",
     "text": [
      "0.99476310766337\n"
     ]
    }
   ],
   "source": [
    "from sklearn.metrics import roc_auc_score\n",
    "roc_auc = roc_auc_score(real_y_test, yhat_probs)\n",
    "print(roc_auc)\n"
   ]
  },
  {
   "cell_type": "code",
   "execution_count": 60,
   "metadata": {},
   "outputs": [
    {
     "data": {
      "image/png": "[encoded data removed]",
      "text/plain": [
       "<Figure size 720x432 with 1 Axes>"
      ]
     },
     "metadata": {},
     "output_type": "display_data"
    }
   ],
   "source": [
    "fpr_xgb, tpr_xgb, _ = metrics.roc_curve(real_y_test,  yhat_probs)\n",
    "auc_xgb = metrics.auc(fpr_xgb,  tpr_xgb)\n",
    "\n",
    "plt.figure(figsize=(10, 6))\n",
    "plt.plot(fpr_xgb,tpr_xgb, label='ROC curve of XGB(area = %0.2f)' % auc_xgb)\n",
    "plt.plot([0, 1], [0, 1], color='navy', lw=2, linestyle='--')\n",
    "plt.xlim([0.0, 1.0])\n",
    "plt.ylim([0.0, 1.05])\n",
    "plt.xlabel('False Positive Rate')\n",
    "plt.ylabel('True Positive Rate')\n",
    "plt.title('Receiver operating characteristic (ROC)')\n",
    "plt.legend(loc=\"lower right\")\n",
    "plt.show()"
   ]
  },
  {
   "cell_type": "code",
   "execution_count": 61,
   "metadata": {},
   "outputs": [],
   "source": [
    "yhat = model.predict(real_x_test_norm, verbose=0)"
   ]
  },
  {
   "cell_type": "code",
   "execution_count": 62,
   "metadata": {},
   "outputs": [
    {
     "data": {
      "image/png": "[encoded data removed]",
      "text/plain": [
       "<Figure size 748.8x514.8 with 1 Axes>"
      ]
     },
     "metadata": {},
     "output_type": "display_data"
    },
    {
     "name": "stdout",
     "output_type": "stream",
     "text": [
      "PR AUC 0.898884562322722\n"
     ]
    }
   ],
   "source": [
    "from matplotlib import pyplot\n",
    "from sklearn.metrics import auc\n",
    "#yhat = clf.predict_proba(real_x_test_norm)\n",
    "yhat = model.predict(real_x_test_norm, verbose=0)\n",
    "\n",
    "pos_probs = yhat\n",
    "no_skill = len(real_y_test[real_y_test==1]) / len(real_y_test)\n",
    "pyplot.plot([0, 1], [no_skill, no_skill], linestyle='--', label='No Skill')\n",
    "precision, recall, _ = metrics.precision_recall_curve(real_y_test, pos_probs)\n",
    "# plot the model precision-recall curve\n",
    "auc_score = auc(recall, precision)\n",
    "pyplot.plot(recall, precision, marker='.', label='NN')\n",
    "# axis labels\n",
    "pyplot.xlabel('Recall')\n",
    "pyplot.ylabel('Precision')\n",
    "# show the legend\n",
    "pyplot.legend()\n",
    "# show the plot\n",
    "pyplot.show()\n",
    "print(f\"PR AUC {auc_score}\")"
   ]
  },
  {
   "cell_type": "markdown",
   "metadata": {},
   "source": [
    "# Save the model, the scaler object, and the dfval dataset"
   ]
  },
  {
   "cell_type": "code",
   "execution_count": 63,
   "metadata": {},
   "outputs": [],
   "source": [
    "from keras.models import model_from_json\n",
    "from keras.models import model_from_yaml\n",
    "from pickle import load\n",
    "from pickle import dump\n",
    "import sqlite3"
   ]
  },
  {
   "cell_type": "code",
   "execution_count": 64,
   "metadata": {},
   "outputs": [],
   "source": [
    "dump(scaler_xtrain, open('scaler_xtrain.pkl', 'wb'))\n",
    "model.save('model.h5')\n",
    "\n"
   ]
  },
  {
   "cell_type": "code",
   "execution_count": 65,
   "metadata": {},
   "outputs": [],
   "source": [
    "with sqlite3.connect('turbofandata.db') as connection:\n",
    "    dfval.to_sql(\n",
    "    'dfval',connection,index=False,\n",
    "    if_exists='replace')"
   ]
  },
  {
   "cell_type": "code",
   "execution_count": 66,
   "metadata": {},
   "outputs": [],
   "source": [
    "from keras.models import load_model\n"
   ]
  },
  {
   "cell_type": "code",
   "execution_count": 67,
   "metadata": {},
   "outputs": [],
   "source": [
    "model_new = load_model('model.h5')\n",
    "scaler_xtrain_new = load(open('scaler_xtrain.pkl','rb'))\n",
    "\n",
    "with sqlite3.connect('turbofandata.db') as connection:\n",
    "    dfval_new = pd.read_sql('SELECT * from dfval', connection)"
   ]
  },
  {
   "cell_type": "markdown",
   "metadata": {},
   "source": []
  }
 ],
 "metadata": {
  "kernelspec": {
   "display_name": "Python 3",
   "language": "python",
   "name": "python3"
  },
  "language_info": {
   "codemirror_mode": {
    "name": "ipython",
    "version": 3
   },
   "file_extension": ".py",
   "mimetype": "text/x-python",
   "name": "python",
   "nbconvert_exporter": "python",
   "pygments_lexer": "ipython3",
   "version": "3.8.5"
  }
 },
 "nbformat": 4,
 "nbformat_minor": 4
}
